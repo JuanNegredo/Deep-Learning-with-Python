{
 "cells": [
  {
   "cell_type": "markdown",
   "metadata": {},
   "source": [
    "# Ch. 6 Deep learning for text and sequences\n",
    "\n",
    "This section explore deep learning models that can process text, timeseries, and sequence data in general. The two fundamental deep learning algorithms for sequence processing are ***recurrent neural networks*** and ***1D convenets***, which is a one dimensional version of 2D convnets. Applications of these algorithms include:\n",
    " - Document classification and timeseries classification, such as identifying the topic of an article or author of a book.\n",
    " - Timeseries comparisons, such as estimating how closely related two documents or two stock tickers are.\n",
    " - Sequence-to-sequence learning, such as decoding an English sentence into French.\n",
    " - Sentiment analysis, such as classifying the sentiment of tweets or movie reviews as positive or negative.\n",
    " - Timeseries forecasting, such as predicting the future weather at a certain location, given recent weather data.\n",
    " \n",
    "## 6.1 Working with text data\n",
    "Text can be unstood as either a sequence of characters or a sequence of words, but working with words is most common. Deep learning for natural language processing is pattern recognition applied to words, sentences, and paragraphs, in much the same way that computer vision is pattern recognition applied to pixels.\n",
    "\n",
    "Deep learning models don't take raw text as input; they only work with numeric tensors. ***Vectorizing*** text is the process of transforming text into numeric tensors, and it can be done in multiple ways:\n",
    " - Segment text into words, and transform each word into a vector.\n",
    " - Segment text into characters, and transform each n-gram into a vector.\n",
    " - Extract n-grams of words or characters, and transform each n-gram into a vector. *N-grams* are overlapping groups of multiple consecutive words or characters.\n",
    " \n",
    "The different units we can break text into are called ***tokens***, and breaking text into tokens is called ***tokenization***. There are two major ways to associate a vector with a token: *one-hot encoding* of tokens, and *token embedding*.\n",
    "\n",
    "![text token vector](images/6_1_0_text.jpg)\n",
    "\n",
    "**UNDERSTANDING N-GRAMS AND BAG-OF-WORDS**\n",
    "Word n-grams are groups of N (or fewer) consecutive words that you can extract from a sentence. The same concept may also be applied to letters.\n",
    "\n",
    "Here is a simple example. Consider the sentence *\"The cat sat on the mat.\"* It may be decomposed into the following set of 2-grams:\n",
    "\n",
    "`{\"The\",\"The cat\",\"cat\",\"cat sat\",\"sat\",\"sat on\",\"on\",\"on the\",\"the\",\"the mat\",\"mat\"}`\n",
    "\n",
    "It may also be decomposed into a set of 3-grams:\n",
    "\n",
    "`{\"The\",\"The cat\",\"cat\",\"cat sat\",\"The cat sat\",\"sat\",\"sat on\",\"on\",\"cat sat on\",\n",
    "  \"on the\",\"the\",\"sat on the\",\"the mat\",\"mat\",\"on the mat\"}`\n",
    "  \n",
    "The above sets are called a *bag-of-2-grams* or *bag-of-3-grams*, respectively. The term bag refers to the fact that we are dealing with a set of tokens rather than a list or sequence: the tokens have no specific order. This family of tokenization methods is called *bag-of-words*.\n",
    "\n",
    "Because bag-of-words isn't an order-preserving tokenization method, it tends to be used in shallow language-processing models rather than in deep learning models. Extracting n-grams is a form of feature engineering, and deep learning does away with this kind of rigid, brittle approach, replacing it with hierarchical feature learning. 1D convnets and RNNs are capable of learning representations for groups of words and characters without being explicitly told about the existence of such groups, by looking at continuous word or character sequences. \n",
    "\n",
    "### 6.1.1 One-hot encoding of words and characters\n",
    "One-hot encoding is the most common, most basic way to turn a token into a vector.\n",
    "\n",
    "Let's look at an example of one-hot encoding with words:"
   ]
  },
  {
   "cell_type": "code",
   "execution_count": 1,
   "metadata": {
    "collapsed": true
   },
   "outputs": [],
   "source": [
    "import numpy as np\n",
    "\n",
    "# initial data. One entry per sample\n",
    "samples = ['The cat sat on the mat.', 'The dog at my homework.']\n",
    "\n",
    "# Build an index of all tokens in data\n",
    "token_index = {}\n",
    "for sample in samples:\n",
    "    for word in sample.split():\n",
    "        if word not in token_index:\n",
    "            token_index[word] = len(token_index) + 1\n",
    "            \n",
    "# Vectorizes the samples. Only consider first 10 words            \n",
    "max_length = 10\n",
    "\n",
    "# Store results\n",
    "results = np.zeros(shape=(len(samples), max_length, max(token_index.values()) + 1))\n",
    "\n",
    "for i, samples in enumerate(samples):\n",
    "    for j, word in list(enumerate(sample.split()))[:max_length]:\n",
    "        index = token_index.get(word)\n",
    "        results[i, j, index] = 1."
   ]
  },
  {
   "cell_type": "markdown",
   "metadata": {},
   "source": [
    "And an example of one-hot encoding with characters:"
   ]
  },
  {
   "cell_type": "code",
   "execution_count": 3,
   "metadata": {},
   "outputs": [
    {
     "name": "stdout",
     "output_type": "stream",
     "text": [
      "0123456789abcdefghijklmnopqrstuvwxyzABCDEFGHIJKLMNOPQRSTUVWXYZ!\"#$%&'()*+,-./:;<=>?@[\\]^_`{|}~ \t\n",
      "\r",
      "\u000b",
      "\f",
      "\n"
     ]
    }
   ],
   "source": [
    "import string\n",
    "\n",
    "samples = ['The cat sat on the mat.', 'The dog ate my homework.']\n",
    "characters = string.printable # all printable ASCII characters\n",
    "token_index = dict(zip(range(1, len(characters) + 1), characters))"
   ]
  },
  {
   "cell_type": "code",
   "execution_count": 6,
   "metadata": {
    "collapsed": true
   },
   "outputs": [],
   "source": [
    "samples = ['The cat sat on the mat.', 'The dog ate my homework.']\n",
    "characters = string.printable # all printable ASCII characters\n",
    "token_index = dict(zip(range(1, len(characters) + 1), characters))\n",
    "\n",
    "max_length = 50\n",
    "results = np.zeros((len(samples), max_length, max(token_index.keys()) + 1))\n",
    "for i, sample in enumerate(samples):\n",
    "    for j, character in enumerate(sample):\n",
    "        index = token_index.get(character)\n",
    "        results[i, j, index] = 1."
   ]
  },
  {
   "cell_type": "markdown",
   "metadata": {},
   "source": [
    "Now that we did it the hard way, let's observe how Keras has built-in utilities for doing one-hot encoding of text at the word level or character level, starting with raw text data. These utilities are useful because they strip special characters from strings and only take the *N* most common words into account."
   ]
  },
  {
   "cell_type": "code",
   "execution_count": 13,
   "metadata": {},
   "outputs": [
    {
     "name": "stdout",
     "output_type": "stream",
     "text": [
      "Found 9 unique tokens.\n"
     ]
    }
   ],
   "source": [
    "from keras.preprocessing.text import Tokenizer\n",
    "\n",
    "samples = ['The cat sat on the mat.', 'The dog ate my homework.']\n",
    "\n",
    "# create a tokenizer to take only most 1000 common words\n",
    "tokenizer = Tokenizer(num_words=1000)\n",
    "\n",
    "# build the word index\n",
    "tokenizer.fit_on_texts(samples)\n",
    "\n",
    "# turn strings into lists of integer indices\n",
    "sequences = tokenizer.texts_to_sequences(samples)\n",
    "\n",
    "one_hot_results = tokenizer.texts_to_matrix(samples, mode='binary')\n",
    "\n",
    "# recover word index\n",
    "word_index = tokenizer.word_index\n",
    "print \"Found %s unique tokens.\" % len(word_index)"
   ]
  },
  {
   "cell_type": "code",
   "execution_count": 14,
   "metadata": {},
   "outputs": [
    {
     "data": {
      "text/plain": [
       "{'ate': 7,\n",
       " 'cat': 2,\n",
       " 'dog': 6,\n",
       " 'homework': 9,\n",
       " 'mat': 5,\n",
       " 'my': 8,\n",
       " 'on': 4,\n",
       " 'sat': 3,\n",
       " 'the': 1}"
      ]
     },
     "execution_count": 14,
     "metadata": {},
     "output_type": "execute_result"
    }
   ],
   "source": [
    "word_index"
   ]
  },
  {
   "cell_type": "markdown",
   "metadata": {},
   "source": [
    "**HASHING TRICK**\n",
    "\n",
    "A variant of one-hot encoding is the *one-hot hashing trick*, which you can use when the number of unique tokens in your vocabulary is too large to handle explicitly. Instead of explicitly assigning an index to each word and keeping a reference of these indices in a dictionary, you can hash words into vectors of fixed size. The advantage of this method is that it does away with maintaining an explicit word index, which saves memory and allows online encoding of the data. The one drawback is that this method is susceptible to *hash collisions*: two different words may end up with the same hash.\n",
    "\n",
    "Let's see a code example:"
   ]
  },
  {
   "cell_type": "code",
   "execution_count": 16,
   "metadata": {
    "collapsed": true
   },
   "outputs": [],
   "source": [
    "samples = ['The cat sat on the mat.', 'The dog ate my homework.']\n",
    "\n",
    "# Stores the words as vectors of size 1000\n",
    "dimensionality = 1000\n",
    "max_length = 10\n",
    "\n",
    "results = np.zeros((len(samples), max_length, dimensionality))\n",
    "for i, sample in enumerate(samples):\n",
    "    for j, word in list(enumerate(sample.split()))[:max_length]:\n",
    "        index = abs(hash(word)) % dimensionality\n",
    "        results[i, j, index] = 1."
   ]
  },
  {
   "cell_type": "markdown",
   "metadata": {},
   "source": [
    "### 6.1.2 Using word embeddings\n",
    "Another popular and powerful way to associate a vector with a word is the use of dense ***word vectors***, aka ***word embeddings***. While vectors obtained through one-hot encoding are binary, sparse, and very high-dimensional, word embeddings are low-dimensional floating-point vectors. Unlike word vectors obtained via one-hot encoding, word embeddings are learned from data. It's common to see word embeddings that are 512-dimensional, or 1,024-dimensional when dealing with very large vocabularies, but one-hot encoding words generally lead to vectors that are 20,000-dimensional or greater. Word embeddings pack more information into far fewer dimensions.\n",
    "\n",
    "![word embeddings](images/6_1_2_embeddings.jpg)\n",
    "\n",
    "There are two ways to obtain word embeddings:\n",
    " - Learn word embeddings jointly with the main task you care about (such as document classification or sentiment prediction). In this setup, you start with random word vectors and then learn word vectors in the same way you learn the weights of a neural network.\n",
    " - Load word embeddings into your model that were precomputed using a different machine learning task than the one you're trying to solve. These are called *pretrained word embeddings*.\n",
    " \n",
    "Let's dive deeper into both:\n",
    "\n",
    "**LEARNING WORD EMBEDDINGS WITH THE EMBEDDING LAYER**\n",
    "\n",
    "The simplest way to associate a dense vector with a word is to choose the vector at random. The problem with this approach is that the resulting embedding space has no structure: for instance, the words *accurate* and *exact* may end up with completely different embeddings, even though they're interchangeable in most sentences. It's difficult for a deep neural network to make sense of such a noisy, unstructured embedding space.\n",
    "\n",
    "Word embeddings are meant to map human language into a geometric space. In a reasonable embedding space, you would expect synonyms to be embedded into similar word vectors, and words meaning different things are embedded at points far away from each other, whereas related words are closer. Let's look at an example.\n",
    "\n",
    "![word embedding example](images/6_1_2_space.jpg)\n",
    "\n",
    "In the image about, four words are embedded on a 2D plane: *cat, dog, wolf,* and *tiger*. With the vector representations we chose here, some semantic relationships between these words can be encoded as geometric transformations. For instance, the same vector allows us to go from *cat* to *tiger* and from *dog* to *wolf*: this vector could be interpreted as the \"from pet to wild animal\" vector. Another vector could allow us to go from *dog* to *cat* and from *wolf* to *tiger*, which could be interpreted as a \"from canine to feline\" vector.\n",
    "\n",
    "In real-world word-embedding spaces, common examples of meaningful geometric transformations are \"gender\" vectors and \"plural\" vectors. For instance, by adding a \"femal\" vector to the vector \"king,\" we obtain the vector \"queen\". By adding a \"plural\" vector, we obtain \"kings\". \n",
    "\n",
    "What makes a good word-embedding space depends heavily on your task: the perfect word-embedding space for an English-language movie-review sentiment analysis model may look different from the perfect embedding space for an English-language legal-document-classification model, because the importance of certain semantic relationships varies from task to task. Thus, it's reasonable to learn a new embedding space with every new task. Fortunately, backpropagation makes this easy, and Keras makes it even easier. It's about learning the weights of an **`Embedding`** layer."
   ]
  },
  {
   "cell_type": "code",
   "execution_count": 17,
   "metadata": {
    "collapsed": true
   },
   "outputs": [],
   "source": [
    "from keras.layers import Embedding\n",
    "\n",
    "# Embedding layer takes two arguments: number of possible tokens & dimen. of embeddings\n",
    "embedding_layer = Embedding(1000, 64)"
   ]
  },
  {
   "cell_type": "markdown",
   "metadata": {},
   "source": [
    "The **`Embedding`** layer is best understood as a dictionary that maps interger indices (words) to dense vectors. It takes integers as its input, looks up these integers in an internal dictionary, and then returns the associated vectors. \n",
    "\n",
    "The **`Embedding`** layer takes a 2D tensor of integers as an input, of shape (`samples, sequence_length`), where each entry is a sequence of integers. All sequences in a batch must have the same length, so sequences that are shorter than others should be padded with zeros, and longer sequences should be truncated.\n",
    "\n",
    "This layer returns a 3D floating-point tensor of shape (`samples, sequence_length, embedding_dimensionality`). This tensor can be processed by an RNN layer or a 1D convolution layer.\n",
    "\n",
    "Let's apply this idea to the IMDB movie-review sentiment-prediction task. We will quickly prepare the data by restricting the movie reviews to the top 10,000 most common words and cut off the reviews after only 20 words. The network will learn 8-dimensional embeddings for each of the 10,000 words, turn the input integer sequences (2D integer tensor) into embedded sequences (3D float tensor), flatten the tensor to 2D, and train a single `Dense` layer on top for classification.\n",
    "\n",
    "**LOADING IMDB DATA FOR USE WITH EMBEDDING LAYER**"
   ]
  },
  {
   "cell_type": "code",
   "execution_count": 18,
   "metadata": {
    "collapsed": true
   },
   "outputs": [],
   "source": [
    "from keras.datasets import imdb\n",
    "from keras import preprocessing\n",
    "\n",
    "# number of words to consider as features\n",
    "max_features = 10000\n",
    "\n",
    "# cut off text after this many words\n",
    "maxlen = 20\n",
    "\n",
    "# load data as list of integers\n",
    "(x_train, y_train), (x_test, y_test) = imdb.load_data(num_words=max_features)\n",
    "\n",
    "# turn list of integers into a 2D integer tensor of shape (samples, maxlen)\n",
    "x_train = preprocessing.sequence.pad_sequences(x_train, maxlen=maxlen)\n",
    "x_test = preprocessing.sequence.pad_sequences(x_test, maxlen=maxlen)"
   ]
  },
  {
   "cell_type": "markdown",
   "metadata": {},
   "source": [
    "**USING EMBEDING LAYER AND CLASSIFIER ON IMDB DATA**"
   ]
  },
  {
   "cell_type": "code",
   "execution_count": 20,
   "metadata": {},
   "outputs": [
    {
     "name": "stdout",
     "output_type": "stream",
     "text": [
      "_________________________________________________________________\n",
      "Layer (type)                 Output Shape              Param #   \n",
      "=================================================================\n",
      "embedding_3 (Embedding)      (None, 20, 8)             80000     \n",
      "_________________________________________________________________\n",
      "flatten_2 (Flatten)          (None, 160)               0         \n",
      "_________________________________________________________________\n",
      "dense_1 (Dense)              (None, 1)                 161       \n",
      "=================================================================\n",
      "Total params: 80,161\n",
      "Trainable params: 80,161\n",
      "Non-trainable params: 0\n",
      "_________________________________________________________________\n"
     ]
    }
   ],
   "source": [
    "from keras.models import Sequential\n",
    "from keras.layers import Flatten, Dense\n",
    "\n",
    "model = Sequential()\n",
    "\n",
    "# specify max input length to embedding layer so we can later flatten embedded inputs\n",
    "model.add(Embedding(10000, 8, input_length=maxlen))\n",
    "\n",
    "model.add(Flatten())\n",
    "\n",
    "# Add classifier on top\n",
    "model.add(Dense(1, activation='sigmoid'))\n",
    "model.compile(optimizer='rmsprop', loss='binary_crossentropy', metrics=['acc'])\n",
    "model.summary()"
   ]
  },
  {
   "cell_type": "code",
   "execution_count": 21,
   "metadata": {},
   "outputs": [
    {
     "name": "stdout",
     "output_type": "stream",
     "text": [
      "Train on 20000 samples, validate on 5000 samples\n",
      "Epoch 1/10\n",
      "20000/20000 [==============================] - 2s - loss: 0.6685 - acc: 0.6234 - val_loss: 0.6174 - val_acc: 0.6938\n",
      "Epoch 2/10\n",
      "20000/20000 [==============================] - 2s - loss: 0.5389 - acc: 0.7539 - val_loss: 0.5247 - val_acc: 0.7316\n",
      "Epoch 3/10\n",
      "20000/20000 [==============================] - 2s - loss: 0.4580 - acc: 0.7928 - val_loss: 0.5014 - val_acc: 0.7478\n",
      "Epoch 4/10\n",
      "20000/20000 [==============================] - 2s - loss: 0.4186 - acc: 0.8104 - val_loss: 0.4951 - val_acc: 0.7518\n",
      "Epoch 5/10\n",
      "20000/20000 [==============================] - 2s - loss: 0.3915 - acc: 0.8250 - val_loss: 0.4958 - val_acc: 0.7536\n",
      "Epoch 6/10\n",
      "20000/20000 [==============================] - 2s - loss: 0.3697 - acc: 0.8375 - val_loss: 0.5003 - val_acc: 0.7512\n",
      "Epoch 7/10\n",
      "20000/20000 [==============================] - 2s - loss: 0.3502 - acc: 0.8503 - val_loss: 0.5062 - val_acc: 0.7502\n",
      "Epoch 8/10\n",
      "20000/20000 [==============================] - 2s - loss: 0.3321 - acc: 0.8602 - val_loss: 0.5135 - val_acc: 0.7498\n",
      "Epoch 9/10\n",
      "20000/20000 [==============================] - 2s - loss: 0.3146 - acc: 0.8701 - val_loss: 0.5218 - val_acc: 0.7470\n",
      "Epoch 10/10\n",
      "20000/20000 [==============================] - 2s - loss: 0.2981 - acc: 0.8786 - val_loss: 0.5295 - val_acc: 0.7452\n"
     ]
    }
   ],
   "source": [
    "history = model.fit(x_train, y_train, epochs=10, batch_size=32, validation_split=0.2)"
   ]
  },
  {
   "cell_type": "markdown",
   "metadata": {},
   "source": [
    "We get a validation accuracy of ~75%, which isn't bad considering we are only looking at the first 20 words of each review. By merely flattening the embedded sequences and training a single `Dense` layer on top leads to a model that treats each word in the input sequence separately, without considering inter-word relationships and sentence structure (\"this movie is the bomb\" vs. \"this movie was a bomb\"). It's better to add recurrent layers or 1D convolutional layers on top of the embedded sequences to learn features that take each sequence as a whole into account.\n",
    "\n",
    "**USING PRETRAINED WORD EMBEDDINGS**\n",
    "Sometimes, you have so little training data available that you can't use your data alone to learn an appropriate task-specific embedding of your vocabulary. What do you do then?\n",
    "\n",
    "Instead of learning word embeddings jointly with the problem you want to solve, you can load embedding vectors from precomputed embedding space that you know if highly structures and exhibits useful properties that capture generic aspects of language structure. \n",
    "\n",
    "Such word embeddings are generally computed using word-occurrence statistics, using a variety of techniques, some involving neural networks, others not. There are various precomputed databases of word embeddings that you can download and use in a Keras `Embedding` layer. Word2vec is one of them. Another popular one is called Global Vectors for Word Representation (GLoVE).\n",
    "\n",
    "### 6.1.3 Putting it all together: from raw text to word embeddings\n",
    "We'll use a model similar to the one above: embedding sentences in sequences of vectors, flattening them, and training a `Dense` layer on top. But we'll do so using pretrained word embeddings. And instead of using the pretokenized IMDB data packaged in Keras, we will start from scratch using raw text data.\n",
    "\n",
    "**DOWNLOADING THE IMDB DATA AS RAW TEXT**"
   ]
  },
  {
   "cell_type": "code",
   "execution_count": 22,
   "metadata": {
    "collapsed": true
   },
   "outputs": [],
   "source": [
    "import os\n",
    "\n",
    "imdb_dir = '/Volumes/RobStorage/Desktop/Python_Practice/DL_with_Python/data/IMDB/aclImdb'\n",
    "train_dir = os.path.join(imdb_dir, 'train')\n",
    "\n",
    "labels = []\n",
    "texts = []\n",
    "\n",
    "for label_type in ['neg', 'pos']:\n",
    "    dir_name = os.path.join(train_dir, label_type)\n",
    "    for fname in os.listdir(dir_name):\n",
    "        if fname[-4:] == '.txt':\n",
    "            f = open(os.path.join(dir_name, fname))\n",
    "            texts.append(f.read())\n",
    "            f.close()\n",
    "            if label_type == 'neg':\n",
    "                labels.append(0)\n",
    "            else:\n",
    "                labels.append(1)"
   ]
  },
  {
   "cell_type": "markdown",
   "metadata": {},
   "source": [
    "**TOKENIZING THE DATA**\n",
    "\n",
    "Let's vectorize the text and prepare a training and validation split. Because pretrained word embeddings are meant to be particularly useful on problems where little training data is available, we'll restrict the training data to the first 200 samples. Our model will learn to classify movie reviews are looking at **just 200 samples**!"
   ]
  },
  {
   "cell_type": "code",
   "execution_count": 23,
   "metadata": {},
   "outputs": [
    {
     "name": "stdout",
     "output_type": "stream",
     "text": [
      "Found 88584 unique tokens.\n",
      "Shape of data tensor: (25000, 100)\n",
      "Shape of label tensor: (25000,)\n"
     ]
    }
   ],
   "source": [
    "from keras.preprocessing.text import Tokenizer\n",
    "from keras.preprocessing.sequence import pad_sequences\n",
    "import numpy as np\n",
    "\n",
    "# Cut off reviews after 100 words\n",
    "maxlen = 100\n",
    "\n",
    "# Trains on 200 samples\n",
    "training_samples = 200\n",
    "\n",
    "# Validates on 10,000 samples\n",
    "validation_samples = 10000\n",
    "\n",
    "# Consider only top 10,000 words in dataset\n",
    "max_words = 10000\n",
    "\n",
    "tokenizer = Tokenizer(num_words=max_words)\n",
    "tokenizer.fit_on_texts(texts)\n",
    "sequences = tokenizer.texts_to_sequences(texts)\n",
    "word_index = tokenizer.word_index\n",
    "\n",
    "print \"Found %s unique tokens.\" % len(word_index)\n",
    "\n",
    "data = pad_sequences(sequences, maxlen=maxlen)\n",
    "\n",
    "labels = np.asarray(labels)\n",
    "print \"Shape of data tensor:\", data.shape\n",
    "print \"Shape of label tensor:\", labels.shape\n",
    "\n",
    "# Split data into a training & validation set\n",
    "# Shuffle data first because samples are all negative first\n",
    "indices = np.arange(data.shape[0])\n",
    "np.random.shuffle(indices)\n",
    "data = data[indices]\n",
    "labels = labels[indices]\n",
    "\n",
    "x_train = data[:training_samples]\n",
    "y_train = labels[:training_samples]\n",
    "x_val = data[training_samples: training_samples + validation_samples]\n",
    "y_val = labels[training_samples: training_samples + validation_samples]"
   ]
  },
  {
   "cell_type": "markdown",
   "metadata": {},
   "source": [
    "**DOWNLOAD GLoVE WORD EMBEDDINGS**\n",
    "\n",
    "The GLoVE word embeddings contain 100-dimensional embedding vectors for 400,000 words."
   ]
  },
  {
   "cell_type": "code",
   "execution_count": 24,
   "metadata": {
    "collapsed": true
   },
   "outputs": [],
   "source": [
    "glove_dir = '/Volumes/RobStorage/Desktop/Python_Practice/DL_with_Python/data/IMDB/glove.6B'"
   ]
  },
  {
   "cell_type": "markdown",
   "metadata": {},
   "source": [
    "**PREPROCESSING THE EMBEDDINGS**\n",
    "\n",
    "Let's parse the unzipped file to build an index that maps words (as strings) to their vector representation (as number vectors)."
   ]
  },
  {
   "cell_type": "code",
   "execution_count": 25,
   "metadata": {},
   "outputs": [
    {
     "name": "stdout",
     "output_type": "stream",
     "text": [
      "Found 400000 word vectors.\n"
     ]
    }
   ],
   "source": [
    "embeddings_index = {}\n",
    "f = open(os.path.join(glove_dir, 'glove.6B.100d.txt'))\n",
    "for line in f:\n",
    "    values = line.split()\n",
    "    word = values[0]\n",
    "    coefs = np.asarray(values[1:], dtype='float32')\n",
    "    embeddings_index[word] = coefs\n",
    "f.close()\n",
    "\n",
    "print \"Found %s word vectors.\" % len(embeddings_index)"
   ]
  },
  {
   "cell_type": "markdown",
   "metadata": {},
   "source": [
    "Now we will build an embedding matrix that we can load into an `Embedding` layer. It must be a matrix of shape (`max_words, embedding_dim`). Note that index 0 is a placeholder and isn't supposed to stand for any word or token.\n",
    "\n",
    "**PREPARING THE GLoVE WORD-EMBEDDINGS MATRIX**"
   ]
  },
  {
   "cell_type": "code",
   "execution_count": 26,
   "metadata": {
    "collapsed": true
   },
   "outputs": [],
   "source": [
    "embedding_dim = 100\n",
    "\n",
    "embedding_matrix = np.zeros((max_words, embedding_dim))\n",
    "for word, i in word_index.items():\n",
    "    if i < max_words:\n",
    "        embedding_vector = embeddings_index.get(word)\n",
    "        if embedding_vector is not None:\n",
    "            embedding_matrix[i] = embedding_vector # words not found in embedding = 0"
   ]
  },
  {
   "cell_type": "markdown",
   "metadata": {},
   "source": [
    "**DEFINE A MODEL**\n",
    "We will use the same model architecture as before."
   ]
  },
  {
   "cell_type": "code",
   "execution_count": 27,
   "metadata": {},
   "outputs": [
    {
     "name": "stdout",
     "output_type": "stream",
     "text": [
      "_________________________________________________________________\n",
      "Layer (type)                 Output Shape              Param #   \n",
      "=================================================================\n",
      "embedding_4 (Embedding)      (None, 100, 100)          1000000   \n",
      "_________________________________________________________________\n",
      "flatten_3 (Flatten)          (None, 10000)             0         \n",
      "_________________________________________________________________\n",
      "dense_2 (Dense)              (None, 32)                320032    \n",
      "_________________________________________________________________\n",
      "dense_3 (Dense)              (None, 1)                 33        \n",
      "=================================================================\n",
      "Total params: 1,320,065\n",
      "Trainable params: 1,320,065\n",
      "Non-trainable params: 0\n",
      "_________________________________________________________________\n"
     ]
    }
   ],
   "source": [
    "from keras.models import Sequential\n",
    "from keras.layers import Embedding, Flatten, Dense\n",
    "\n",
    "model = Sequential()\n",
    "model.add(Embedding(max_words, embedding_dim, input_length=maxlen))\n",
    "model.add(Flatten())\n",
    "model.add(Dense(32, activation='relu'))\n",
    "model.add(Dense(1, activation='sigmoid'))\n",
    "model.summary()"
   ]
  },
  {
   "cell_type": "markdown",
   "metadata": {},
   "source": [
    "**LOADING THE GLoVE EMBEDDINGS IN THE MODEL**\n",
    "The `Embedding` layer has a single weight matrix: a 2D float matrix where each entry $i$ is the word vector meant to be associated with index $i$. Let's load the GLoVE matrix we prepared into the `Embedding` layer."
   ]
  },
  {
   "cell_type": "code",
   "execution_count": 28,
   "metadata": {
    "collapsed": true
   },
   "outputs": [],
   "source": [
    "model.layers[0].set_weights([embedding_matrix])\n",
    "model.layers[0].trainable = False"
   ]
  },
  {
   "cell_type": "markdown",
   "metadata": {},
   "source": [
    "We will also freeze the `Embedding` layer (trainable = False). When parts of a model are pretrained (like our `Embedding` layer) and parts are randomly initialized (like our classifier), the pretrained parts shouldn't be updated during training, to avoid forgetting what they already know.\n",
    "\n",
    "**TRAINING AND EVALUATING THE MODEL**"
   ]
  },
  {
   "cell_type": "code",
   "execution_count": 29,
   "metadata": {},
   "outputs": [
    {
     "name": "stdout",
     "output_type": "stream",
     "text": [
      "Train on 200 samples, validate on 10000 samples\n",
      "Epoch 1/10\n",
      "200/200 [==============================] - 1s - loss: 2.0330 - acc: 0.5150 - val_loss: 0.7080 - val_acc: 0.5280\n",
      "Epoch 2/10\n",
      "200/200 [==============================] - 1s - loss: 0.5197 - acc: 0.7500 - val_loss: 0.9988 - val_acc: 0.5016\n",
      "Epoch 3/10\n",
      "200/200 [==============================] - 1s - loss: 0.4037 - acc: 0.8550 - val_loss: 0.7129 - val_acc: 0.5466\n",
      "Epoch 4/10\n",
      "200/200 [==============================] - 1s - loss: 0.3290 - acc: 0.8650 - val_loss: 1.0471 - val_acc: 0.5001\n",
      "Epoch 5/10\n",
      "200/200 [==============================] - 1s - loss: 0.2387 - acc: 0.9400 - val_loss: 0.7075 - val_acc: 0.5710\n",
      "Epoch 6/10\n",
      "200/200 [==============================] - 0s - loss: 0.1135 - acc: 1.0000 - val_loss: 1.1586 - val_acc: 0.5030\n",
      "Epoch 7/10\n",
      "200/200 [==============================] - 1s - loss: 0.2337 - acc: 0.9000 - val_loss: 0.7440 - val_acc: 0.5673\n",
      "Epoch 8/10\n",
      "200/200 [==============================] - 1s - loss: 0.0554 - acc: 1.0000 - val_loss: 0.9359 - val_acc: 0.5327\n",
      "Epoch 9/10\n",
      "200/200 [==============================] - 1s - loss: 0.0437 - acc: 1.0000 - val_loss: 1.3408 - val_acc: 0.5095\n",
      "Epoch 10/10\n",
      "200/200 [==============================] - 1s - loss: 0.3593 - acc: 0.8400 - val_loss: 0.7893 - val_acc: 0.5665\n"
     ]
    }
   ],
   "source": [
    "model.compile(optimizer='rmsprop', loss='binary_crossentropy', metrics=['acc'])\n",
    "\n",
    "history = model.fit(x_train, y_train, epochs=10, batch_size=32, validation_data=(x_val, y_val))\n",
    "\n",
    "model.save_weights('pre_trained_glove_model.h5')"
   ]
  },
  {
   "cell_type": "code",
   "execution_count": 30,
   "metadata": {},
   "outputs": [
    {
     "data": {
      "image/png": "[encoded data removed]",
      "text/plain": [
       "<matplotlib.figure.Figure at 0x1a26b6eb10>"
      ]
     },
     "metadata": {},
     "output_type": "display_data"
    },
    {
     "data": {
      "image/png": "[encoded data removed]",
      "text/plain": [
       "<matplotlib.figure.Figure at 0x1a317f2e10>"
      ]
     },
     "metadata": {},
     "output_type": "display_data"
    }
   ],
   "source": [
    "# plot model's performance over time\n",
    "import matplotlib.pyplot as plt\n",
    "\n",
    "acc = history.history['acc']\n",
    "val_acc = history.history['val_acc']\n",
    "loss = history.history['loss']\n",
    "val_loss = history.history['val_loss']\n",
    "\n",
    "epochs = range(1, len(acc) + 1)\n",
    "\n",
    "plt.plot(epochs, acc, 'bo', label='Training acc')\n",
    "plt.plot(epochs, val_acc, 'b', label='Validation acc')\n",
    "plt.title('Training and validation accuracy')\n",
    "plt.legend()\n",
    "\n",
    "plt.figure()\n",
    "\n",
    "plt.plot(epochs, loss, 'bo', label='Training loss')\n",
    "plt.plot(epochs, val_loss, 'b', label='Validation loss')\n",
    "plt.title('Training and validation loss')\n",
    "plt.legend()\n",
    "\n",
    "plt.show()"
   ]
  },
  {
   "cell_type": "markdown",
   "metadata": {},
   "source": [
    "The model begins overfitting almost from the start, which makes sense because we only used 200 training samples. The validation accuracy seems to reach high 50%, which isn't ideal. Because we have so few training samples, performance is heavily dependent on exactly which 200 samples we choose.\n",
    "\n",
    "We can also try training the same model without loading the pretrained word embeddings and without freezing the embedding layer. Doing this, we will learn a task-specific embedding of the input tokens, which is generally more powerful than pretrained word embeddings when lots of data is available. Let's try this method:\n",
    "\n",
    "**TRAINING SAME MODEL WITHOUT PRETRAINED WORD EMBEDDINGS**"
   ]
  },
  {
   "cell_type": "code",
   "execution_count": 31,
   "metadata": {},
   "outputs": [
    {
     "name": "stdout",
     "output_type": "stream",
     "text": [
      "_________________________________________________________________\n",
      "Layer (type)                 Output Shape              Param #   \n",
      "=================================================================\n",
      "embedding_5 (Embedding)      (None, 100, 100)          1000000   \n",
      "_________________________________________________________________\n",
      "flatten_4 (Flatten)          (None, 10000)             0         \n",
      "_________________________________________________________________\n",
      "dense_4 (Dense)              (None, 32)                320032    \n",
      "_________________________________________________________________\n",
      "dense_5 (Dense)              (None, 1)                 33        \n",
      "=================================================================\n",
      "Total params: 1,320,065\n",
      "Trainable params: 1,320,065\n",
      "Non-trainable params: 0\n",
      "_________________________________________________________________\n",
      "Train on 200 samples, validate on 10000 samples\n",
      "Epoch 1/10\n",
      "200/200 [==============================] - 1s - loss: 0.6898 - acc: 0.4800 - val_loss: 0.6927 - val_acc: 0.5232\n",
      "Epoch 2/10\n",
      "200/200 [==============================] - 1s - loss: 0.5005 - acc: 0.9850 - val_loss: 0.7037 - val_acc: 0.5329\n",
      "Epoch 3/10\n",
      "200/200 [==============================] - 1s - loss: 0.2923 - acc: 0.9900 - val_loss: 0.7211 - val_acc: 0.5352\n",
      "Epoch 4/10\n",
      "200/200 [==============================] - 1s - loss: 0.1330 - acc: 0.9900 - val_loss: 0.7107 - val_acc: 0.5242\n",
      "Epoch 5/10\n",
      "200/200 [==============================] - 1s - loss: 0.0658 - acc: 1.0000 - val_loss: 0.7191 - val_acc: 0.5373\n",
      "Epoch 6/10\n",
      "200/200 [==============================] - 1s - loss: 0.0314 - acc: 1.0000 - val_loss: 0.7297 - val_acc: 0.5365\n",
      "Epoch 7/10\n",
      "200/200 [==============================] - 1s - loss: 0.0176 - acc: 1.0000 - val_loss: 0.7387 - val_acc: 0.5374\n",
      "Epoch 8/10\n",
      "200/200 [==============================] - 1s - loss: 0.0100 - acc: 1.0000 - val_loss: 0.7483 - val_acc: 0.5377\n",
      "Epoch 9/10\n",
      "200/200 [==============================] - 1s - loss: 0.0061 - acc: 1.0000 - val_loss: 0.7565 - val_acc: 0.5384\n",
      "Epoch 10/10\n",
      "200/200 [==============================] - 1s - loss: 0.0037 - acc: 1.0000 - val_loss: 0.7627 - val_acc: 0.5397\n"
     ]
    }
   ],
   "source": [
    "from keras.models import Sequential\n",
    "from keras.layers import Embedding, Flatten, Dense\n",
    "\n",
    "model = Sequential()\n",
    "model.add(Embedding(max_words, embedding_dim, input_length=maxlen))\n",
    "model.add(Flatten())\n",
    "model.add(Dense(32, activation='relu'))\n",
    "model.add(Dense(1, activation='sigmoid'))\n",
    "model.summary()\n",
    "\n",
    "model.compile(optimizer='rmsprop', loss='binary_crossentropy', metrics=['acc'])\n",
    "\n",
    "history = model.fit(x_train, y_train, epochs=10, batch_size=32, validation_data=(x_val, y_val))"
   ]
  },
  {
   "cell_type": "code",
   "execution_count": 32,
   "metadata": {},
   "outputs": [
    {
     "data": {
      "image/png": "[encoded data removed]",
      "text/plain": [
       "<matplotlib.figure.Figure at 0x1a31d7c410>"
      ]
     },
     "metadata": {},
     "output_type": "display_data"
    },
    {
     "data": {
      "image/png": "[encoded data removed]",
      "text/plain": [
       "<matplotlib.figure.Figure at 0x1a31e28690>"
      ]
     },
     "metadata": {},
     "output_type": "display_data"
    }
   ],
   "source": [
    "# plot model's performance over time\n",
    "import matplotlib.pyplot as plt\n",
    "\n",
    "acc = history.history['acc']\n",
    "val_acc = history.history['val_acc']\n",
    "loss = history.history['loss']\n",
    "val_loss = history.history['val_loss']\n",
    "\n",
    "epochs = range(1, len(acc) + 1)\n",
    "\n",
    "plt.plot(epochs, acc, 'bo', label='Training acc')\n",
    "plt.plot(epochs, val_acc, 'b', label='Validation acc')\n",
    "plt.title('Training and validation accuracy')\n",
    "plt.legend()\n",
    "\n",
    "plt.figure()\n",
    "\n",
    "plt.plot(epochs, loss, 'bo', label='Training loss')\n",
    "plt.plot(epochs, val_loss, 'b', label='Validation loss')\n",
    "plt.title('Training and validation loss')\n",
    "plt.legend()\n",
    "\n",
    "plt.show()"
   ]
  },
  {
   "cell_type": "markdown",
   "metadata": {},
   "source": [
    "The validation accuracy stalls in the low 50s. In this case, pretrained word embeddings outperform jointly learned embeddings. If we increase the number of training samples, this will quickly stop being the case.\n",
    "\n",
    "Finally, let's evaluate the model on the test data. First, we need to tokenize the test data."
   ]
  },
  {
   "cell_type": "code",
   "execution_count": 33,
   "metadata": {
    "collapsed": true
   },
   "outputs": [],
   "source": [
    "test_dir = os.path.join(imdb_dir, 'test')\n",
    "\n",
    "labels = []\n",
    "texts = []\n",
    "\n",
    "for label_type in ['neg', 'pos']:\n",
    "    dir_name = os.path.join(test_dir, label_type)\n",
    "    for fname in sorted(os.listdir(dir_name)):\n",
    "        if fname[-4:] == '.txt':\n",
    "            f = open(os.path.join(dir_name, fname))\n",
    "            texts.append(f.read())\n",
    "            f.close()\n",
    "            if label_type == 'neg':\n",
    "                labels.append(0)\n",
    "            else:\n",
    "                labels.append(1)\n",
    "\n",
    "sequences = tokenizer.texts_to_sequences(texts)\n",
    "x_test = pad_sequences(sequences, maxlen=maxlen)\n",
    "y_test = np.asarray(labels)"
   ]
  },
  {
   "cell_type": "code",
   "execution_count": 34,
   "metadata": {},
   "outputs": [
    {
     "name": "stdout",
     "output_type": "stream",
     "text": [
      "24576/25000 [============================>.] - ETA: 0s"
     ]
    },
    {
     "data": {
      "text/plain": [
       "[0.8004352753829956, 0.56004]"
      ]
     },
     "execution_count": 34,
     "metadata": {},
     "output_type": "execute_result"
    }
   ],
   "source": [
    "# load and evaluate the first model\n",
    "model.load_weights('pre_trained_glove_model.h5')\n",
    "model.evaluate(x_test, y_test)"
   ]
  },
  {
   "cell_type": "markdown",
   "metadata": {},
   "source": [
    "Yikes! We got a terrible test accuracy of **56%**. Working with just a handfull of training samples is difficult. We will consider this a lesson learned, and will attempt improved strategies in the next section.\n",
    "\n",
    "At this point, we are able to do the following:\n",
    " - **Turn raw text into something a neural network can process**\n",
    " - **Use the `Embedding` layer in a Keras model to learn task-specific token embeddings**\n",
    " - **Use pretrained word embeddings to get an extra boost on small NLP problems**"
   ]
  }
 ],
 "metadata": {
  "kernelspec": {
   "display_name": "Python 2",
   "language": "python",
   "name": "python2"
  },
  "language_info": {
   "codemirror_mode": {
    "name": "ipython",
    "version": 2
   },
   "file_extension": ".py",
   "mimetype": "text/x-python",
   "name": "python",
   "nbconvert_exporter": "python",
   "pygments_lexer": "ipython2",
   "version": "2.7.13"
  }
 },
 "nbformat": 4,
 "nbformat_minor": 2
}
