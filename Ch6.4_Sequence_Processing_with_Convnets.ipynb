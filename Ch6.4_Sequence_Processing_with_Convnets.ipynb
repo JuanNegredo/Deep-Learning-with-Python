{
 "cells": [
  {
   "cell_type": "markdown",
   "metadata": {},
   "source": [
    "# 6.4 Sequence processing with convnets\n",
    "\n",
    "Convolutional Neural Networks (CNN) perform well on computer vision problems precisely because they operate *convolutionally*. They extract features from local input patches and allow for representation modularity and data efficiency. For those same reasons, CNNs are also relevant to sequence processing. Time can be treated as a spatial dimension, just like the height or width of a 2D image.\n",
    "\n",
    "Certain 1D CNNs can be competitive with RNNs on certain sequence-processing problems, such as audio generation and machine translation.\n",
    "\n",
    "## 6.4.1 Understanding 1D convolution for sequence data\n",
    "\n",
    "1D Convolutions extract local 1D patches from sequences, similar to how 2D Convolutions extract 2D patches from images and applies a transformation to every patch.\n",
    "\n",
    "![patch](images/6_4_1_patch.jpg)\n",
    "\n",
    "1D Convolution layers can recognize local patterns in a sequence. If a pattern is found at a certain position in a sentence, it can be recognized at a different position. For instance, a 1D convnet processing sequences of characters using convolution windows of size 5 should be able to learn words or word fragments of length 5 or less, and it should be able to recognize these words in any context in an input sequence. A character-level 1D convnet is thus able to learn about word morphology.\n",
    "\n",
    "## 6.4.2 1D pooling for sequence data\n",
    "\n",
    "Similar to 2D pooling, which is used to compress image tensors, there exists 1D pooling, which extracts 1D patches (subsequences) from an input and outputting the maximum value (max pooling) or average value (average pooling). 1D pooling reduces the length of 1D inputs.\n",
    "\n",
    "## 6.4.3 Implementing a 1D convnet\n",
    "\n",
    "In Keras, the `Conv1D` layer takes input 3D tensors of shape (`samples, time, features`) and returns similarly shaped 3D tensors. \n",
    "\n",
    "Let's build a simple two-layer 1D convnet and apply it to the IMDB sentiment classification task we have used in the past."
   ]
  },
  {
   "cell_type": "code",
   "execution_count": 2,
   "metadata": {},
   "outputs": [
    {
     "name": "stdout",
     "output_type": "stream",
     "text": [
      "Loading data...\n",
      "25000 train sequences\n",
      "25000 test sequences\n"
     ]
    }
   ],
   "source": [
    "from keras.datasets import imdb\n",
    "from keras.preprocessing import sequence\n",
    "\n",
    "# only 10,000 most common\n",
    "max_features = 10000\n",
    "man_len = 500\n",
    "\n",
    "print \"Loading data...\"\n",
    "(x_train, y_train), (x_test, y_test) = imdb.load_data(num_words=max_features)\n",
    "print len(x_train), 'train sequences'\n",
    "print len(x_test), 'test sequences'print 'Pad sequences (samples x time)'\n",
    "x_train = sequence.pad_sequences(x_train, maxlen=max_len)\n",
    "x_test = sequence.pad_sequences(x_test, maxlen=max_len)\n",
    "print 'x_train shape:', x_train.shape\n",
    "print 'x_test shape:', x_test.shape"
   ]
  },
  {
   "cell_type": "code",
   "execution_count": 4,
   "metadata": {},
   "outputs": [
    {
     "name": "stdout",
     "output_type": "stream",
     "text": [
      "Pad sequences (samples x time)\n",
      "x_train shape: (25000, 500)\n",
      "x_test shape: (25000, 500)\n"
     ]
    }
   ],
   "source": [
    "# only 10,000 most common\n",
    "max_features = 10000\n",
    "max_len = 500\n",
    "\n",
    "print 'Pad sequences (samples x time)'\n",
    "x_train = sequence.pad_sequences(x_train, maxlen=max_len)\n",
    "x_test = sequence.pad_sequences(x_test, maxlen=max_len)\n",
    "print 'x_train shape:', x_train.shape\n",
    "print 'x_test shape:', x_test.shape"
   ]
  },
  {
   "cell_type": "markdown",
   "metadata": {},
   "source": [
    "1D convnets consist of a stack of `Conv1D` and `MaxPooling1D` layers, ending in either a pooling or `Flatten` layer that converts the 3D outputs to 2D.\n",
    "\n",
    "Here is an example 1D convnet for the IMDB dataset."
   ]
  },
  {
   "cell_type": "code",
   "execution_count": 5,
   "metadata": {},
   "outputs": [
    {
     "name": "stdout",
     "output_type": "stream",
     "text": [
      "_________________________________________________________________\n",
      "Layer (type)                 Output Shape              Param #   \n",
      "=================================================================\n",
      "embedding_1 (Embedding)      (None, 500, 128)          1280000   \n",
      "_________________________________________________________________\n",
      "conv1d_1 (Conv1D)            (None, 494, 32)           28704     \n",
      "_________________________________________________________________\n",
      "max_pooling1d_1 (MaxPooling1 (None, 98, 32)            0         \n",
      "_________________________________________________________________\n",
      "conv1d_2 (Conv1D)            (None, 92, 32)            7200      \n",
      "_________________________________________________________________\n",
      "global_max_pooling1d_1 (Glob (None, 32)                0         \n",
      "_________________________________________________________________\n",
      "dense_1 (Dense)              (None, 1)                 33        \n",
      "=================================================================\n",
      "Total params: 1,315,937\n",
      "Trainable params: 1,315,937\n",
      "Non-trainable params: 0\n",
      "_________________________________________________________________\n"
     ]
    }
   ],
   "source": [
    "from keras.models import Sequential\n",
    "from keras import layers\n",
    "from keras.optimizers import RMSprop\n",
    "\n",
    "model = Sequential()\n",
    "model.add(layers.Embedding(max_features, 128, input_length=max_len))\n",
    "model.add(layers.Conv1D(32, 7, activation='relu'))\n",
    "model.add(layers.MaxPooling1D(5))\n",
    "model.add(layers.Conv1D(32, 7, activation='relu'))\n",
    "model.add(layers.GlobalMaxPooling1D())\n",
    "model.add(layers.Dense(1))\n",
    "\n",
    "model.summary()\n",
    "\n",
    "model.compile(optimizer=RMSprop(lr=1e-4),\n",
    "              loss='binary_crossentropy',\n",
    "              metrics=['acc'])"
   ]
  },
  {
   "cell_type": "code",
   "execution_count": 6,
   "metadata": {},
   "outputs": [
    {
     "name": "stdout",
     "output_type": "stream",
     "text": [
      "Train on 20000 samples, validate on 5000 samples\n",
      "Epoch 1/10\n",
      "20000/20000 [==============================] - 120s - loss: 0.7699 - acc: 0.5308 - val_loss: 0.6819 - val_acc: 0.6014\n",
      "Epoch 2/10\n",
      "20000/20000 [==============================] - 115s - loss: 0.6629 - acc: 0.6765 - val_loss: 0.6571 - val_acc: 0.6682\n",
      "Epoch 3/10\n",
      "20000/20000 [==============================] - 115s - loss: 0.6119 - acc: 0.7601 - val_loss: 0.5937 - val_acc: 0.7198\n",
      "Epoch 4/10\n",
      "20000/20000 [==============================] - 116s - loss: 0.5124 - acc: 0.8136 - val_loss: 0.4891 - val_acc: 0.7854\n",
      "Epoch 5/10\n",
      "20000/20000 [==============================] - 136s - loss: 0.4085 - acc: 0.8485 - val_loss: 0.4146 - val_acc: 0.8386\n",
      "Epoch 6/10\n",
      "20000/20000 [==============================] - 121s - loss: 0.3453 - acc: 0.8629 - val_loss: 0.3947 - val_acc: 0.8436\n",
      "Epoch 7/10\n",
      "20000/20000 [==============================] - 116s - loss: 0.3068 - acc: 0.8587 - val_loss: 0.4063 - val_acc: 0.8224\n",
      "Epoch 8/10\n",
      "20000/20000 [==============================] - 118s - loss: 0.2781 - acc: 0.8459 - val_loss: 0.4167 - val_acc: 0.8020\n",
      "Epoch 9/10\n",
      "20000/20000 [==============================] - 118s - loss: 0.2537 - acc: 0.8224 - val_loss: 0.4462 - val_acc: 0.7768\n",
      "Epoch 10/10\n",
      "20000/20000 [==============================] - 123s - loss: 0.2313 - acc: 0.8003 - val_loss: 0.4505 - val_acc: 0.7526\n"
     ]
    }
   ],
   "source": [
    "history = model.fit(x_train, y_train,\n",
    "                    epochs=10,\n",
    "                    batch_size=128,\n",
    "                    validation_split=0.2)"
   ]
  },
  {
   "cell_type": "code",
   "execution_count": 7,
   "metadata": {},
   "outputs": [
    {
     "data": {
      "image/png": "[encoded data removed]",
      "text/plain": [
       "<matplotlib.figure.Figure at 0x1a1ac4cf10>"
      ]
     },
     "metadata": {},
     "output_type": "display_data"
    }
   ],
   "source": [
    "# Draw loss curves for validation and training\n",
    "import matplotlib.pyplot as plt\n",
    "\n",
    "loss = history.history['loss']\n",
    "val_loss = history.history['val_loss']\n",
    "\n",
    "epochs = range(1, len(loss) + 1)\n",
    "\n",
    "plt.figure()\n",
    "\n",
    "plt.plot(epochs, loss, 'bo', label='Training Loss')\n",
    "plt.plot(epochs, val_loss, 'b', label='Validation Loss')\n",
    "plt.title('Training and Validation Loss')\n",
    "plt.legend()\n",
    "\n",
    "plt.show()"
   ]
  },
  {
   "cell_type": "code",
   "execution_count": 8,
   "metadata": {},
   "outputs": [
    {
     "data": {
      "image/png": "[encoded data removed]",
      "text/plain": [
       "<matplotlib.figure.Figure at 0x1a1afe5510>"
      ]
     },
     "metadata": {},
     "output_type": "display_data"
    }
   ],
   "source": [
    "acc = history.history['acc']\n",
    "val_acc = history.history['val_acc']\n",
    "\n",
    "epochs = range(1, len(acc) + 1)\n",
    "\n",
    "plt.figure()\n",
    "\n",
    "plt.plot(epochs, acc, 'bo', label='Training Accuracy')\n",
    "plt.plot(epochs, val_acc, 'b', label='Validation Accuracy')\n",
    "plt.title('Training and Validation Accuracy')\n",
    "plt.legend()\n",
    "\n",
    "plt.show()"
   ]
  },
  {
   "cell_type": "markdown",
   "metadata": {},
   "source": [
    "Our validation accuracy is somewhat less than that of the `LSTM`, but runtime is way faster. This just shows that a 1D convnet can offer a fast, cheap alternative to a recurrent network on a word-level sentiment-classification task.\n",
    "\n",
    "## 6.4.4 Combining CNNs and RNNs to process long sequences\n",
    "\n",
    "Because 1D convnets process input patches independently, they aren't sensitive to the order of timesteps, unlike RNNs. Of course, to recognize longer-term patterns, you can stack many convolution layers and pooling layers, resulting in upper layers that will see long chunks of the original inputs—but that’s still a fairly weak way to induce order sensitivity. One way to evidence this weakness is to try 1D convnets on the temperature-forecasting problem, where order-sensitivity is key to producing good predictions. Let's see it in action."
   ]
  },
  {
   "cell_type": "code",
   "execution_count": null,
   "metadata": {
    "collapsed": true
   },
   "outputs": [],
   "source": [
    "from keras.models import Sequential\n",
    "from keras import layers\n",
    "from keras.optimizers import RMSprop\n",
    "\n",
    "model = Sequential()\n",
    "model.add(layers.Conv1D(32, 5, activation='relu', input_shape=(None, float_data.shape[-1])))\n",
    "model.add(layers.MaxPooling1D(3))\n",
    "model.add(layers.Conv1D(32, 5, activation='relu'))\n",
    "model.add(layers.MaxPooling1D(3))\n",
    "model.add(layers.Conv1D(32, 5, activation='relu'))\n",
    "model.add(layers.GlobalMaxPooling1D())\n",
    "model.add(layers.Dense(1))\n",
    "\n",
    "model.compile(optimizer=RMSprop(), loss='mae')\n",
    "history = model.fit_generator(train_gen, steps_per_epoch=500, epochs=20,\n",
    "                              validation_data=val_gen, validation_steps=val_steps)"
   ]
  },
  {
   "cell_type": "markdown",
   "metadata": {},
   "source": [
    "![jena](images/6_4_4_jena.jpg)\n",
    "\n",
    "The validation MAE stays over 40%. Yikes. This is because the convnet looks for patterns anywhere in the input timeseries and has no knowledge of the temporal position of pattern it sees (beginning, middle, end, etc.). Because more recent data points should be interpreted differently from older data points, the convnet fails at producing meaningful results. This isn't an issue with the IMDB data, because patterns of keywords associated with a positive or negative sentiment are informative independently of where they're found in the input sentences.\n",
    "\n",
    "One strategy is to combine the speed and lightness of convnets with the order-sensitivity of RNNs is to use a 1D convnet as a preprocessing step before an RNN. This is especially useful for dealing with really long sequences. The 1D convnet will turn the long input sequence into a much shorter sequences of higher-level features.\n",
    "\n",
    "Let's try it on the temperature forecasting dataset!"
   ]
  },
  {
   "cell_type": "code",
   "execution_count": 11,
   "metadata": {
    "collapsed": true
   },
   "outputs": [],
   "source": [
    "# Generator yielding timeseries samples and their targets\n",
    "def generator(data, lookback, delay, min_index, max_index,\n",
    "              shuffle=False, batch_size=128, step=6):\n",
    "    if max_index is None:\n",
    "        max_index = len(data) - delay - 1\n",
    "    i = min_index + lookback\n",
    "    while 1:\n",
    "        if shuffle:\n",
    "            rows = np.random.randint(min_index + lookback, max_index, size=batch_size)\n",
    "        else:\n",
    "            if i + batch_size >= max_index:\n",
    "                i = min_index + lookback\n",
    "            rows = np.arange(i, min(i + batch_size, max_index))\n",
    "            i += len(rows)\n",
    "            \n",
    "        samples = np.zeros((len(rows), lookback // step, data.shape[-1]))\n",
    "        targets = np.zeros((len(rows),))\n",
    "        for j, row in enumerate(rows):\n",
    "            indices = range(rows[j] - lookback, rows[j], step)\n",
    "            samples[j] = data[indices]\n",
    "            targets[j] = data[rows[j] + delay][1]\n",
    "        yield samples, targets"
   ]
  },
  {
   "cell_type": "code",
   "execution_count": 13,
   "metadata": {},
   "outputs": [
    {
     "name": "stdout",
     "output_type": "stream",
     "text": [
      "['\"Date Time\"', '\"p (mbar)\"', '\"T (degC)\"', '\"Tpot (K)\"', '\"Tdew (degC)\"', '\"rh (%)\"', '\"VPmax (mbar)\"', '\"VPact (mbar)\"', '\"VPdef (mbar)\"', '\"sh (g/kg)\"', '\"H2OC (mmol/mol)\"', '\"rho (g/m**3)\"', '\"wv (m/s)\"', '\"max. wv (m/s)\"', '\"wd (deg)\"']\n"
     ]
    }
   ],
   "source": [
    "import os # bring in access to terminal\n",
    "\n",
    "\n",
    "# folder of data\n",
    "data_dir = '/Volumes/RobStorage/Desktop/Python_Practice/DL_with_Python/data/jena_climate'\n",
    "# path to dataset\n",
    "fname = os.path.join(data_dir, 'jena_climate_2009_2016.csv')\n",
    "\n",
    "# open dataset\n",
    "f = open(fname)\n",
    "# read dataset\n",
    "data = f.read()\n",
    "# close csv file\n",
    "f.close()\n",
    "\n",
    "# formatting\n",
    "lines = data.split('\\n')\n",
    "header = lines[0].split(',')\n",
    "lines = lines[1:]\n",
    "\n",
    "print header"
   ]
  },
  {
   "cell_type": "code",
   "execution_count": 14,
   "metadata": {
    "collapsed": true
   },
   "outputs": [],
   "source": [
    "# import module\n",
    "import numpy as np\n",
    "\n",
    "# create NxN-1 Matrix of 0s [420551 rows x 15 - 1 columns]\n",
    "float_data = np.zeros((len(lines), len(header) - 1))\n",
    "\n",
    "# add an index. For row, col do this\n",
    "for i, line in enumerate(lines):\n",
    "    # convert dtypes to float, split at commas\n",
    "    values = [float(x) for x in line.split(',')[1:]]\n",
    "    float_data[i, :] = values"
   ]
  },
  {
   "cell_type": "code",
   "execution_count": 15,
   "metadata": {
    "collapsed": true
   },
   "outputs": [],
   "source": [
    "mean = float_data[:200000].mean(axis=0)"
   ]
  },
  {
   "cell_type": "code",
   "execution_count": 16,
   "metadata": {
    "collapsed": true
   },
   "outputs": [],
   "source": [
    "# subtract the mean from float_data\n",
    "float_data -= mean"
   ]
  },
  {
   "cell_type": "code",
   "execution_count": 17,
   "metadata": {
    "collapsed": true
   },
   "outputs": [],
   "source": [
    "# find standard deviation\n",
    "std = float_data[:200000].std(axis=0)"
   ]
  },
  {
   "cell_type": "code",
   "execution_count": 18,
   "metadata": {
    "collapsed": true
   },
   "outputs": [],
   "source": [
    "# divide the float_data by each columns standard deviation\n",
    "float_data /= std"
   ]
  },
  {
   "cell_type": "code",
   "execution_count": 19,
   "metadata": {},
   "outputs": [],
   "source": [
    "step = 3\n",
    "lookback = 720\n",
    "delay = 144\n",
    "\n",
    "train_gen = generator(float_data,\n",
    "                      lookback=lookback,\n",
    "                      delay=delay,\n",
    "                      min_index=0,\n",
    "                      max_index=200000,\n",
    "                      shuffle=True,\n",
    "                      step=step)\n",
    "val_gen = generator(float_data,\n",
    "                    lookback=lookback,\n",
    "                    delay=delay,\n",
    "                    min_index=200001,\n",
    "                    max_index=300000,\n",
    "                    step=step)\n",
    "test_gen = generator(float_data,\n",
    "                     lookback=lookback,\n",
    "                     delay=delay,\n",
    "                     min_index=300001,\n",
    "                     max_index=None,\n",
    "                     step=step)\n",
    "val_steps = (300000 - 200001 - lookback) // 128\n",
    "test_steps = (len(float_data) - 300001 - lookback) // 128"
   ]
  },
  {
   "cell_type": "code",
   "execution_count": 20,
   "metadata": {},
   "outputs": [
    {
     "name": "stdout",
     "output_type": "stream",
     "text": [
      "_________________________________________________________________\n",
      "Layer (type)                 Output Shape              Param #   \n",
      "=================================================================\n",
      "conv1d_3 (Conv1D)            (None, None, 32)          2272      \n",
      "_________________________________________________________________\n",
      "max_pooling1d_2 (MaxPooling1 (None, None, 32)          0         \n",
      "_________________________________________________________________\n",
      "conv1d_4 (Conv1D)            (None, None, 32)          5152      \n",
      "_________________________________________________________________\n",
      "gru_1 (GRU)                  (None, 32)                6240      \n",
      "_________________________________________________________________\n",
      "dense_2 (Dense)              (None, 1)                 33        \n",
      "=================================================================\n",
      "Total params: 13,697\n",
      "Trainable params: 13,697\n",
      "Non-trainable params: 0\n",
      "_________________________________________________________________\n",
      "Epoch 1/20\n",
      "500/500 [==============================] - 241s - loss: 0.3397 - val_loss: 0.2846\n",
      "Epoch 2/20\n",
      "500/500 [==============================] - 243s - loss: 0.3083 - val_loss: 0.2811\n",
      "Epoch 3/20\n",
      "500/500 [==============================] - 233s - loss: 0.2970 - val_loss: 0.2745\n",
      "Epoch 4/20\n",
      "500/500 [==============================] - 233s - loss: 0.2882 - val_loss: 0.2790\n",
      "Epoch 5/20\n",
      "500/500 [==============================] - 233s - loss: 0.2811 - val_loss: 0.2810\n",
      "Epoch 6/20\n",
      "500/500 [==============================] - 234s - loss: 0.2771 - val_loss: 0.2770\n",
      "Epoch 7/20\n",
      "500/500 [==============================] - 233s - loss: 0.2717 - val_loss: 0.2762\n",
      "Epoch 8/20\n",
      "500/500 [==============================] - 232s - loss: 0.2678 - val_loss: 0.2828\n",
      "Epoch 9/20\n",
      "500/500 [==============================] - 231s - loss: 0.2619 - val_loss: 0.2779\n",
      "Epoch 10/20\n",
      "500/500 [==============================] - 232s - loss: 0.2571 - val_loss: 0.2891\n",
      "Epoch 11/20\n",
      "500/500 [==============================] - 249s - loss: 0.2548 - val_loss: 0.2799\n",
      "Epoch 12/20\n",
      "500/500 [==============================] - 251s - loss: 0.2511 - val_loss: 0.2822\n",
      "Epoch 13/20\n",
      "500/500 [==============================] - 236s - loss: 0.2480 - val_loss: 0.2930\n",
      "Epoch 14/20\n",
      "500/500 [==============================] - 233s - loss: 0.2435 - val_loss: 0.2925\n",
      "Epoch 15/20\n",
      "500/500 [==============================] - 232s - loss: 0.2405 - val_loss: 0.2972\n",
      "Epoch 16/20\n",
      "500/500 [==============================] - 232s - loss: 0.2398 - val_loss: 0.2886\n",
      "Epoch 17/20\n",
      "500/500 [==============================] - 233s - loss: 0.2372 - val_loss: 0.2949\n",
      "Epoch 18/20\n",
      "500/500 [==============================] - 233s - loss: 0.2349 - val_loss: 0.3010\n",
      "Epoch 19/20\n",
      "500/500 [==============================] - 233s - loss: 0.2326 - val_loss: 0.2998\n",
      "Epoch 20/20\n",
      "500/500 [==============================] - 232s - loss: 0.2294 - val_loss: 0.2994\n"
     ]
    }
   ],
   "source": [
    "from keras.models import Sequential\n",
    "from keras import layers\n",
    "from keras.optimizers import RMSprop\n",
    "\n",
    "model = Sequential()\n",
    "model.add(layers.Conv1D(32, 5, activation='relu',\n",
    "                        input_shape=(None, float_data.shape[-1])))\n",
    "model.add(layers.MaxPooling1D(3))\n",
    "model.add(layers.Conv1D(32, 5, activation='relu'))\n",
    "model.add(layers.GRU(32, dropout=0.1, recurrent_dropout=0.5))\n",
    "model.add(layers.Dense(1))\n",
    "\n",
    "model.summary()\n",
    "\n",
    "model.compile(optimizer=RMSprop(), loss='mae')\n",
    "history = model.fit_generator(train_gen,\n",
    "                              steps_per_epoch=500,\n",
    "                              epochs=20,\n",
    "                              validation_data=val_gen,\n",
    "                              validation_steps=val_steps)"
   ]
  },
  {
   "cell_type": "markdown",
   "metadata": {},
   "source": [
    "![jenaloss](images/6_4_4_jenaloss.jpg)\n",
    "\n",
    "As we see in the validation loss, this setup isn't as good as the regularized `GRU` alone, but significantly faster.\n",
    "\n",
    "## 6.4.5 Wrapping up\n",
    "\n",
    "Here are the main take-aways from this section:\n",
    "\n",
    " - In the same way that 2D convnets perform well for processing visual patterns in 2D space, 1D convnets perform well for processing temporal patterns. They offer a faster alternative to RNNs on some problems, in particular natural--language processing tasks.\n",
    " - Typically, 1D convnets are structured much like their 2D equivalents from the world of computer vision: they consist of stacks of Conv1D layers and Max-Pooling1D layers, ending in a global pooling operation or flattening operation.\n",
    " - Because RNNs are extremely expensive for processing very long sequences, but 1D convnets are cheap, it can be a good idea to use a 1D convnet as a preprocessing step before an RNN, shortening the sequence and extracting useful representations for the RNN to process."
   ]
  }
 ],
 "metadata": {
  "kernelspec": {
   "display_name": "Python 2",
   "language": "python",
   "name": "python2"
  },
  "language_info": {
   "codemirror_mode": {
    "name": "ipython",
    "version": 2
   },
   "file_extension": ".py",
   "mimetype": "text/x-python",
   "name": "python",
   "nbconvert_exporter": "python",
   "pygments_lexer": "ipython2",
   "version": "2.7.13"
  }
 },
 "nbformat": 4,
 "nbformat_minor": 2
}
