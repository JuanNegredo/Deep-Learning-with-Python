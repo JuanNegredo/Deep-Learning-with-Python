{
 "cells": [
  {
   "cell_type": "markdown",
   "metadata": {},
   "source": [
    "# 6.2 Understanding Recurrent Neural Networks\n",
    "A major characteristic of neural networks up to this point (densely connected networks and convnets) is that they have no memory. With these networks, in order to process a sequence or a temporal series of data points, you have to show the entire sequence to the network at once, effectively turning it into a single data point. Such networks are called ***feedforward networks***.\n",
    "\n",
    "Unlike the networks mentioned above, biological intelligence processes information incrementally while maintaining an internal model of what it's processing, built from past information and constantly updated as new information comes in. A ***recurrent neural network (RNN)*** adopts the same principle. It processes sequences by iterating through the sequence elements and maintaining a ***state*** containing information relative to what it has seen so far. In effect, an RNN is a type of neural network that has an internal loop. The state of the RNN is reset between processing two different, independent sequences (such as two different movie reviews), so we still consider one sequence a single data point. What changes is that this data point is no longer processed in a single step, but the network internally loops over sequence elements.\n",
    "\n",
    "![rnn](images/6_2_0_rnn.jpg)\n",
    "\n",
    "Let's implement the forward pass of a toy RNN in Numpy. This RNN takes a sequence of vectors as inputs (encoded as a 2D tensor of shape (`timesteps, input_features`)). It loops over timesteps, and at each timestep, it considers its current state at `t` and the input at `t` (of shape (`input_features,`)), and combines them to obtain the output at `t`. We then set the state of the next step to be this previous output. There is no previous output for the first step, so we will initialize the state as an all-zero vector called the ***initial state*** of the network.\n",
    "\n",
    "**PSEUDOCODE RNN**"
   ]
  },
  {
   "cell_type": "code",
   "execution_count": null,
   "metadata": {
    "collapsed": true
   },
   "outputs": [],
   "source": [
    "# the state at t\n",
    "state_t = 0\n",
    "\n",
    "# iterate over sequence elements\n",
    "for input_t in input_sequence:\n",
    "    output_t = f(input_t, state_t)\n",
    "    state_t = output_t # previous output becomes state for next iteration"
   ]
  },
  {
   "cell_type": "markdown",
   "metadata": {},
   "source": [
    "We can even expand on the function `f`: the transformation of the input and state into an output will be parameterized by two matrices, `W` and `U`, and a bias vector. This is similar to the transformation of a densely connected layer in a feedforward network.\n",
    "\n",
    "**MORE DETAILED PSEUDOCODE RNN**"
   ]
  },
  {
   "cell_type": "code",
   "execution_count": null,
   "metadata": {
    "collapsed": true
   },
   "outputs": [],
   "source": [
    "# the state at t\n",
    "state_t = 0\n",
    "\n",
    "# iterate over sequence elements\n",
    "for input_t in input_sequence:\n",
    "    output_t = activation(dot(W, input_t) + dot(U, state_t) + b)\n",
    "    state_t = output_t # previous output becomes state for next iteration"
   ]
  },
  {
   "cell_type": "markdown",
   "metadata": {},
   "source": [
    "Now let's write a naive Numpy implementaton of the forward pass of the simple RNN.\n",
    "\n",
    "**NUMPY IMPLEMENTATION OF SIMPLE RNN**"
   ]
  },
  {
   "cell_type": "code",
   "execution_count": 1,
   "metadata": {
    "collapsed": true
   },
   "outputs": [],
   "source": [
    "import numpy as np\n",
    "\n",
    "# number of timesteps in input sequence\n",
    "timesteps = 100\n",
    "input_features = 32 # dimensionality of the input feature space\n",
    "output_features = 64 # dimensionality of the output feature space\n",
    "\n",
    "# input data: random noise for the sake of example\n",
    "inputs = np.random.random((timesteps, input_features))\n",
    "\n",
    "# Initial state: all zero vector\n",
    "state_t = np.zeros((output_features,))\n",
    "\n",
    "# Create random weight matrices\n",
    "W = np.random.random((output_features, input_features))\n",
    "U = np.random.random((output_features, output_features))\n",
    "b = np.random.random((output_features,))\n",
    "\n",
    "successive_outputs = []\n",
    "for input_t in inputs: # input_t is vector of shape (input_features)\n",
    "    # combine input with current state to get current output\n",
    "    output_t = np.tanh(np.dot(W, input_t) + np.dot(U, state_t) + b)\n",
    "    \n",
    "    # store output in a list\n",
    "    successive_outputs.append(output_t)\n",
    "    \n",
    "    # Update the state of the network for next timestep\n",
    "    state_t = output_t\n",
    "\n",
    "# Final output is 2D tensor (timesteps, output_features)\n",
    "final_output_sequence = np.concatenate(successive_outputs, axis=0)"
   ]
  },
  {
   "cell_type": "markdown",
   "metadata": {},
   "source": [
    "In summary, an RNN is a `for` loop that reuses quantities computed during the previous iteration of the loop, nothing more. RNNs are characterized by their step function, such as the following function in this case:"
   ]
  },
  {
   "cell_type": "code",
   "execution_count": 2,
   "metadata": {
    "collapsed": true
   },
   "outputs": [],
   "source": [
    "output_t = np.tanh(np.dot(W, input_t) + np.dot(U, state_t) + b)"
   ]
  },
  {
   "cell_type": "markdown",
   "metadata": {},
   "source": [
    "![unrolled rnn](images/6_2_0_unrolledrnn.jpg)\n",
    "\n",
    "## 6.2.1 A recurrent layer in Keras\n",
    "The process we just implemented in Numpy corresponds to an actual Keras layer - the `SimpleRNN` layer:"
   ]
  },
  {
   "cell_type": "code",
   "execution_count": 3,
   "metadata": {},
   "outputs": [
    {
     "name": "stderr",
     "output_type": "stream",
     "text": [
      "/Volumes/RobStorage/anaconda2/lib/python2.7/site-packages/h5py/__init__.py:36: FutureWarning: Conversion of the second argument of issubdtype from `float` to `np.floating` is deprecated. In future, it will be treated as `np.float64 == np.dtype(float).type`.\n",
      "  from ._conv import register_converters as _register_converters\n",
      "Using TensorFlow backend.\n"
     ]
    }
   ],
   "source": [
    "from keras.layers import SimpleRNN"
   ]
  },
  {
   "cell_type": "markdown",
   "metadata": {},
   "source": [
    "The only difference is that the `SimpleRNN` layer processes batches of sequences, not a single sequence as in the Numpy example. This means it takes inputs of shape (`batch_size, timesteps, input_features`).\n",
    "\n",
    "`SimpleRNN` can be run in two different modes: it can return either the full sequences of successive outputs for each timestep or only the last output for each input sequence. Let's look at an example that returns only the last timestep:"
   ]
  },
  {
   "cell_type": "code",
   "execution_count": 4,
   "metadata": {},
   "outputs": [
    {
     "name": "stdout",
     "output_type": "stream",
     "text": [
      "_________________________________________________________________\n",
      "Layer (type)                 Output Shape              Param #   \n",
      "=================================================================\n",
      "embedding_1 (Embedding)      (None, None, 32)          320000    \n",
      "_________________________________________________________________\n",
      "simple_rnn_1 (SimpleRNN)     (None, 32)                2080      \n",
      "=================================================================\n",
      "Total params: 322,080\n",
      "Trainable params: 322,080\n",
      "Non-trainable params: 0\n",
      "_________________________________________________________________\n"
     ]
    }
   ],
   "source": [
    "from keras.models import Sequential\n",
    "from keras.layers import Embedding, SimpleRNN\n",
    "model = Sequential()\n",
    "model.add(Embedding(10000, 32))\n",
    "model.add(SimpleRNN(32))\n",
    "model.summary()"
   ]
  },
  {
   "cell_type": "code",
   "execution_count": 5,
   "metadata": {},
   "outputs": [
    {
     "name": "stdout",
     "output_type": "stream",
     "text": [
      "_________________________________________________________________\n",
      "Layer (type)                 Output Shape              Param #   \n",
      "=================================================================\n",
      "embedding_2 (Embedding)      (None, None, 32)          320000    \n",
      "_________________________________________________________________\n",
      "simple_rnn_2 (SimpleRNN)     (None, None, 32)          2080      \n",
      "=================================================================\n",
      "Total params: 322,080\n",
      "Trainable params: 322,080\n",
      "Non-trainable params: 0\n",
      "_________________________________________________________________\n"
     ]
    }
   ],
   "source": [
    "# The following returns the full state sequence\n",
    "model = Sequential()\n",
    "model.add(Embedding(10000, 32))\n",
    "model.add(SimpleRNN(32, return_sequences=True))\n",
    "model.summary()"
   ]
  },
  {
   "cell_type": "markdown",
   "metadata": {},
   "source": [
    "Sometimes it's useful to stack several recurrent layers one after the other in order to increase the representational power of a network. In such a setup, we have to get all of the intermediate layers to return full sequence of outputs:"
   ]
  },
  {
   "cell_type": "code",
   "execution_count": 6,
   "metadata": {},
   "outputs": [
    {
     "name": "stdout",
     "output_type": "stream",
     "text": [
      "_________________________________________________________________\n",
      "Layer (type)                 Output Shape              Param #   \n",
      "=================================================================\n",
      "embedding_3 (Embedding)      (None, None, 32)          320000    \n",
      "_________________________________________________________________\n",
      "simple_rnn_3 (SimpleRNN)     (None, None, 32)          2080      \n",
      "_________________________________________________________________\n",
      "simple_rnn_4 (SimpleRNN)     (None, None, 32)          2080      \n",
      "_________________________________________________________________\n",
      "simple_rnn_5 (SimpleRNN)     (None, None, 32)          2080      \n",
      "_________________________________________________________________\n",
      "simple_rnn_6 (SimpleRNN)     (None, 32)                2080      \n",
      "=================================================================\n",
      "Total params: 328,320\n",
      "Trainable params: 328,320\n",
      "Non-trainable params: 0\n",
      "_________________________________________________________________\n"
     ]
    }
   ],
   "source": [
    "model = Sequential()\n",
    "model.add(Embedding(10000, 32))\n",
    "model.add(SimpleRNN(32, return_sequences=True))\n",
    "model.add(SimpleRNN(32, return_sequences=True))\n",
    "model.add(SimpleRNN(32, return_sequences=True))\n",
    "model.add(SimpleRNN(32))\n",
    "model.summary() # Last layer only returns last output"
   ]
  },
  {
   "cell_type": "markdown",
   "metadata": {},
   "source": [
    "Now let's use such a model on the IMDB movie-review-classification problem.\n",
    "\n",
    "**PREPROCESS IMDB DATA**"
   ]
  },
  {
   "cell_type": "code",
   "execution_count": 7,
   "metadata": {},
   "outputs": [
    {
     "name": "stdout",
     "output_type": "stream",
     "text": [
      "Loading data...\n",
      "(25000, 'train sequences')\n",
      "(25000, 'test sequences')\n",
      "Pad sequences (samples x time)\n",
      "('input_train shape:', (25000, 500))\n",
      "('input_test shape:', (25000, 500))\n"
     ]
    }
   ],
   "source": [
    "from keras.datasets import imdb\n",
    "from keras.preprocessing import sequence\n",
    "\n",
    "max_features = 10000 # number of words to consider as features\n",
    "maxlen = 500 # cuts off texts after this many words\n",
    "batch_size = 32\n",
    "\n",
    "print('Loading data...')\n",
    "(input_train, y_train), (input_test, y_test) = imdb.load_data(num_words=max_features)\n",
    "print(len(input_train), 'train sequences')\n",
    "print(len(input_test), 'test sequences')\n",
    "\n",
    "print('Pad sequences (samples x time)')\n",
    "input_train = sequence.pad_sequences(input_train, maxlen=maxlen)\n",
    "input_test = sequence.pad_sequences(input_test, maxlen=maxlen)\n",
    "print('input_train shape:', input_train.shape)\n",
    "print('input_test shape:', input_test.shape)"
   ]
  },
  {
   "cell_type": "markdown",
   "metadata": {},
   "source": [
    "**TRAIN MODEL WITH EMBEDDING AND SimpleRNN LAYERS**"
   ]
  },
  {
   "cell_type": "code",
   "execution_count": 8,
   "metadata": {},
   "outputs": [
    {
     "name": "stdout",
     "output_type": "stream",
     "text": [
      "Train on 20000 samples, validate on 5000 samples\n",
      "Epoch 1/10\n",
      "20000/20000 [==============================] - 78s - loss: 0.6517 - acc: 0.6138 - val_loss: 0.5502 - val_acc: 0.7188\n",
      "Epoch 2/10\n",
      "20000/20000 [==============================] - 77s - loss: 0.4003 - acc: 0.8361 - val_loss: 0.3641 - val_acc: 0.8448\n",
      "Epoch 3/10\n",
      "20000/20000 [==============================] - 77s - loss: 0.2696 - acc: 0.8963 - val_loss: 0.4810 - val_acc: 0.8160\n",
      "Epoch 4/10\n",
      "20000/20000 [==============================] - 77s - loss: 0.2019 - acc: 0.9249 - val_loss: 0.4370 - val_acc: 0.8072\n",
      "Epoch 5/10\n",
      "20000/20000 [==============================] - 78s - loss: 0.1456 - acc: 0.9473 - val_loss: 0.3875 - val_acc: 0.8618\n",
      "Epoch 6/10\n",
      "20000/20000 [==============================] - 77s - loss: 0.1005 - acc: 0.9661 - val_loss: 0.4685 - val_acc: 0.8078\n",
      "Epoch 7/10\n",
      "20000/20000 [==============================] - 91s - loss: 0.0705 - acc: 0.9778 - val_loss: 0.5161 - val_acc: 0.8290\n",
      "Epoch 8/10\n",
      "20000/20000 [==============================] - 80s - loss: 0.0456 - acc: 0.9863 - val_loss: 0.6081 - val_acc: 0.7968\n",
      "Epoch 9/10\n",
      "20000/20000 [==============================] - 85s - loss: 0.0331 - acc: 0.9905 - val_loss: 0.5578 - val_acc: 0.8420\n",
      "Epoch 10/10\n",
      "20000/20000 [==============================] - 85s - loss: 0.0292 - acc: 0.9912 - val_loss: 0.6072 - val_acc: 0.8276\n"
     ]
    }
   ],
   "source": [
    "from keras.layers import Dense\n",
    "\n",
    "model = Sequential()\n",
    "model.add(Embedding(max_features, 32))\n",
    "model.add(SimpleRNN(32))\n",
    "model.add(Dense(1, activation='sigmoid'))\n",
    "\n",
    "model.compile(optimizer='rmsprop', loss='binary_crossentropy', metrics=['acc'])\n",
    "history = model.fit(input_train, y_train, epochs=10, batch_size=128, validation_split=0.2)"
   ]
  },
  {
   "cell_type": "markdown",
   "metadata": {},
   "source": [
    "**PLOT TRAINING/VALIDATION LOSS & ACCURACY**"
   ]
  },
  {
   "cell_type": "code",
   "execution_count": 9,
   "metadata": {},
   "outputs": [
    {
     "data": {
      "image/png": "[encoded data removed]",
      "text/plain": [
       "<matplotlib.figure.Figure at 0x110550ed0>"
      ]
     },
     "metadata": {},
     "output_type": "display_data"
    },
    {
     "data": {
      "image/png": "[encoded data removed]",
      "text/plain": [
       "<matplotlib.figure.Figure at 0x1a26c88ed0>"
      ]
     },
     "metadata": {},
     "output_type": "display_data"
    }
   ],
   "source": [
    "import matplotlib.pyplot as plt\n",
    "\n",
    "acc = history.history['acc']\n",
    "val_acc = history.history['val_acc']\n",
    "loss = history.history['loss']\n",
    "val_loss = history.history['val_loss']\n",
    "\n",
    "epochs = range(1, len(acc) + 1)\n",
    "\n",
    "plt.plot(epochs, acc, 'bo', label='Training acc')\n",
    "plt.plot(epochs, val_acc, 'b', label='Validation acc')\n",
    "plt.title('Training and validation accuracy')\n",
    "plt.legend()\n",
    "\n",
    "plt.figure()\n",
    "\n",
    "plt.plot(epochs, loss, 'bo', label='Training loss')\n",
    "plt.plot(epochs, val_loss, 'b', label='Validation loss')\n",
    "plt.title('Training and validation loss')\n",
    "plt.legend()\n",
    "\n",
    "plt.show()"
   ]
  },
  {
   "cell_type": "markdown",
   "metadata": {},
   "source": [
    "In chapter 3, we applied a 3-layer dense network to this same problem and achieved 88% accuracy on our test set. Unfortunately, this small RNN doesn't perform well compared to our baseline only achieving ~85% validation accuracy. Part of the problem is that our inputs only consider the first 500 words, rather than full sequences - hence, the RNN has access to less information than the earlier baseline model. The remainder of the problem is that `SimpleRNN` isn't good at processing long sequences, such as text. Let's take a look at some other advanced layers that are better for analyzing long sequences.\n",
    "\n",
    "## 6.2.2 Understanding LSTM and GRU layers\n",
    "In addition to `SimpleRNN`, Keras provides two more recurrent layers: **`LSTM`** and **`GRU`**. In theory, `SimpleRNN` should be able to retain time `t` information about inputs seen several timesteps in the past, but such long-term dependencies are impossible to learn. This is due to the ***vanishing gradient problem***, an effect that is similar to what is observed with non-recurrent networks (feedforward networks) that are many layers deep. As you keep adding layers to a network, the network eventually becomes untrainable. The `LSTM` and `GRU` layers are designed to solve this problem.\n",
    "\n",
    "The Long Short-Term Memory (LSTM) layer is a variant of the `SimpleRNN` layer that adds a way to carry information across many timesteps. Imagine a conveyor belt running parallel to the sequence you are processing. Information from the sequence can jump onto the conveyor belt at any point, be transported to a later timestep, and jump off, intact, when you need it. The LSTM essentially saves information for later, which prevents older signals from gradually vanishing during processing.\n",
    "\n",
    "To better visualize this, let's start with a `SimpleRNN` cell.\n",
    "\n",
    "![simplernn](images/6_2_2_simplernn.jpg)\n",
    "\n",
    "Let's add an additional data flow that carries information across timesteps. We will call its values at different timesteps `Ct`, where C stands for ***carry***. This information will be combined with the input connection and the recurrent connection, and it will affect the state being sent to the next timestep.\n",
    "\n",
    "![lstm](images/6_2_2_lstm.jpg)\n",
    "\n",
    "The way the next value of the carry dataflow is computed involves three distinct transformations that all have the form of a `SimpleRNN` cell:\n",
    "\n",
    "`y = activation(dot(state_t, U) + dot(input_t, W) + b)`\n",
    "\n",
    "But all three transformations have their own weight matrices, which we will index with the letters `i, f,` and `k`. Here's what we have so far:\n",
    "\n",
    "**LSTM PSEUDOCODE 1/2**"
   ]
  },
  {
   "cell_type": "code",
   "execution_count": null,
   "metadata": {
    "collapsed": true
   },
   "outputs": [],
   "source": [
    "output_t = activation(dot(state_t, Uo) + dot(input_t, Wo) + dot(C_t, Vo) + bo)\n",
    "\n",
    "i_t = activation(dot(state_t, Ui) + dot(input_t, Wi) + bi)\n",
    "f_t = activation(dot(state_t, Uf) + dot(input_t, Wf) + bf)\n",
    "k_t = activation(dot(state_t, Uk) + dot(input_t, Wk) + bk)"
   ]
  },
  {
   "cell_type": "markdown",
   "metadata": {},
   "source": [
    "We obtain the new carry state (c_t) by combining i_t, f_t, and k_t.\n",
    "\n",
    "**LSTM PSEUDOCODE 2/2**"
   ]
  },
  {
   "cell_type": "code",
   "execution_count": null,
   "metadata": {
    "collapsed": true
   },
   "outputs": [],
   "source": [
    "c_t+1 = i_t * k_t + c_t * f_t"
   ]
  },
  {
   "cell_type": "markdown",
   "metadata": {},
   "source": [
    "Here is our result:\n",
    "\n",
    "![lstm2](images/6_2_2_lstm2.jpg)\n",
    "\n",
    "Here's what is going on:\n",
    " - Multiplying **`c_t`** and **`f_t`** is a way to deliberately forget irrelevant information in the carry dataflow.\n",
    " - Meanwhile, **`i_t`** and **`k_t`** provide information about the present, updating the carry track with new information.\n",
    " \n",
    "An `LSTM` cell is meant to allow past information to be reinjected at a later time, thus fighting the vanishing-gradient problem.\n",
    "\n",
    "## 6.2.3 A concrete LSTM example in Keras\n",
    "Now we will set up a model using an `LSTM` layer and train it on the same IMDB data we have been working with. This network is very similar to the `SimpleRNN` network we built earlier that achieved 85% validation accuracy."
   ]
  },
  {
   "cell_type": "code",
   "execution_count": 10,
   "metadata": {},
   "outputs": [
    {
     "name": "stdout",
     "output_type": "stream",
     "text": [
      "Train on 20000 samples, validate on 5000 samples\n",
      "Epoch 1/10\n",
      "20000/20000 [==============================] - 398s - loss: 0.5160 - acc: 0.7564 - val_loss: 0.4078 - val_acc: 0.8070\n",
      "Epoch 2/10\n",
      "20000/20000 [==============================] - 393s - loss: 0.2948 - acc: 0.8842 - val_loss: 0.4518 - val_acc: 0.8320\n",
      "Epoch 3/10\n",
      "20000/20000 [==============================] - 389s - loss: 0.2356 - acc: 0.9111 - val_loss: 0.4426 - val_acc: 0.7962\n",
      "Epoch 4/10\n",
      "20000/20000 [==============================] - 388s - loss: 0.2021 - acc: 0.9244 - val_loss: 0.2955 - val_acc: 0.8808\n",
      "Epoch 5/10\n",
      "20000/20000 [==============================] - 397s - loss: 0.1801 - acc: 0.9334 - val_loss: 0.2961 - val_acc: 0.8770\n",
      "Epoch 6/10\n",
      "20000/20000 [==============================] - 406s - loss: 0.1574 - acc: 0.9428 - val_loss: 0.2929 - val_acc: 0.8814\n",
      "Epoch 7/10\n",
      "20000/20000 [==============================] - 404s - loss: 0.1509 - acc: 0.9464 - val_loss: 0.3103 - val_acc: 0.8752\n",
      "Epoch 8/10\n",
      "20000/20000 [==============================] - 394s - loss: 0.1329 - acc: 0.9541 - val_loss: 0.3371 - val_acc: 0.8496\n",
      "Epoch 9/10\n",
      "20000/20000 [==============================] - 393s - loss: 0.1212 - acc: 0.9593 - val_loss: 0.4074 - val_acc: 0.8512\n",
      "Epoch 10/10\n",
      "20000/20000 [==============================] - 416s - loss: 0.1133 - acc: 0.9605 - val_loss: 0.3712 - val_acc: 0.8676\n"
     ]
    }
   ],
   "source": [
    "from keras.layers import LSTM\n",
    "\n",
    "model = Sequential()\n",
    "model.add(Embedding(max_features, 32))\n",
    "model.add(LSTM(32))\n",
    "model.add(Dense(1, activation='sigmoid'))\n",
    "\n",
    "model.compile(optimizer='rmsprop', loss='binary_crossentropy', metrics=['acc'])\n",
    "\n",
    "history = model.fit(input_train, y_train, epochs=10, batch_size=128, validation_split=0.2)"
   ]
  },
  {
   "cell_type": "code",
   "execution_count": 11,
   "metadata": {},
   "outputs": [
    {
     "data": {
      "image/png": "[encoded data removed]",
      "text/plain": [
       "<matplotlib.figure.Figure at 0x1a2833e610>"
      ]
     },
     "metadata": {},
     "output_type": "display_data"
    },
    {
     "data": {
      "image/png": "[encoded data removed]",
      "text/plain": [
       "<matplotlib.figure.Figure at 0x1a287a7650>"
      ]
     },
     "metadata": {},
     "output_type": "display_data"
    }
   ],
   "source": [
    "import matplotlib.pyplot as plt\n",
    "\n",
    "acc = history.history['acc']\n",
    "val_acc = history.history['val_acc']\n",
    "loss = history.history['loss']\n",
    "val_loss = history.history['val_loss']\n",
    "\n",
    "epochs = range(1, len(acc) + 1)\n",
    "\n",
    "plt.plot(epochs, acc, 'bo', label='Training acc')\n",
    "plt.plot(epochs, val_acc, 'b', label='Validation acc')\n",
    "plt.title('Training and validation accuracy')\n",
    "plt.legend()\n",
    "\n",
    "plt.figure()\n",
    "\n",
    "plt.plot(epochs, loss, 'bo', label='Training loss')\n",
    "plt.plot(epochs, val_loss, 'b', label='Validation loss')\n",
    "plt.title('Training and validation loss')\n",
    "plt.legend()\n",
    "\n",
    "plt.show()"
   ]
  },
  {
   "cell_type": "markdown",
   "metadata": {},
   "source": [
    "This time we were able to achieve up to 88% validation accuracy. Not bad, and definitely better than the `SimpleRNN` network. This is mainly because the `LSTM` doesn't suffer as much from the vanishing-gradient problem. Also keep in mind, this performance was achieved from only looking at 500 timesteps.\n",
    "\n",
    "You may be asking, why isn't LSTM performing better? One reason is that we made no effort to tune the hyperparameters such as embedding dimensionality or the LSTM output dimensionality. We also may be lacking regularization. But LSTM isn't helpful for analyzing a sentiment analysis problem. Such a basic problem is well solved by looking at what words occur in each review, and at what frequency. There are far more difficult natural-language-processing problems out there, where the strength of LSTM will become apparent: in particular, question-answering and machine translation.\n",
    "\n",
    "In conclusion, we now have a better grasp on the following:\n",
    " - **What RNNs are and how they work**\n",
    " - **What LSTM is, and why it works better on long sequences than a naive RNN**\n",
    " - **How to use Keras RNN layers to process sequence data**"
   ]
  }
 ],
 "metadata": {
  "kernelspec": {
   "display_name": "Python 2",
   "language": "python",
   "name": "python2"
  },
  "language_info": {
   "codemirror_mode": {
    "name": "ipython",
    "version": 2
   },
   "file_extension": ".py",
   "mimetype": "text/x-python",
   "name": "python",
   "nbconvert_exporter": "python",
   "pygments_lexer": "ipython2",
   "version": "2.7.13"
  }
 },
 "nbformat": 4,
 "nbformat_minor": 2
}
