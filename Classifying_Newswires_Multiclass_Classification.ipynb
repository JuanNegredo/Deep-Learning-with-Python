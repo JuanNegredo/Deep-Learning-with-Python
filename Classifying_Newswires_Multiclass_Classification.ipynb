{
 "cells": [
  {
   "cell_type": "markdown",
   "metadata": {},
   "source": [
    "# Classifying newswires: a multiclass classification example\n",
    "In this example, we will build a network to classify Reuters newswires into 46 mutually exclusive topics. Because there are many classes and each data point should be classified into only one category, this problem is considered to be a *single-label multiclass classification*. \n",
    "\n",
    "### 3.5.1 The Reuters dataset\n",
    "The Reuters dataset is a set of short newswires and their topics published in 1986. Let's load it from Keras:"
   ]
  },
  {
   "cell_type": "code",
   "execution_count": 1,
   "metadata": {},
   "outputs": [
    {
     "name": "stderr",
     "output_type": "stream",
     "text": [
      "Using TensorFlow backend.\n"
     ]
    },
    {
     "name": "stdout",
     "output_type": "stream",
     "text": [
      "Downloading data from https://s3.amazonaws.com/text-datasets/reuters.npz\n",
      "2113536/2110848 [==============================] - 14s    \n"
     ]
    }
   ],
   "source": [
    "from keras.datasets import reuters\n",
    "\n",
    "# num_words limits to 10,000 most frequently occurring words\n",
    "(train_data, train_labels), (test_data, test_labels) = reuters.load_data(num_words = 10000)"
   ]
  },
  {
   "cell_type": "code",
   "execution_count": 2,
   "metadata": {},
   "outputs": [
    {
     "name": "stdout",
     "output_type": "stream",
     "text": [
      "Number of training examples:  8982\n",
      "Number of test examples:  2246\n"
     ]
    }
   ],
   "source": [
    "print \"Number of training examples: \", len(train_data)\n",
    "print \"Number of test examples: \", len(test_data)"
   ]
  },
  {
   "cell_type": "code",
   "execution_count": 3,
   "metadata": {},
   "outputs": [
    {
     "data": {
      "text/plain": [
       "[1,\n",
       " 245,\n",
       " 273,\n",
       " 207,\n",
       " 156,\n",
       " 53,\n",
       " 74,\n",
       " 160,\n",
       " 26,\n",
       " 14,\n",
       " 46,\n",
       " 296,\n",
       " 26,\n",
       " 39,\n",
       " 74,\n",
       " 2979,\n",
       " 3554,\n",
       " 14,\n",
       " 46,\n",
       " 4689,\n",
       " 4329,\n",
       " 86,\n",
       " 61,\n",
       " 3499,\n",
       " 4795,\n",
       " 14,\n",
       " 61,\n",
       " 451,\n",
       " 4329,\n",
       " 17,\n",
       " 12]"
      ]
     },
     "execution_count": 3,
     "metadata": {},
     "output_type": "execute_result"
    }
   ],
   "source": [
    "# view example\n",
    "train_data[10]"
   ]
  },
  {
   "cell_type": "markdown",
   "metadata": {},
   "source": [
    "Each example is a list of intergers (word indices) corresponding to specific words. Here's how we can decode it:"
   ]
  },
  {
   "cell_type": "code",
   "execution_count": 4,
   "metadata": {},
   "outputs": [
    {
     "name": "stdout",
     "output_type": "stream",
     "text": [
      "Downloading data from https://s3.amazonaws.com/text-datasets/reuters_word_index.json\n",
      "540672/550378 [============================>.] - ETA: 0s"
     ]
    }
   ],
   "source": [
    "# decode review back to English\n",
    "word_index = reuters.get_word_index() #dictionary mapping words to integer index\n",
    "\n",
    "# this reverses the dictionary so we return words instead of numbers\n",
    "reverse_word_index = dict([(value, key) for (key, value) in word_index.items()])\n",
    "\n",
    "# This decodes the review. Note indices are offset by 3 because 0, 1, & 2 are...\n",
    "# reserved indices for \"padding,\" \"start of sequence,\" and \"unknown\"\n",
    "decoded_newswire = ' '.join([reverse_word_index.get(i - 3, '?') for i in train_data[0]])"
   ]
  },
  {
   "cell_type": "code",
   "execution_count": 8,
   "metadata": {},
   "outputs": [
    {
     "data": {
      "text/plain": [
       "u'? ? ? said as a result of its december acquisition of space co it expects earnings per share in 1987 of 1 15 to 1 30 dlrs per share up from 70 cts in 1986 the company said pretax net should rise to nine to 10 mln dlrs from six mln dlrs in 1986 and rental operation revenues to 19 to 22 mln dlrs from 12 5 mln dlrs it said cash flow per share this year should be 2 50 to three dlrs reuter 3'"
      ]
     },
     "execution_count": 8,
     "metadata": {},
     "output_type": "execute_result"
    }
   ],
   "source": [
    "decoded_newswire"
   ]
  },
  {
   "cell_type": "code",
   "execution_count": 9,
   "metadata": {},
   "outputs": [
    {
     "data": {
      "text/plain": [
       "3"
      ]
     },
     "execution_count": 9,
     "metadata": {},
     "output_type": "execute_result"
    }
   ],
   "source": [
    "# label associated with an example is number between 0 and 45\n",
    "train_labels[10]"
   ]
  },
  {
   "cell_type": "markdown",
   "metadata": {},
   "source": [
    "### 3.5.2 Preparing the data\n",
    "Let's vectorize the data.\n",
    "\n",
    "You can't feed lists of integers into a neural network. You must turn your lists into tensors. There are two ways to do that:\n",
    " - Pad lists so they all have the same length, turn them into an integer tensor of shape (samples, word_indices), and then use the first layer in the network as a layer capable of handling such integer tensors (the Embedding layer).\n",
    " - **OR** One-hot encode the lists to turn them into vectors of 0s and 1s. This would mean turning the sequence [3, 5] into a 10,000-dimensional vector that would be all 0s except for indices 3 and 5, which would be 1s. Then you could use the first layer as a Dense Layer, capable of handling floating-point vector data.\n",
    "\n",
    "We will go with the 2nd option of vectorizing the data:"
   ]
  },
  {
   "cell_type": "code",
   "execution_count": 10,
   "metadata": {
    "collapsed": true
   },
   "outputs": [],
   "source": [
    "import numpy as np\n",
    "\n",
    "def vectorize_sequences(sequences, dimension=10000):\n",
    "    results = np.zeros((len(sequences), dimension)) # creates an all-zero matrix\n",
    "    for i, sequence in enumerate(sequences):\n",
    "        results[i, sequence] = 1. # Sets specific indices of results[i] to 1s\n",
    "    return results\n",
    "\n",
    "# vectorize training data\n",
    "x_train = vectorize_sequences(train_data)\n",
    "\n",
    "# vectorize testing data\n",
    "x_test = vectorize_sequences(test_data)"
   ]
  },
  {
   "cell_type": "markdown",
   "metadata": {},
   "source": [
    "To vectorize the labels, there are also two possibilities:\n",
    " - Cast the label list as an integer tensor\n",
    " - **OR** use one-hot encoding (also called categorical encoding).\n",
    " \n",
    "Here we will use one-hot encoding which consists of embedding each label as an all-zero vector with a 1 in the place of the label index."
   ]
  },
  {
   "cell_type": "code",
   "execution_count": 12,
   "metadata": {},
   "outputs": [],
   "source": [
    "# vectorize labels\n",
    "\n",
    "def to_one_hot(labels, dimension=46):\n",
    "    results = np.zeros((len(labels), dimension))\n",
    "    for i, label in enumerate(labels):\n",
    "        results[i, label] = 1.\n",
    "    return results\n",
    "\n",
    "# vectorize training labels\n",
    "one_hot_train_labels = to_one_hot(train_labels)\n",
    "\n",
    "# vectorize testing labels\n",
    "one_hot_test_labels = to_one_hot(test_labels)"
   ]
  },
  {
   "cell_type": "code",
   "execution_count": 13,
   "metadata": {
    "collapsed": true
   },
   "outputs": [],
   "source": [
    "# Can also use a built-in Keras utility\n",
    "from keras.utils.np_utils import to_categorical\n",
    "\n",
    "one_hot_train_labels = to_categorical(train_labels)\n",
    "one_hot_test_labels = to_categorical(test_labels)"
   ]
  },
  {
   "cell_type": "code",
   "execution_count": 15,
   "metadata": {},
   "outputs": [
    {
     "name": "stdout",
     "output_type": "stream",
     "text": [
      "3\n",
      "[ 0.  0.  0.  1.  0.  0.  0.  0.  0.  0.  0.  0.  0.  0.  0.  0.  0.  0.\n",
      "  0.  0.  0.  0.  0.  0.  0.  0.  0.  0.  0.  0.  0.  0.  0.  0.  0.  0.\n",
      "  0.  0.  0.  0.  0.  0.  0.  0.  0.  0.]\n"
     ]
    }
   ],
   "source": [
    "print train_labels[10]\n",
    "print one_hot_train_labels[10]"
   ]
  },
  {
   "cell_type": "markdown",
   "metadata": {},
   "source": [
    "Here we can see the exact change we just made.\n",
    "\n",
    "### 3.5.3 Building the network\n",
    "Unlike classifying movie reviews where there were two classes: positive review or negative review, the number of output classes for classifying newswires has gone from 2 to 46, making the dimensionality of the output space much larger.\n",
    "\n",
    "In a stack of `Dense` layers, each layer can only access information present in the output of the previous layer. If one layer drops some information relevant to the classification problem, this information can never be recovered by later layers, each layer potentially becoming a layer bottleneck. In the movie classification we used 16-dimensional intermediate layers, but 16 may be too little to learn to separate 46 different classes, so we will instead use 64 units:"
   ]
  },
  {
   "cell_type": "code",
   "execution_count": 16,
   "metadata": {
    "collapsed": true
   },
   "outputs": [],
   "source": [
    "from keras import models\n",
    "from keras import layers\n",
    "\n",
    "model = models.Sequential()\n",
    "model.add(layers.Dense(64, activation='relu', input_shape=(10000,)))\n",
    "model.add(layers.Dense(64, activation='relu'))\n",
    "# use softmax activation instead of sigmoid\n",
    "model.add(layers.Dense(46, activation='softmax'))"
   ]
  },
  {
   "cell_type": "markdown",
   "metadata": {},
   "source": [
    "Two things to note about our network:\n",
    " - The network ends with a `Dense` layer of size 46. For each input sample, the network will output a 46-dimensional vector, and each entry in this vector will encode a different output class.\n",
    " - The last layer uses a `softmax` activation. This means the network will output a *probability distribution* over the 46 different output classes.\n",
    " \n",
    "The best loss function to use in this case is `categorical_crossentropy` because it will measure the distance between the probability distribution output by the network and the true distribution of the labels. By minimizing the distance between these two distributions, the network is trained to output something as close as possible to the true labels."
   ]
  },
  {
   "cell_type": "code",
   "execution_count": 17,
   "metadata": {
    "collapsed": true
   },
   "outputs": [],
   "source": [
    "model.compile(optimizer='rmsprop', loss='categorical_crossentropy',\n",
    "              metrics=['accuracy'])"
   ]
  },
  {
   "cell_type": "markdown",
   "metadata": {},
   "source": [
    "### 3.5.4 Validating approach\n",
    "Let's set apart 1,000 samples from the training data to use as the validation set, and then train the network for 20 epochs."
   ]
  },
  {
   "cell_type": "code",
   "execution_count": 18,
   "metadata": {
    "collapsed": true
   },
   "outputs": [],
   "source": [
    "x_val = x_train[:1000]\n",
    "partial_x_train = x_train[1000:]\n",
    "y_val = one_hot_train_labels[:1000]\n",
    "partial_y_train = one_hot_train_labels[1000:]"
   ]
  },
  {
   "cell_type": "code",
   "execution_count": 19,
   "metadata": {},
   "outputs": [
    {
     "name": "stdout",
     "output_type": "stream",
     "text": [
      "Train on 7982 samples, validate on 1000 samples\n",
      "Epoch 1/20\n",
      "7982/7982 [==============================] - 3s - loss: 2.5306 - acc: 0.4962 - val_loss: 1.7180 - val_acc: 0.6120\n",
      "Epoch 2/20\n",
      "7982/7982 [==============================] - 1s - loss: 1.4430 - acc: 0.6878 - val_loss: 1.3435 - val_acc: 0.7060\n",
      "Epoch 3/20\n",
      "7982/7982 [==============================] - 1s - loss: 1.0929 - acc: 0.7661 - val_loss: 1.1704 - val_acc: 0.7430\n",
      "Epoch 4/20\n",
      "7982/7982 [==============================] - 1s - loss: 0.8682 - acc: 0.8166 - val_loss: 1.0788 - val_acc: 0.7600\n",
      "Epoch 5/20\n",
      "7982/7982 [==============================] - 1s - loss: 0.7020 - acc: 0.8483 - val_loss: 0.9844 - val_acc: 0.7830\n",
      "Epoch 6/20\n",
      "7982/7982 [==============================] - 1s - loss: 0.5666 - acc: 0.8796 - val_loss: 0.9401 - val_acc: 0.8030\n",
      "Epoch 7/20\n",
      "7982/7982 [==============================] - 2s - loss: 0.4592 - acc: 0.9039 - val_loss: 0.9090 - val_acc: 0.8010\n",
      "Epoch 8/20\n",
      "7982/7982 [==============================] - 2s - loss: 0.3704 - acc: 0.9226 - val_loss: 0.9359 - val_acc: 0.7890\n",
      "Epoch 9/20\n",
      "7982/7982 [==============================] - 1s - loss: 0.3036 - acc: 0.9308 - val_loss: 0.8912 - val_acc: 0.8070\n",
      "Epoch 10/20\n",
      "7982/7982 [==============================] - 1s - loss: 0.2539 - acc: 0.9412 - val_loss: 0.9059 - val_acc: 0.8110\n",
      "Epoch 11/20\n",
      "7982/7982 [==============================] - 1s - loss: 0.2185 - acc: 0.9471 - val_loss: 0.9152 - val_acc: 0.8120\n",
      "Epoch 12/20\n",
      "7982/7982 [==============================] - 1s - loss: 0.1872 - acc: 0.9511 - val_loss: 0.9045 - val_acc: 0.8150\n",
      "Epoch 13/20\n",
      "7982/7982 [==============================] - 2s - loss: 0.1696 - acc: 0.9523 - val_loss: 0.9338 - val_acc: 0.8090\n",
      "Epoch 14/20\n",
      "7982/7982 [==============================] - 1s - loss: 0.1531 - acc: 0.9554 - val_loss: 0.9644 - val_acc: 0.80900.955\n",
      "Epoch 15/20\n",
      "7982/7982 [==============================] - 1s - loss: 0.1387 - acc: 0.9555 - val_loss: 0.9696 - val_acc: 0.8120\n",
      "Epoch 16/20\n",
      "7982/7982 [==============================] - 1s - loss: 0.1310 - acc: 0.9562 - val_loss: 1.0274 - val_acc: 0.8040\n",
      "Epoch 17/20\n",
      "7982/7982 [==============================] - 1s - loss: 0.1215 - acc: 0.9578 - val_loss: 1.0309 - val_acc: 0.7950\n",
      "Epoch 18/20\n",
      "7982/7982 [==============================] - 2s - loss: 0.1194 - acc: 0.9579 - val_loss: 1.0461 - val_acc: 0.8070\n",
      "Epoch 19/20\n",
      "7982/7982 [==============================] - 1s - loss: 0.1135 - acc: 0.9595 - val_loss: 1.1006 - val_acc: 0.7950\n",
      "Epoch 20/20\n",
      "7982/7982 [==============================] - 1s - loss: 0.1104 - acc: 0.9598 - val_loss: 1.0705 - val_acc: 0.8020\n"
     ]
    }
   ],
   "source": [
    "history = model.fit(partial_x_train, partial_y_train, epochs=20,\n",
    "                    batch_size=512, validation_data=(x_val, y_val))"
   ]
  },
  {
   "cell_type": "code",
   "execution_count": 21,
   "metadata": {},
   "outputs": [
    {
     "data": {
      "image/png": "[encoded data removed]",
      "text/plain": [
       "<matplotlib.figure.Figure at 0x1a59e313d0>"
      ]
     },
     "metadata": {},
     "output_type": "display_data"
    }
   ],
   "source": [
    "# plot training and validation loss\n",
    "import matplotlib.pyplot as plt\n",
    "\n",
    "loss = history.history['loss']\n",
    "val_loss = history.history['val_loss']\n",
    "\n",
    "epochs = range(1, len(loss) + 1)\n",
    "\n",
    "plt.plot(epochs, loss, 'bo', label='Training Loss')\n",
    "plt.plot(epochs, val_loss, 'b', label='Validation Loss')\n",
    "plt.title('Training and Validation Loss')\n",
    "plt.xlabel('Epochs')\n",
    "plt.ylabel('Loss')\n",
    "plt.legend()\n",
    "\n",
    "plt.show()"
   ]
  },
  {
   "cell_type": "code",
   "execution_count": 22,
   "metadata": {},
   "outputs": [
    {
     "data": {
      "image/png": "[encoded data removed]",
      "text/plain": [
       "<matplotlib.figure.Figure at 0x10ce48d10>"
      ]
     },
     "metadata": {},
     "output_type": "display_data"
    }
   ],
   "source": [
    "# plot training and validation accuracy\n",
    "plt.clf()\n",
    "\n",
    "acc = history.history['acc']\n",
    "val_acc = history.history['val_acc']\n",
    "\n",
    "plt.plot(epochs, acc, 'bo', label='Training Accuracy')\n",
    "plt.plot(epochs, val_acc, 'b', label='Validation Accuracy')\n",
    "plt.title('Training and Validation Accuracy')\n",
    "plt.xlabel('Epochs')\n",
    "plt.ylabel('Accuracy')\n",
    "plt.legend()\n",
    "\n",
    "plt.show()"
   ]
  },
  {
   "cell_type": "markdown",
   "metadata": {},
   "source": [
    "The network appears to overfit after 9 epochs, so we will train a new network from scratch for nine epochs then evaluate it on the test set:"
   ]
  },
  {
   "cell_type": "code",
   "execution_count": 23,
   "metadata": {},
   "outputs": [
    {
     "name": "stdout",
     "output_type": "stream",
     "text": [
      "Train on 7982 samples, validate on 1000 samples\n",
      "Epoch 1/9\n",
      "7982/7982 [==============================] - 2s - loss: 2.5401 - acc: 0.5226 - val_loss: 1.6792 - val_acc: 0.6540\n",
      "Epoch 2/9\n",
      "7982/7982 [==============================] - 2s - loss: 1.3785 - acc: 0.7096 - val_loss: 1.2825 - val_acc: 0.7210\n",
      "Epoch 3/9\n",
      "7982/7982 [==============================] - 2s - loss: 1.0207 - acc: 0.7781 - val_loss: 1.1321 - val_acc: 0.7550\n",
      "Epoch 4/9\n",
      "7982/7982 [==============================] - 2s - loss: 0.8003 - acc: 0.8257 - val_loss: 1.0533 - val_acc: 0.7580\n",
      "Epoch 5/9\n",
      "7982/7982 [==============================] - 2s - loss: 0.6392 - acc: 0.8629 - val_loss: 0.9746 - val_acc: 0.7950\n",
      "Epoch 6/9\n",
      "7982/7982 [==============================] - 2s - loss: 0.5111 - acc: 0.8931 - val_loss: 0.9097 - val_acc: 0.8130\n",
      "Epoch 7/9\n",
      "7982/7982 [==============================] - 1s - loss: 0.4115 - acc: 0.9144 - val_loss: 0.8916 - val_acc: 0.8230\n",
      "Epoch 8/9\n",
      "7982/7982 [==============================] - 1s - loss: 0.3356 - acc: 0.9287 - val_loss: 0.8732 - val_acc: 0.8270\n",
      "Epoch 9/9\n",
      "7982/7982 [==============================] - 1s - loss: 0.2786 - acc: 0.9370 - val_loss: 0.9353 - val_acc: 0.8020\n",
      "2240/2246 [============================>.] - ETA: 0s"
     ]
    }
   ],
   "source": [
    "model = models.Sequential()\n",
    "model.add(layers.Dense(64, activation='relu', input_shape=(10000,)))\n",
    "model.add(layers.Dense(64, activation='relu'))\n",
    "# use softmax activation instead of sigmoid\n",
    "model.add(layers.Dense(46, activation='softmax'))\n",
    "\n",
    "model.compile(optimizer='rmsprop', loss='categorical_crossentropy',\n",
    "              metrics=['accuracy'])\n",
    "\n",
    "model.fit(partial_x_train, partial_y_train, epochs=9,\n",
    "          batch_size=512, validation_data=(x_val, y_val))\n",
    "\n",
    "results = model.evaluate(x_test, one_hot_test_labels)"
   ]
  },
  {
   "cell_type": "code",
   "execution_count": 24,
   "metadata": {},
   "outputs": [
    {
     "data": {
      "text/plain": [
       "[1.0235643176658813, 0.77693677654461679]"
      ]
     },
     "execution_count": 24,
     "metadata": {},
     "output_type": "execute_result"
    }
   ],
   "source": [
    "results"
   ]
  },
  {
   "cell_type": "markdown",
   "metadata": {},
   "source": [
    "This approach reaches an accuracy of about 78%. With a balanced binary classification problem, the accuracy reach by a purely random classifier would be around 50%, but in this case it's close to 18%, so the results seem comparatively good."
   ]
  },
  {
   "cell_type": "code",
   "execution_count": 25,
   "metadata": {},
   "outputs": [
    {
     "data": {
      "text/plain": [
       "0.182546749777382"
      ]
     },
     "execution_count": 25,
     "metadata": {},
     "output_type": "execute_result"
    }
   ],
   "source": [
    "import copy\n",
    "test_labels_copy = copy.copy(test_labels)\n",
    "np.random.shuffle(test_labels_copy)\n",
    "hits_array = np.array(test_labels) == np.array(test_labels_copy)\n",
    "float(np.sum(hits_array)) / len(test_labels)"
   ]
  },
  {
   "cell_type": "markdown",
   "metadata": {},
   "source": [
    "### 3.5.5 Generating predictions on new data\n",
    "Let's verify that the `predict` method of the model instance returns a probability distribution over all 46 topics. Each entry in `predictions` is a vector of length 46 where its coefficients sum to 1 and the largest entry is the predicted class- the class with the highest probability."
   ]
  },
  {
   "cell_type": "code",
   "execution_count": 28,
   "metadata": {},
   "outputs": [
    {
     "name": "stdout",
     "output_type": "stream",
     "text": [
      " Vector length =  (46,)\n",
      "Coefficients sum =  1.0\n",
      "Predicted class : 3\n",
      "Certainty Percentage:  0.97318\n"
     ]
    }
   ],
   "source": [
    "predictions = model.predict(x_test)\n",
    "\n",
    "# vector length\n",
    "print \"Vector length = \", predictions[0].shape\n",
    "\n",
    "# vector sum\n",
    "print \"Coefficients sum = \", np.sum(predictions[0])\n",
    "\n",
    "# largest entry\n",
    "print \"Predicted class :\", np.argmax(predictions[0])\n",
    "print \"Certainty Percentage: \", np.max(predictions[0])"
   ]
  },
  {
   "cell_type": "markdown",
   "metadata": {},
   "source": [
    "### 3.5.6 A different way to handle the labels and the loss\n",
    "As mentioned earlier, another way to encode the labels would be to cast them as an integer tensor. The only thing this would change is the choice of the loss function. Instead of using `categorical_crossentropy`, we would use `sparse_categorical_crossentropy`:"
   ]
  },
  {
   "cell_type": "code",
   "execution_count": 29,
   "metadata": {},
   "outputs": [
    {
     "name": "stdout",
     "output_type": "stream",
     "text": [
      "3\n",
      "5\n"
     ]
    }
   ],
   "source": [
    "y_train = np.array(train_labels)\n",
    "y_test = np.array(test_labels)\n",
    "\n",
    "print y_train[10]\n",
    "print y_test[10]"
   ]
  },
  {
   "cell_type": "code",
   "execution_count": 31,
   "metadata": {
    "collapsed": true
   },
   "outputs": [],
   "source": [
    "model.compile(optimizer='rmsprop', loss='sparse_categorical_crossentropy',\n",
    "              metrics=['acc'])"
   ]
  },
  {
   "cell_type": "markdown",
   "metadata": {},
   "source": [
    "### 3.5.7 The importance of having sufficiently large intermediate layers\n",
    "Let's see what happens when we introduce an information bottleneck by having intermediate layers that are significantly less than 46-dimensional:"
   ]
  },
  {
   "cell_type": "code",
   "execution_count": 32,
   "metadata": {},
   "outputs": [
    {
     "name": "stdout",
     "output_type": "stream",
     "text": [
      "Train on 7982 samples, validate on 1000 samples\n",
      "Epoch 1/20\n",
      "7982/7982 [==============================] - 3s - loss: 2.6578 - acc: 0.3781 - val_loss: 1.9640 - val_acc: 0.5290\n",
      "Epoch 2/20\n",
      "7982/7982 [==============================] - 2s - loss: 1.6599 - acc: 0.6196 - val_loss: 1.5352 - val_acc: 0.6230\n",
      "Epoch 3/20\n",
      "7982/7982 [==============================] - 2s - loss: 1.3303 - acc: 0.6691 - val_loss: 1.3899 - val_acc: 0.6810\n",
      "Epoch 4/20\n",
      "7982/7982 [==============================] - 2s - loss: 1.1407 - acc: 0.7285 - val_loss: 1.3165 - val_acc: 0.7000\n",
      "Epoch 5/20\n",
      "7982/7982 [==============================] - 2s - loss: 1.0097 - acc: 0.7453 - val_loss: 1.2639 - val_acc: 0.7040\n",
      "Epoch 6/20\n",
      "7982/7982 [==============================] - 2s - loss: 0.9079 - acc: 0.7581 - val_loss: 1.2720 - val_acc: 0.7100\n",
      "Epoch 7/20\n",
      "7982/7982 [==============================] - 2s - loss: 0.8277 - acc: 0.7745 - val_loss: 1.2561 - val_acc: 0.7070\n",
      "Epoch 8/20\n",
      "7982/7982 [==============================] - 2s - loss: 0.7662 - acc: 0.7897 - val_loss: 1.2555 - val_acc: 0.7180\n",
      "Epoch 9/20\n",
      "7982/7982 [==============================] - 2s - loss: 0.7091 - acc: 0.8011 - val_loss: 1.2813 - val_acc: 0.7120\n",
      "Epoch 10/20\n",
      "7982/7982 [==============================] - 2s - loss: 0.6588 - acc: 0.8117 - val_loss: 1.3221 - val_acc: 0.7080\n",
      "Epoch 11/20\n",
      "7982/7982 [==============================] - 2s - loss: 0.6139 - acc: 0.8202 - val_loss: 1.3444 - val_acc: 0.7150\n",
      "Epoch 12/20\n",
      "7982/7982 [==============================] - 2s - loss: 0.5747 - acc: 0.8336 - val_loss: 1.3806 - val_acc: 0.7160\n",
      "Epoch 13/20\n",
      "7982/7982 [==============================] - 2s - loss: 0.5360 - acc: 0.8469 - val_loss: 1.4397 - val_acc: 0.7130\n",
      "Epoch 14/20\n",
      "7982/7982 [==============================] - 2s - loss: 0.5025 - acc: 0.8613 - val_loss: 1.4610 - val_acc: 0.7180\n",
      "Epoch 15/20\n",
      "7982/7982 [==============================] - 2s - loss: 0.4738 - acc: 0.8678 - val_loss: 1.5096 - val_acc: 0.7160\n",
      "Epoch 16/20\n",
      "7982/7982 [==============================] - 2s - loss: 0.4450 - acc: 0.8790 - val_loss: 1.5429 - val_acc: 0.7170\n",
      "Epoch 17/20\n",
      "7982/7982 [==============================] - 2s - loss: 0.4230 - acc: 0.8815 - val_loss: 1.5784 - val_acc: 0.7180\n",
      "Epoch 18/20\n",
      "7982/7982 [==============================] - 2s - loss: 0.4029 - acc: 0.8896 - val_loss: 1.6215 - val_acc: 0.7220\n",
      "Epoch 19/20\n",
      "7982/7982 [==============================] - 2s - loss: 0.3833 - acc: 0.8931 - val_loss: 1.6448 - val_acc: 0.7150\n",
      "Epoch 20/20\n",
      "7982/7982 [==============================] - 2s - loss: 0.3668 - acc: 0.8958 - val_loss: 1.7340 - val_acc: 0.7080\n"
     ]
    },
    {
     "data": {
      "text/plain": [
       "<keras.callbacks.History at 0x1a5a10ff90>"
      ]
     },
     "execution_count": 32,
     "metadata": {},
     "output_type": "execute_result"
    }
   ],
   "source": [
    "model = models.Sequential()\n",
    "model.add(layers.Dense(64, activation='relu', input_shape=(10000,)))\n",
    "model.add(layers.Dense(4, activation='relu'))\n",
    "model.add(layers.Dense(46, activation='softmax'))\n",
    "\n",
    "model.compile(optimizer='rmsprop', loss='categorical_crossentropy',\n",
    "              metrics=['accuracy'])\n",
    "\n",
    "model.fit(partial_x_train, partial_y_train, epochs=20,\n",
    "          batch_size=128, validation_data=(x_val, y_val))"
   ]
  },
  {
   "cell_type": "markdown",
   "metadata": {},
   "source": [
    "The network now peaks at about 72% validation accuracy, down by over 5%. This is because we are trying to compress a lot of information into an intermediate space that is too low-dimensional.\n",
    "\n",
    "## 3.5.8 Additional Experiments\n",
    "### Using larger layers: 128 units"
   ]
  },
  {
   "cell_type": "code",
   "execution_count": 33,
   "metadata": {},
   "outputs": [
    {
     "name": "stdout",
     "output_type": "stream",
     "text": [
      "Train on 7982 samples, validate on 1000 samples\n",
      "Epoch 1/20\n",
      "7982/7982 [==============================] - 4s - loss: 1.5673 - acc: 0.6662 - val_loss: 1.0797 - val_acc: 0.7590\n",
      "Epoch 2/20\n",
      "7982/7982 [==============================] - 4s - loss: 0.7696 - acc: 0.8282 - val_loss: 0.9420 - val_acc: 0.8090\n",
      "Epoch 3/20\n",
      "7982/7982 [==============================] - 4s - loss: 0.4622 - acc: 0.8976 - val_loss: 0.8276 - val_acc: 0.8300\n",
      "Epoch 4/20\n",
      "7982/7982 [==============================] - 4s - loss: 0.2981 - acc: 0.9341 - val_loss: 0.9672 - val_acc: 0.8020\n",
      "Epoch 5/20\n",
      "7982/7982 [==============================] - 4s - loss: 0.2255 - acc: 0.9446 - val_loss: 0.9684 - val_acc: 0.8020\n",
      "Epoch 6/20\n",
      "7982/7982 [==============================] - 4s - loss: 0.1882 - acc: 0.9520 - val_loss: 0.9175 - val_acc: 0.8170\n",
      "Epoch 7/20\n",
      "7982/7982 [==============================] - 4s - loss: 0.1683 - acc: 0.9550 - val_loss: 0.9263 - val_acc: 0.8200\n",
      "Epoch 8/20\n",
      "7982/7982 [==============================] - 4s - loss: 0.1528 - acc: 0.9530 - val_loss: 0.9671 - val_acc: 0.8140\n",
      "Epoch 9/20\n",
      "7982/7982 [==============================] - 4s - loss: 0.1361 - acc: 0.9544 - val_loss: 1.2547 - val_acc: 0.7730\n",
      "Epoch 10/20\n",
      "7982/7982 [==============================] - 4s - loss: 0.1307 - acc: 0.9538 - val_loss: 1.0838 - val_acc: 0.8010\n",
      "Epoch 11/20\n",
      "7982/7982 [==============================] - 4s - loss: 0.1204 - acc: 0.9577 - val_loss: 1.1125 - val_acc: 0.8100\n",
      "Epoch 12/20\n",
      "7982/7982 [==============================] - 4s - loss: 0.1155 - acc: 0.9555 - val_loss: 1.0505 - val_acc: 0.8100\n",
      "Epoch 13/20\n",
      "7982/7982 [==============================] - 4s - loss: 0.1105 - acc: 0.9555 - val_loss: 1.1285 - val_acc: 0.8050\n",
      "Epoch 14/20\n",
      "7982/7982 [==============================] - 4s - loss: 0.1051 - acc: 0.9539 - val_loss: 1.1653 - val_acc: 0.8080\n",
      "Epoch 15/20\n",
      "7982/7982 [==============================] - 4s - loss: 0.1005 - acc: 0.9587 - val_loss: 1.1993 - val_acc: 0.8070\n",
      "Epoch 16/20\n",
      "7982/7982 [==============================] - 4s - loss: 0.0962 - acc: 0.9579 - val_loss: 1.2712 - val_acc: 0.7990\n",
      "Epoch 17/20\n",
      "7982/7982 [==============================] - 4s - loss: 0.0934 - acc: 0.9562 - val_loss: 1.3359 - val_acc: 0.7960\n",
      "Epoch 18/20\n",
      "7982/7982 [==============================] - 4s - loss: 0.0915 - acc: 0.9570 - val_loss: 1.3317 - val_acc: 0.7970\n",
      "Epoch 19/20\n",
      "7982/7982 [==============================] - 4s - loss: 0.0879 - acc: 0.9570 - val_loss: 1.3997 - val_acc: 0.7930\n",
      "Epoch 20/20\n",
      "7982/7982 [==============================] - 4s - loss: 0.0836 - acc: 0.9567 - val_loss: 1.4361 - val_acc: 0.7970\n"
     ]
    },
    {
     "data": {
      "text/plain": [
       "<keras.callbacks.History at 0x1a5905fd50>"
      ]
     },
     "execution_count": 33,
     "metadata": {},
     "output_type": "execute_result"
    }
   ],
   "source": [
    "model = models.Sequential()\n",
    "model.add(layers.Dense(128, activation='relu', input_shape=(10000,)))\n",
    "model.add(layers.Dense(128, activation='relu'))\n",
    "model.add(layers.Dense(46, activation='softmax'))\n",
    "\n",
    "model.compile(optimizer='rmsprop', loss='categorical_crossentropy',\n",
    "              metrics=['accuracy'])\n",
    "\n",
    "model.fit(partial_x_train, partial_y_train, epochs=20,\n",
    "          batch_size=128, validation_data=(x_val, y_val))"
   ]
  },
  {
   "cell_type": "markdown",
   "metadata": {},
   "source": [
    "**Previous Validation Accuracy: 81.5%. The max Validation Accuracy here was 83%**.\n",
    "\n",
    "### Using three hidden layers instead of two"
   ]
  },
  {
   "cell_type": "code",
   "execution_count": 34,
   "metadata": {},
   "outputs": [
    {
     "name": "stdout",
     "output_type": "stream",
     "text": [
      "Train on 7982 samples, validate on 1000 samples\n",
      "Epoch 1/20\n",
      "7982/7982 [==============================] - 2s - loss: 1.8940 - acc: 0.5882 - val_loss: 1.3137 - val_acc: 0.6790\n",
      "Epoch 2/20\n",
      "7982/7982 [==============================] - 2s - loss: 1.0165 - acc: 0.7646 - val_loss: 1.1070 - val_acc: 0.7430\n",
      "Epoch 3/20\n",
      "7982/7982 [==============================] - 2s - loss: 0.6886 - acc: 0.8463 - val_loss: 0.9448 - val_acc: 0.7910\n",
      "Epoch 4/20\n",
      "7982/7982 [==============================] - 2s - loss: 0.4744 - acc: 0.8978 - val_loss: 0.9564 - val_acc: 0.8000\n",
      "Epoch 5/20\n",
      "7982/7982 [==============================] - 2s - loss: 0.3437 - acc: 0.9250 - val_loss: 0.9625 - val_acc: 0.8120\n",
      "Epoch 6/20\n",
      "7982/7982 [==============================] - 2s - loss: 0.2694 - acc: 0.9386 - val_loss: 1.0245 - val_acc: 0.8130\n",
      "Epoch 7/20\n",
      "7982/7982 [==============================] - 2s - loss: 0.2148 - acc: 0.9501 - val_loss: 1.0136 - val_acc: 0.8140\n",
      "Epoch 8/20\n",
      "7982/7982 [==============================] - 2s - loss: 0.1891 - acc: 0.9536 - val_loss: 1.1828 - val_acc: 0.7920\n",
      "Epoch 9/20\n",
      "7982/7982 [==============================] - 2s - loss: 0.1717 - acc: 0.9540 - val_loss: 1.1659 - val_acc: 0.8010\n",
      "Epoch 10/20\n",
      "7982/7982 [==============================] - 2s - loss: 0.1582 - acc: 0.9551 - val_loss: 1.1031 - val_acc: 0.8030\n",
      "Epoch 11/20\n",
      "7982/7982 [==============================] - 2s - loss: 0.1489 - acc: 0.9538 - val_loss: 1.1917 - val_acc: 0.7980\n",
      "Epoch 12/20\n",
      "7982/7982 [==============================] - 2s - loss: 0.1404 - acc: 0.9549 - val_loss: 1.3120 - val_acc: 0.7860\n",
      "Epoch 13/20\n",
      "7982/7982 [==============================] - 2s - loss: 0.1334 - acc: 0.9557 - val_loss: 1.1672 - val_acc: 0.8000\n",
      "Epoch 14/20\n",
      "7982/7982 [==============================] - 2s - loss: 0.1294 - acc: 0.9568 - val_loss: 1.2425 - val_acc: 0.7980\n",
      "Epoch 15/20\n",
      "7982/7982 [==============================] - 2s - loss: 0.1208 - acc: 0.9572 - val_loss: 1.2539 - val_acc: 0.7900\n",
      "Epoch 16/20\n",
      "7982/7982 [==============================] - 2s - loss: 0.1213 - acc: 0.9545 - val_loss: 1.2056 - val_acc: 0.8040\n",
      "Epoch 17/20\n",
      "7982/7982 [==============================] - 2s - loss: 0.1141 - acc: 0.9575 - val_loss: 1.3387 - val_acc: 0.7940\n",
      "Epoch 18/20\n",
      "7982/7982 [==============================] - 2s - loss: 0.1146 - acc: 0.9560 - val_loss: 1.2563 - val_acc: 0.7970\n",
      "Epoch 19/20\n",
      "7982/7982 [==============================] - 2s - loss: 0.1075 - acc: 0.9574 - val_loss: 1.3228 - val_acc: 0.7910\n",
      "Epoch 20/20\n",
      "7982/7982 [==============================] - 2s - loss: 0.1040 - acc: 0.9568 - val_loss: 1.3743 - val_acc: 0.7900\n"
     ]
    },
    {
     "data": {
      "text/plain": [
       "<keras.callbacks.History at 0x1a59023990>"
      ]
     },
     "execution_count": 34,
     "metadata": {},
     "output_type": "execute_result"
    }
   ],
   "source": [
    "model = models.Sequential()\n",
    "model.add(layers.Dense(64, activation='relu', input_shape=(10000,)))\n",
    "model.add(layers.Dense(64, activation='relu'))\n",
    "model.add(layers.Dense(64, activation='relu'))\n",
    "model.add(layers.Dense(46, activation='softmax'))\n",
    "\n",
    "model.compile(optimizer='rmsprop', loss='categorical_crossentropy',\n",
    "              metrics=['accuracy'])\n",
    "\n",
    "model.fit(partial_x_train, partial_y_train, epochs=20,\n",
    "          batch_size=128, validation_data=(x_val, y_val))"
   ]
  },
  {
   "cell_type": "markdown",
   "metadata": {},
   "source": [
    "**Previous Validation Accuracy: 81.5%. The max Validation Accuracy here was 81.4%**."
   ]
  }
 ],
 "metadata": {
  "kernelspec": {
   "display_name": "Python 2",
   "language": "python",
   "name": "python2"
  },
  "language_info": {
   "codemirror_mode": {
    "name": "ipython",
    "version": 2
   },
   "file_extension": ".py",
   "mimetype": "text/x-python",
   "name": "python",
   "nbconvert_exporter": "python",
   "pygments_lexer": "ipython2",
   "version": "2.7.13"
  }
 },
 "nbformat": 4,
 "nbformat_minor": 2
}
