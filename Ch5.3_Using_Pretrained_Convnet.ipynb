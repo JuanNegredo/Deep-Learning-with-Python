{
 "cells": [
  {
   "cell_type": "markdown",
   "metadata": {},
   "source": [
    "# 5.3 Using a pretrained convnet\n",
    "A common and effective approach to deep learning on small image datasets is to use a pretrained network, which is a saved network that was previously trained on a large dataset. If the pretrained model was trained on a large enough dataset, then its features can prove useful for many different computer vision problems, even if they are unlike the new task you are training it to perform. Portability of learned features across different problems is a key advantage to deep learning compared to older, shallow-learning approaches.\n",
    "\n",
    "For this lesson, we will use a large convnet trained on the **ImageNet** dataset which consists of 1.4 million labeled images of animals spanning 1,000 different classes. We will also use VGG16 architecture which is a simple and widely used convnet architecture for ImageNet.\n",
    "\n",
    "There are two ways to use a pretrained network: **feature extraction** and **fine-tuning**. We will cover both in following sections.\n",
    "\n",
    "### 5.3.1 Feature extraction\n",
    "Feature extraction consists of using the representations learned by a previous network to extract interesting features from new samples. These features are then run through a new classifier that is trained from scratch.\n",
    "\n",
    "To review, convnets used to image classification comprise two parts: they begin with a series of pooling and convolution layers, and end with a densely connected classifier. The first portion is called the *convolutional base*. Feature extraction consists of taking the convolutional base of a previously trained network, running new data through it, and trainined a new classifier on top of the output.\n",
    "\n",
    "![feature extraction](images/5_3_1_featextr.jpg)\n",
    "\n",
    "One should refrain from reusing the densely connected classifier portion of the pretrained model because the representations learned by the convolutional base are likely to be more generic and reusable. The representations learned from the densely connected classifier will be specific to the set of classes on which the model was trained, and generally not broad or flexible enough to be reused to train a new model. In addition, densely connected layers no longer contain any information about *where* objects are located in an input image, which can also be burdensome.\n",
    "\n",
    "The level of generality of the representation extracted by convolutional layers depends on the depth of the layer in the model. Layers that come earlier in the model extract local, highly generic feature maps such as visual edges, colors, and textures. Layers that are higher up extract more abstract concepts such as \"cat ear\" or \"dog eye\".\n",
    "\n",
    "Because the ImageNet class set contains multiple dog and cat classes, it's likely to be beneficial to reuse the information contained in the densely connected layers of the original model, but we'll choose not to for the sake of learning the more common practice of only using the convolutional base (specifically the VGG16 architecture in this case).\n",
    "\n",
    "Let's instantiate the VGG16 model, which comes prepackaged with Keras."
   ]
  },
  {
   "cell_type": "code",
   "execution_count": 1,
   "metadata": {},
   "outputs": [
    {
     "name": "stderr",
     "output_type": "stream",
     "text": [
      "Using TensorFlow backend.\n"
     ]
    },
    {
     "name": "stdout",
     "output_type": "stream",
     "text": [
      "Downloading data from https://github.com/fchollet/deep-learning-models/releases/download/v0.1/vgg16_weights_tf_dim_ordering_tf_kernels_notop.h5\n",
      "58826752/58889256 [============================>.] - ETA: 0s"
     ]
    }
   ],
   "source": [
    "from keras.applications import VGG16\n",
    "\n",
    "conv_base = VGG16(weights='imagenet', include_top=False, input_shape=(150,150,3))"
   ]
  },
  {
   "cell_type": "markdown",
   "metadata": {},
   "source": [
    "Let's break down the three arguments we passed to VGG16:\n",
    " - **`weights`** specifies the weight checkpoint from which to initialize the model.\n",
    " - **`include_top`** refers to including the densely connected classifier on top of the network.\n",
    " - **`input_shape`** is the shape of the image tensors that we will feed the network, but this is an optional argument. \n",
    " \n",
    "Let's view the detail of the VGG16 convolutional base architecture:"
   ]
  },
  {
   "cell_type": "code",
   "execution_count": 2,
   "metadata": {},
   "outputs": [
    {
     "name": "stdout",
     "output_type": "stream",
     "text": [
      "_________________________________________________________________\n",
      "Layer (type)                 Output Shape              Param #   \n",
      "=================================================================\n",
      "input_1 (InputLayer)         (None, 150, 150, 3)       0         \n",
      "_________________________________________________________________\n",
      "block1_conv1 (Conv2D)        (None, 150, 150, 64)      1792      \n",
      "_________________________________________________________________\n",
      "block1_conv2 (Conv2D)        (None, 150, 150, 64)      36928     \n",
      "_________________________________________________________________\n",
      "block1_pool (MaxPooling2D)   (None, 75, 75, 64)        0         \n",
      "_________________________________________________________________\n",
      "block2_conv1 (Conv2D)        (None, 75, 75, 128)       73856     \n",
      "_________________________________________________________________\n",
      "block2_conv2 (Conv2D)        (None, 75, 75, 128)       147584    \n",
      "_________________________________________________________________\n",
      "block2_pool (MaxPooling2D)   (None, 37, 37, 128)       0         \n",
      "_________________________________________________________________\n",
      "block3_conv1 (Conv2D)        (None, 37, 37, 256)       295168    \n",
      "_________________________________________________________________\n",
      "block3_conv2 (Conv2D)        (None, 37, 37, 256)       590080    \n",
      "_________________________________________________________________\n",
      "block3_conv3 (Conv2D)        (None, 37, 37, 256)       590080    \n",
      "_________________________________________________________________\n",
      "block3_pool (MaxPooling2D)   (None, 18, 18, 256)       0         \n",
      "_________________________________________________________________\n",
      "block4_conv1 (Conv2D)        (None, 18, 18, 512)       1180160   \n",
      "_________________________________________________________________\n",
      "block4_conv2 (Conv2D)        (None, 18, 18, 512)       2359808   \n",
      "_________________________________________________________________\n",
      "block4_conv3 (Conv2D)        (None, 18, 18, 512)       2359808   \n",
      "_________________________________________________________________\n",
      "block4_pool (MaxPooling2D)   (None, 9, 9, 512)         0         \n",
      "_________________________________________________________________\n",
      "block5_conv1 (Conv2D)        (None, 9, 9, 512)         2359808   \n",
      "_________________________________________________________________\n",
      "block5_conv2 (Conv2D)        (None, 9, 9, 512)         2359808   \n",
      "_________________________________________________________________\n",
      "block5_conv3 (Conv2D)        (None, 9, 9, 512)         2359808   \n",
      "_________________________________________________________________\n",
      "block5_pool (MaxPooling2D)   (None, 4, 4, 512)         0         \n",
      "=================================================================\n",
      "Total params: 14,714,688\n",
      "Trainable params: 14,714,688\n",
      "Non-trainable params: 0\n",
      "_________________________________________________________________\n"
     ]
    }
   ],
   "source": [
    "conv_base.summary()"
   ]
  },
  {
   "cell_type": "markdown",
   "metadata": {},
   "source": [
    "The final feature map has shape (4, 4, 512) which is where we will stick a densely connected classifier.\n",
    "\n",
    "There are two ways to proceed from this point:\n",
    " 1. Running the convolutional base over the dataset, recording its output to a Numpy array on disk, and then using this data as input to a standalone, densely connected classifier. This solution is fast and cheap to run, because it only requires running the convolutional base once for every input image, however, this method prevents you from using data augmentation.\n",
    " 2. Extending the model you have (`conv_base`) by adding `Dense` layers on top, and running the whole thing end to end on the input data. This will allow data augmentation, but this technique is far more expensive than the first method.\n",
    " \n",
    "**FAST FEATURE EXTRACTION WITHOUT DATA AUGMENTATION**"
   ]
  },
  {
   "cell_type": "code",
   "execution_count": 3,
   "metadata": {
    "collapsed": true
   },
   "outputs": [],
   "source": [
    "import os\n",
    "import numpy as np\n",
    "from keras.preprocessing.image import ImageDataGenerator"
   ]
  },
  {
   "cell_type": "code",
   "execution_count": 4,
   "metadata": {
    "collapsed": true
   },
   "outputs": [],
   "source": [
    "base_dir = '/Volumes/RobStorage/Desktop/Python_Practice/DL_with_Python/data/cats_and_dogs_small'\n",
    "train_dir = os.path.join(base_dir, 'train')\n",
    "validation_dir = os.path.join(base_dir, 'validation')\n",
    "test_dir = os.path.join(base_dir, 'test')"
   ]
  },
  {
   "cell_type": "code",
   "execution_count": 5,
   "metadata": {
    "collapsed": true
   },
   "outputs": [],
   "source": [
    "datagen = ImageDataGenerator(rescale=1./255)\n",
    "batch_size = 20"
   ]
  },
  {
   "cell_type": "code",
   "execution_count": 6,
   "metadata": {
    "collapsed": true
   },
   "outputs": [],
   "source": [
    "def extract_features(directory, sample_count):\n",
    "    features = np.zeros(shape=(sample_count, 4, 4, 512))\n",
    "    labels = np.zeros(shape=(sample_count))\n",
    "    generator = datagen.flow_from_directory(directory, target_size=(150, 150),\n",
    "                                            batch_size=batch_size, class_mode='binary')\n",
    "    i = 0\n",
    "    for inputs_batch, labels_batch in generator:\n",
    "        features_batch = conv_base.predict(inputs_batch)\n",
    "        features[i * batch_size : (i + 1) * batch_size] = features_batch\n",
    "        labels[i * batch_size : (i + 1) * batch_size] = labels_batch\n",
    "        i += 1\n",
    "        if i * batch_size >= sample_count:\n",
    "            break\n",
    "    return features, labels"
   ]
  },
  {
   "cell_type": "code",
   "execution_count": 7,
   "metadata": {},
   "outputs": [
    {
     "name": "stdout",
     "output_type": "stream",
     "text": [
      "Found 2000 images belonging to 2 classes.\n",
      "Found 1000 images belonging to 2 classes.\n",
      "Found 1000 images belonging to 2 classes.\n"
     ]
    }
   ],
   "source": [
    "train_features, train_labels = extract_features(train_dir, 2000)\n",
    "validation_features, validation_labels = extract_features(validation_dir, 1000)\n",
    "test_features, test_labels = extract_features(test_dir, 1000)"
   ]
  },
  {
   "cell_type": "markdown",
   "metadata": {},
   "source": [
    "Because the extracted features are currently of shape (`samples, 4, 4, 512`), we'll feed them through a densely connected classifier. To do this, we must first flatten them to (`samples, 8192`):"
   ]
  },
  {
   "cell_type": "code",
   "execution_count": 8,
   "metadata": {
    "collapsed": true
   },
   "outputs": [],
   "source": [
    "train_features = np.reshape(train_features, (2000, 4 * 4 * 512))\n",
    "validation_features = np.reshape(validation_features, (1000, 4 * 4 * 512))\n",
    "test_features = np.reshape(test_features, (1000, 4 * 4 * 512))"
   ]
  },
  {
   "cell_type": "markdown",
   "metadata": {},
   "source": [
    "At this point, we can define our densely connected classifier (note the use of dropout for regularization) and train it on the data and labels we just recorded."
   ]
  },
  {
   "cell_type": "code",
   "execution_count": 9,
   "metadata": {},
   "outputs": [
    {
     "name": "stdout",
     "output_type": "stream",
     "text": [
      "Train on 2000 samples, validate on 1000 samples\n",
      "Epoch 1/30\n",
      "2000/2000 [==============================] - 5s - loss: 0.6047 - acc: 0.6635 - val_loss: 0.4498 - val_acc: 0.8030\n",
      "Epoch 2/30\n",
      "2000/2000 [==============================] - 4s - loss: 0.4222 - acc: 0.8010 - val_loss: 0.3665 - val_acc: 0.8430\n",
      "Epoch 3/30\n",
      "2000/2000 [==============================] - 5s - loss: 0.3607 - acc: 0.8475 - val_loss: 0.3242 - val_acc: 0.8630\n",
      "Epoch 4/30\n",
      "2000/2000 [==============================] - 5s - loss: 0.3201 - acc: 0.8695 - val_loss: 0.2989 - val_acc: 0.8840\n",
      "Epoch 5/30\n",
      "2000/2000 [==============================] - 5s - loss: 0.2907 - acc: 0.8840 - val_loss: 0.2834 - val_acc: 0.8910\n",
      "Epoch 6/30\n",
      "2000/2000 [==============================] - 5s - loss: 0.2638 - acc: 0.8970 - val_loss: 0.2736 - val_acc: 0.8890\n",
      "Epoch 7/30\n",
      "2000/2000 [==============================] - 5s - loss: 0.2481 - acc: 0.9060 - val_loss: 0.2667 - val_acc: 0.8910\n",
      "Epoch 8/30\n",
      "2000/2000 [==============================] - 4s - loss: 0.2277 - acc: 0.9220 - val_loss: 0.2572 - val_acc: 0.8950\n",
      "Epoch 9/30\n",
      "2000/2000 [==============================] - 4s - loss: 0.2299 - acc: 0.9150 - val_loss: 0.2542 - val_acc: 0.8970\n",
      "Epoch 10/30\n",
      "2000/2000 [==============================] - 5s - loss: 0.2063 - acc: 0.9180 - val_loss: 0.2482 - val_acc: 0.9010\n",
      "Epoch 11/30\n",
      "2000/2000 [==============================] - 5s - loss: 0.2004 - acc: 0.9210 - val_loss: 0.2444 - val_acc: 0.9010\n",
      "Epoch 12/30\n",
      "2000/2000 [==============================] - 4s - loss: 0.1850 - acc: 0.9270 - val_loss: 0.2491 - val_acc: 0.8990\n",
      "Epoch 13/30\n",
      "2000/2000 [==============================] - 5s - loss: 0.1818 - acc: 0.9295 - val_loss: 0.2538 - val_acc: 0.8930\n",
      "Epoch 14/30\n",
      "2000/2000 [==============================] - 5s - loss: 0.1800 - acc: 0.9295 - val_loss: 0.2378 - val_acc: 0.89800.9\n",
      "Epoch 15/30\n",
      "2000/2000 [==============================] - 4s - loss: 0.1613 - acc: 0.9450 - val_loss: 0.2367 - val_acc: 0.9010\n",
      "Epoch 16/30\n",
      "2000/2000 [==============================] - 5s - loss: 0.1622 - acc: 0.9405 - val_loss: 0.2349 - val_acc: 0.9000\n",
      "Epoch 17/30\n",
      "2000/2000 [==============================] - 4s - loss: 0.1483 - acc: 0.9475 - val_loss: 0.2355 - val_acc: 0.9040\n",
      "Epoch 18/30\n",
      "2000/2000 [==============================] - 4s - loss: 0.1497 - acc: 0.9510 - val_loss: 0.2340 - val_acc: 0.9000\n",
      "Epoch 19/30\n",
      "2000/2000 [==============================] - 4s - loss: 0.1476 - acc: 0.9490 - val_loss: 0.2403 - val_acc: 0.9000\n",
      "Epoch 20/30\n",
      "2000/2000 [==============================] - 4s - loss: 0.1385 - acc: 0.9530 - val_loss: 0.2361 - val_acc: 0.9020\n",
      "Epoch 21/30\n",
      "2000/2000 [==============================] - 4s - loss: 0.1297 - acc: 0.9555 - val_loss: 0.2324 - val_acc: 0.8990\n",
      "Epoch 22/30\n",
      "2000/2000 [==============================] - 4s - loss: 0.1302 - acc: 0.9560 - val_loss: 0.2312 - val_acc: 0.9000\n",
      "Epoch 23/30\n",
      "2000/2000 [==============================] - 4s - loss: 0.1221 - acc: 0.9600 - val_loss: 0.2302 - val_acc: 0.9000\n",
      "Epoch 24/30\n",
      "2000/2000 [==============================] - 4s - loss: 0.1180 - acc: 0.9625 - val_loss: 0.2357 - val_acc: 0.9010\n",
      "Epoch 25/30\n",
      "2000/2000 [==============================] - 4s - loss: 0.1134 - acc: 0.9630 - val_loss: 0.2316 - val_acc: 0.9000\n",
      "Epoch 26/30\n",
      "2000/2000 [==============================] - 4s - loss: 0.1087 - acc: 0.9670 - val_loss: 0.2312 - val_acc: 0.9010\n",
      "Epoch 27/30\n",
      "2000/2000 [==============================] - 5s - loss: 0.1000 - acc: 0.9690 - val_loss: 0.2358 - val_acc: 0.9010\n",
      "Epoch 28/30\n",
      "2000/2000 [==============================] - 5s - loss: 0.0997 - acc: 0.9685 - val_loss: 0.2379 - val_acc: 0.9030\n",
      "Epoch 29/30\n",
      "2000/2000 [==============================] - 5s - loss: 0.0979 - acc: 0.9705 - val_loss: 0.2388 - val_acc: 0.9050\n",
      "Epoch 30/30\n",
      "2000/2000 [==============================] - 5s - loss: 0.0909 - acc: 0.9680 - val_loss: 0.2370 - val_acc: 0.9020\n"
     ]
    }
   ],
   "source": [
    "from keras import models\n",
    "from keras import layers\n",
    "from keras import optimizers\n",
    "\n",
    "model = models.Sequential()\n",
    "model.add(layers.Dense(256, activation='relu', input_dim=4 * 4 * 512))\n",
    "model.add(layers.Dropout(0.5))\n",
    "model.add(layers.Dense(1, activation='sigmoid'))\n",
    "\n",
    "model.compile(optimizer=optimizers.RMSprop(lr=2e-5),\n",
    "              loss='binary_crossentropy',\n",
    "              metrics=['acc'])\n",
    "\n",
    "history = model.fit(train_features, train_labels, epochs=30, batch_size=20,\n",
    "                    validation_data=(validation_features, validation_labels))"
   ]
  },
  {
   "cell_type": "markdown",
   "metadata": {},
   "source": [
    "Because we only had to deal with two `Dense` layers, the training should be extremely fast.\n",
    "\n",
    "Let's take a look at the loss and accuracy curves during training:"
   ]
  },
  {
   "cell_type": "code",
   "execution_count": 10,
   "metadata": {},
   "outputs": [
    {
     "data": {
      "image/png": "[encoded data removed]",
      "text/plain": [
       "<matplotlib.figure.Figure at 0x1a1a43b0d0>"
      ]
     },
     "metadata": {},
     "output_type": "display_data"
    },
    {
     "data": {
      "image/png": "[encoded data removed]",
      "text/plain": [
       "<matplotlib.figure.Figure at 0x1a1a963890>"
      ]
     },
     "metadata": {},
     "output_type": "display_data"
    }
   ],
   "source": [
    "import matplotlib.pyplot as plt\n",
    "\n",
    "acc = history.history['acc']\n",
    "val_acc = history.history['val_acc']\n",
    "loss = history.history['loss']\n",
    "val_loss = history.history['val_loss']\n",
    "\n",
    "epochs = range(1, len(acc) + 1)\n",
    "\n",
    "plt.plot(epochs, acc, 'bo', label='Training acc')\n",
    "plt.plot(epochs, val_acc, 'b', label='Validation acc')\n",
    "plt.title('Training and validation accuracy')\n",
    "plt.legend()\n",
    "\n",
    "plt.figure()\n",
    "\n",
    "plt.plot(epochs, loss, 'bo', label='Training loss')\n",
    "plt.plot(epochs, val_loss, 'b', label='Validation loss')\n",
    "plt.title('Training and Validation Loss')\n",
    "plt.legend()\n",
    "\n",
    "plt.show()"
   ]
  },
  {
   "cell_type": "markdown",
   "metadata": {},
   "source": [
    "We reach a validation accuracy of about 90% before it begins to plateau, which is significantly better than the model we trained from scratch which attained an accuracy of 82%. Unfortunately, the plots also indicate that we are overfitting almost from the start, despite using dropout. The reason for that is because this technique doesn't use data augmentation, which is critical for preventing overfitting with small image datasets.\n",
    "\n",
    "**FEATURE EXTRACTION WITH DATA AUGMENTATION**\n",
    "Now, we will review the second technique for doing feature extraction, which is much slower and more expensive, but allows us to use data augmentation during training.\n",
    "\n",
    " - **Note**: training this model on a CPU is nearly impossible. Only attempt to replicate code if you have access to a GPU.\n",
    " \n",
    "Because models behave just like layers, we can add a model (like `conv_base`) to a `Sequential` model just like we would add a layer:"
   ]
  },
  {
   "cell_type": "code",
   "execution_count": 11,
   "metadata": {
    "collapsed": true
   },
   "outputs": [],
   "source": [
    "from keras import models\n",
    "from keras import layers\n",
    "\n",
    "model = models.Sequential()\n",
    "model.add(conv_base)\n",
    "model.add(layers.Flatten())\n",
    "model.add(layers.Dense(256, activation='relu'))\n",
    "model.add(layers.Dense(1, activation='sigmoid'))"
   ]
  },
  {
   "cell_type": "code",
   "execution_count": 12,
   "metadata": {},
   "outputs": [
    {
     "name": "stdout",
     "output_type": "stream",
     "text": [
      "_________________________________________________________________\n",
      "Layer (type)                 Output Shape              Param #   \n",
      "=================================================================\n",
      "vgg16 (Model)                (None, 4, 4, 512)         14714688  \n",
      "_________________________________________________________________\n",
      "flatten_1 (Flatten)          (None, 8192)              0         \n",
      "_________________________________________________________________\n",
      "dense_3 (Dense)              (None, 256)               2097408   \n",
      "_________________________________________________________________\n",
      "dense_4 (Dense)              (None, 1)                 257       \n",
      "=================================================================\n",
      "Total params: 16,812,353\n",
      "Trainable params: 16,812,353\n",
      "Non-trainable params: 0\n",
      "_________________________________________________________________\n"
     ]
    }
   ],
   "source": [
    "model.summary()"
   ]
  },
  {
   "cell_type": "markdown",
   "metadata": {},
   "source": [
    "The convolutional base of VGG16 has 14,714,688 parameters, which is pretty big. The classifier we're adding on top has 2 million parameters.\n",
    "\n",
    "Before compiling and training the model, it's important to freeze the convolutional base. **Freezing** a layer or set of layers means preventing their weights from being updated during training. If we don't do this, representations that were previously learned will be modified during training, which would effectively destroy the network.\n",
    "\n",
    "In Keras, we freeze a network by setting its `trainable` attribute to `False`:"
   ]
  },
  {
   "cell_type": "code",
   "execution_count": 13,
   "metadata": {},
   "outputs": [
    {
     "name": "stdout",
     "output_type": "stream",
     "text": [
      "('This is the number of trainable weights before freezing the conv base:', 30)\n",
      "('This is the number of trainable weights after freezing the conv base:', 4)\n"
     ]
    }
   ],
   "source": [
    "print('This is the number of trainable weights '\n",
    "         'before freezing the conv base:', len(model.trainable_weights))\n",
    "conv_base.trainable = False\n",
    "print('This is the number of trainable weights '\n",
    "          'after freezing the conv base:', len(model.trainable_weights))"
   ]
  },
  {
   "cell_type": "markdown",
   "metadata": {},
   "source": [
    "Now, only the weights from the two `Dense` layers that we added will be trained. That's a total of four weight tensors: two per layer (the main weight matrix and the bias vector). In order for these changes to take effect, we must first compile the model. If we ever modify weight trainability after compilation, then we should recompile the model, or these changes will be ignored.\n",
    "\n",
    "Now to start training the model, with the same data-augmentation configuration from an earlier example:"
   ]
  },
  {
   "cell_type": "code",
   "execution_count": null,
   "metadata": {
    "collapsed": true
   },
   "outputs": [],
   "source": [
    "from keras.preprocessing.image import ImageDataGenerator\n",
    "from keras import optimizers\n",
    "\n",
    "train_datagen = ImageDataGenerator(\n",
    "      rescale=1./255,\n",
    "      rotation_range=40,\n",
    "      width_shift_range=0.2,\n",
    "      height_shift_range=0.2,\n",
    "      shear_range=0.2,\n",
    "      zoom_range=0.2,\n",
    "      horizontal_flip=True,\n",
    "      fill_mode='nearest')\n",
    "\n",
    "# Validation data shouldn't be augmented!\n",
    "test_datagen = ImageDataGenerator(rescale=1./255)                \n",
    "\n",
    "train_generator = train_datagen.flow_from_directory(\n",
    "        train_dir,  # target directory                                          \n",
    "        target_size=(150, 150), # resizes images to 150 x 150                               \n",
    "        batch_size=20,\n",
    "        class_mode='binary') # because we use binary_crossentropy loss, we need binary labels                                \n",
    "\n",
    "validation_generator = test_datagen.flow_from_directory(\n",
    "        validation_dir,\n",
    "        target_size=(150, 150),\n",
    "        batch_size=20,\n",
    "        class_mode='binary')\n",
    "\n",
    "model.compile(loss='binary_crossentropy',\n",
    "              optimizer=optimizers.RMSprop(lr=2e-5),\n",
    "              metrics=['acc'])\n",
    "\n",
    "history = model.fit_generator(\n",
    "      train_generator,\n",
    "      steps_per_epoch=100,\n",
    "      epochs=30,\n",
    "      validation_data=validation_generator,\n",
    "      validation_steps=50)"
   ]
  },
  {
   "cell_type": "markdown",
   "metadata": {},
   "source": [
    "Now to plot the results!\n",
    "\n",
    "![pretrained1](images/5_3_1_pretrain1.jpg)\n",
    "![pretrained2](images/5_3_1_pretrain2.jpg)\n",
    "\n",
    "Wow. We were able to reach a validation accuracy of about 96%. This is a major improvement.\n",
    "\n",
    "### 5.3.2 Fine-tuning\n",
    "Another widely used technique for model reuse, complementary to feature extraction, is **fine-tuning**. Fine-tuning consists of unfreezing a few of the top layers of a frozen model base used for feature extraction, and jointly training both the newly added part of the model and these top layers. It's called *fine-tuning* because it slightly adjusts the more abstract representations of the model being reused, in order to make them more relevant for the problem at hand.\n",
    "\n",
    "![finetuning](images/5_3_2_finetuning.jpg)\n",
    "\n",
    "As previously stated, it's necessary to freeze the convolution base of VGG16 in order to be able to train a randomly initialized classifier on top. It's only possible to fine-tune the top layers of the convolutional base once the classifier on top has already been trained. If the classifier isn't already trained, then the error signal propagating through the network during training will be too large, and the representations previously learned by the layers being fine-tuned will be destroyed.\n",
    "\n",
    "Steps for fine-tuning:\n",
    " 1. **Add the custom network on top of an already-trained base network.**\n",
    " 2. **Freeze the base network.**\n",
    " 3. **Train the part that was added.**\n",
    " 4. **Unfreeze some layers in the base network.**\n",
    " 5. **Jointly train these layers and the part that was added.**\n",
    " \n",
    "We already completed the first three steps, so let's proceed to step 4 and unfreeze `conv_base` and then freeze individual layers inside of it.\n",
    "\n",
    "Let's take a look at convolutional base again to get a better idea of what we are working on."
   ]
  },
  {
   "cell_type": "code",
   "execution_count": 14,
   "metadata": {},
   "outputs": [
    {
     "name": "stdout",
     "output_type": "stream",
     "text": [
      "_________________________________________________________________\n",
      "Layer (type)                 Output Shape              Param #   \n",
      "=================================================================\n",
      "input_1 (InputLayer)         (None, 150, 150, 3)       0         \n",
      "_________________________________________________________________\n",
      "block1_conv1 (Conv2D)        (None, 150, 150, 64)      1792      \n",
      "_________________________________________________________________\n",
      "block1_conv2 (Conv2D)        (None, 150, 150, 64)      36928     \n",
      "_________________________________________________________________\n",
      "block1_pool (MaxPooling2D)   (None, 75, 75, 64)        0         \n",
      "_________________________________________________________________\n",
      "block2_conv1 (Conv2D)        (None, 75, 75, 128)       73856     \n",
      "_________________________________________________________________\n",
      "block2_conv2 (Conv2D)        (None, 75, 75, 128)       147584    \n",
      "_________________________________________________________________\n",
      "block2_pool (MaxPooling2D)   (None, 37, 37, 128)       0         \n",
      "_________________________________________________________________\n",
      "block3_conv1 (Conv2D)        (None, 37, 37, 256)       295168    \n",
      "_________________________________________________________________\n",
      "block3_conv2 (Conv2D)        (None, 37, 37, 256)       590080    \n",
      "_________________________________________________________________\n",
      "block3_conv3 (Conv2D)        (None, 37, 37, 256)       590080    \n",
      "_________________________________________________________________\n",
      "block3_pool (MaxPooling2D)   (None, 18, 18, 256)       0         \n",
      "_________________________________________________________________\n",
      "block4_conv1 (Conv2D)        (None, 18, 18, 512)       1180160   \n",
      "_________________________________________________________________\n",
      "block4_conv2 (Conv2D)        (None, 18, 18, 512)       2359808   \n",
      "_________________________________________________________________\n",
      "block4_conv3 (Conv2D)        (None, 18, 18, 512)       2359808   \n",
      "_________________________________________________________________\n",
      "block4_pool (MaxPooling2D)   (None, 9, 9, 512)         0         \n",
      "_________________________________________________________________\n",
      "block5_conv1 (Conv2D)        (None, 9, 9, 512)         2359808   \n",
      "_________________________________________________________________\n",
      "block5_conv2 (Conv2D)        (None, 9, 9, 512)         2359808   \n",
      "_________________________________________________________________\n",
      "block5_conv3 (Conv2D)        (None, 9, 9, 512)         2359808   \n",
      "_________________________________________________________________\n",
      "block5_pool (MaxPooling2D)   (None, 4, 4, 512)         0         \n",
      "=================================================================\n",
      "Total params: 14,714,688\n",
      "Trainable params: 0\n",
      "Non-trainable params: 14,714,688\n",
      "_________________________________________________________________\n"
     ]
    }
   ],
   "source": [
    "conv_base.summary()"
   ]
  },
  {
   "cell_type": "markdown",
   "metadata": {},
   "source": [
    "We will fine-tune the last three convolutional layers, so all layers up to **`block4_pool`** should be frozen, and the layers **`block5_conv1, block5_conv2,`** and **`block_conv3`** should be trainable.\n",
    "\n",
    "***Why not fine-tune more layers? Why not fine-tune the entire convolutional base?***\n",
    "\n",
    "We won't fine-tune more layers for two reasons:\n",
    " 1. Earlier layers in the convolutional base encode more-generic, reusable features, whereas layers higher up encode more-specialized features, which are the ones that we need to repurpose for our new problem.\n",
    " 2. The more parameters we train, the greater the risk of overfitting."
   ]
  },
  {
   "cell_type": "code",
   "execution_count": 15,
   "metadata": {
    "collapsed": true
   },
   "outputs": [],
   "source": [
    "conv_base.trainable = True\n",
    "\n",
    "set_trainable = False\n",
    "for layer in conv_base.layers:\n",
    "    if layer.name == 'block5_conv1':\n",
    "        set_trainable = True\n",
    "    if set_trainable:\n",
    "        layer.trainable = True\n",
    "    else:\n",
    "        layer.trainable = False"
   ]
  },
  {
   "cell_type": "markdown",
   "metadata": {},
   "source": [
    "Now we can begin fine-tuning the network."
   ]
  },
  {
   "cell_type": "code",
   "execution_count": null,
   "metadata": {
    "collapsed": true
   },
   "outputs": [],
   "source": [
    "model.compile(loss='binary_crossentropy',\n",
    "              optimizer=optimizers.RMSprop(lr=1e-5),\n",
    "              metrics=['acc'])\n",
    "\n",
    "history = model.fit_generator(\n",
    "      train_generator,\n",
    "      steps_per_epoch=100,\n",
    "      epochs=100,\n",
    "      validation_data=validation_generator,\n",
    "      validation_steps=50)"
   ]
  },
  {
   "cell_type": "markdown",
   "metadata": {},
   "source": [
    "Let's take a look at the results!\n",
    "\n",
    "![ft1](images/5_3_2_ft1.jpg)\n",
    "![ft2](images/5_3_2_ft2.jpg)\n",
    "\n",
    "These curves look pretty noisy. To make them more readable, we can smooth them by replacing every loss and accuracy with exponential moving averages of these quantities. Here is the function to do that:"
   ]
  },
  {
   "cell_type": "code",
   "execution_count": null,
   "metadata": {
    "collapsed": true
   },
   "outputs": [],
   "source": [
    "def smooth_curve(points, factor=0.8):\n",
    "  smoothed_points = []\n",
    "  for point in points:\n",
    "    if smoothed_points:\n",
    "      previous = smoothed_points[-1]\n",
    "      smoothed_points.append(previous * factor + point * (1 - factor))\n",
    "    else:\n",
    "      smoothed_points.append(point)\n",
    "  return smoothed_points\n",
    "\n",
    "plt.plot(epochs, smooth_curve(acc), 'bo', label='Smoothed training acc')\n",
    "plt.plot(epochs, smooth_curve(val_acc), 'b', label='Smoothed validation acc')\n",
    "plt.title('Training and validation accuracy')\n",
    "plt.legend()\n",
    "\n",
    "plt.figure()\n",
    "\n",
    "plt.plot(epochs, smooth_curve(loss), 'bo', label='Smoothed training loss')\n",
    "plt.plot(epochs, smooth_curve(val_loss), 'b', label='Smoothed validation loss')\n",
    "plt.title('Training and validation loss')\n",
    "plt.legend()\n",
    "\n",
    "plt.show()"
   ]
  },
  {
   "cell_type": "markdown",
   "metadata": {},
   "source": [
    "![ft3](images/5_3_2_ft3.jpg)\n",
    "![ft4](images/5_3_2_ft4.jpg)\n",
    "\n",
    "The validation accuracy curve looks much cleaner this time! Our accuracy jumped from (an already strong) 96% to **above 97%**!\n",
    "\n",
    "On the other hand, the loss curve doesn't show any real improvement. So, how could accuracy stay stable or improve if the loss isn't decreasing? This is because what we display is an average of pointwise loss values; but what matters for accuracy is the dirstribution of the loss values, not their average, because accuracy is the result of a binary thresholding of the class probability predicted by the model. The model may still be improving even if this isn't reflected in the average loss.\n",
    "\n",
    "We can now finally evaluate the model on the test data:"
   ]
  },
  {
   "cell_type": "code",
   "execution_count": null,
   "metadata": {
    "collapsed": true
   },
   "outputs": [],
   "source": [
    "test_generator = test_datagen.flow_from_directory(\n",
    "        test_dir,\n",
    "        target_size=(150, 150),\n",
    "        batch_size=20,\n",
    "        class_mode='binary')\n",
    "\n",
    "test_loss, test_acc = model.evaluate_generator(test_generator, steps=50)\n",
    "print('test acc:', test_acc)"
   ]
  },
  {
   "cell_type": "markdown",
   "metadata": {},
   "source": [
    "The model was able to produce a **test accuracy of 97%!** In the original Kaggle competition around this dataset, this would have been one of the top results. By using modern deep-learning techniques, we managed to reach this result only using a small fraction of the training data available (~10%). Imagine if we were to train on all 20,000 samples!\n",
    "\n",
    "### 5.3.3 Wrapping up\n",
    "Here are some key takeaways from the past two sections:\n",
    "\n",
    " - Convnets are the best type of machine-learning models for computer-vision tasks. It’s possible to train one from scratch even on a very small dataset, with decent results.\n",
    " - On a small dataset, overfitting will be the main issue. Data augmentation is a powerful way to fight overfitting when you’re working with image data.\n",
    " - It’s easy to reuse an existing convnet on a new dataset via feature extraction. This is a valuable technique for working with small image datasets.\n",
    " - As a complement to feature extraction, you can use fine-tuning, which adapts to a new problem some of the representations previously learned by an existing model. This pushes performance a bit further.\n",
    "Now you have a solid set of tools for dealing with image-classification problems—in particular with small datasets."
   ]
  }
 ],
 "metadata": {
  "kernelspec": {
   "display_name": "Python 2",
   "language": "python",
   "name": "python2"
  },
  "language_info": {
   "codemirror_mode": {
    "name": "ipython",
    "version": 2
   },
   "file_extension": ".py",
   "mimetype": "text/x-python",
   "name": "python",
   "nbconvert_exporter": "python",
   "pygments_lexer": "ipython2",
   "version": "2.7.13"
  }
 },
 "nbformat": 4,
 "nbformat_minor": 2
}
