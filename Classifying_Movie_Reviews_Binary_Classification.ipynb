{
 "cells": [
  {
   "cell_type": "markdown",
   "metadata": {},
   "source": [
    "# Classifying movie reviews: a binary classification example\n",
    "In this example we will create a binary classifier to classify movie reviews as either positive or negative based on text of the reviews.\n",
    "\n",
    "### 3.4.1 The IMDB dataset\n",
    "We will work with the IMDB dataset which consists of 50,000 highly polarized reviews from IMDB. The data is split into 25,000 reviews for training and 25,000 for testing, each consisting of 50% negative and 50% positive reviews. The IMDB dataset comes packaged with Keras and has already been processed: the reviews (sequence of words) have been turned into sequences of integers where each integer stands for a specific word in a dictionary.\n",
    "\n",
    "Let's load the dataset:"
   ]
  },
  {
   "cell_type": "code",
   "execution_count": 1,
   "metadata": {},
   "outputs": [
    {
     "name": "stderr",
     "output_type": "stream",
     "text": [
      "Using TensorFlow backend.\n"
     ]
    }
   ],
   "source": [
    "from keras.datasets import imdb"
   ]
  },
  {
   "cell_type": "code",
   "execution_count": 2,
   "metadata": {},
   "outputs": [
    {
     "name": "stdout",
     "output_type": "stream",
     "text": [
      "Downloading data from https://s3.amazonaws.com/text-datasets/imdb.npz\n",
      "17448960/17464789 [============================>.] - ETA: 0s"
     ]
    }
   ],
   "source": [
    "(train_data, train_labels), (test_data, test_labels) = imdb.load_data(num_words=10000)"
   ]
  },
  {
   "cell_type": "markdown",
   "metadata": {},
   "source": [
    "The argument `num_words` means we will only keep the 10,000 most frequently occurring words in the training data. This allows us to work with vector data of manageable size. \n",
    "\n",
    "The variables `train_data` and `test_data` are lists of reviews; each is a list of word indices (encoding a sequence of words). `train_labels` and `test_labels` are lists of 0s and 1s, where 0 is **negative** and 1 is **positive**."
   ]
  },
  {
   "cell_type": "code",
   "execution_count": 3,
   "metadata": {},
   "outputs": [
    {
     "data": {
      "text/plain": [
       "[1,\n",
       " 14,\n",
       " 22,\n",
       " 16,\n",
       " 43,\n",
       " 530,\n",
       " 973,\n",
       " 1622,\n",
       " 1385,\n",
       " 65,\n",
       " 458,\n",
       " 4468,\n",
       " 66,\n",
       " 3941,\n",
       " 4,\n",
       " 173,\n",
       " 36,\n",
       " 256,\n",
       " 5,\n",
       " 25,\n",
       " 100,\n",
       " 43,\n",
       " 838,\n",
       " 112,\n",
       " 50,\n",
       " 670,\n",
       " 2,\n",
       " 9,\n",
       " 35,\n",
       " 480,\n",
       " 284,\n",
       " 5,\n",
       " 150,\n",
       " 4,\n",
       " 172,\n",
       " 112,\n",
       " 167,\n",
       " 2,\n",
       " 336,\n",
       " 385,\n",
       " 39,\n",
       " 4,\n",
       " 172,\n",
       " 4536,\n",
       " 1111,\n",
       " 17,\n",
       " 546,\n",
       " 38,\n",
       " 13,\n",
       " 447,\n",
       " 4,\n",
       " 192,\n",
       " 50,\n",
       " 16,\n",
       " 6,\n",
       " 147,\n",
       " 2025,\n",
       " 19,\n",
       " 14,\n",
       " 22,\n",
       " 4,\n",
       " 1920,\n",
       " 4613,\n",
       " 469,\n",
       " 4,\n",
       " 22,\n",
       " 71,\n",
       " 87,\n",
       " 12,\n",
       " 16,\n",
       " 43,\n",
       " 530,\n",
       " 38,\n",
       " 76,\n",
       " 15,\n",
       " 13,\n",
       " 1247,\n",
       " 4,\n",
       " 22,\n",
       " 17,\n",
       " 515,\n",
       " 17,\n",
       " 12,\n",
       " 16,\n",
       " 626,\n",
       " 18,\n",
       " 2,\n",
       " 5,\n",
       " 62,\n",
       " 386,\n",
       " 12,\n",
       " 8,\n",
       " 316,\n",
       " 8,\n",
       " 106,\n",
       " 5,\n",
       " 4,\n",
       " 2223,\n",
       " 5244,\n",
       " 16,\n",
       " 480,\n",
       " 66,\n",
       " 3785,\n",
       " 33,\n",
       " 4,\n",
       " 130,\n",
       " 12,\n",
       " 16,\n",
       " 38,\n",
       " 619,\n",
       " 5,\n",
       " 25,\n",
       " 124,\n",
       " 51,\n",
       " 36,\n",
       " 135,\n",
       " 48,\n",
       " 25,\n",
       " 1415,\n",
       " 33,\n",
       " 6,\n",
       " 22,\n",
       " 12,\n",
       " 215,\n",
       " 28,\n",
       " 77,\n",
       " 52,\n",
       " 5,\n",
       " 14,\n",
       " 407,\n",
       " 16,\n",
       " 82,\n",
       " 2,\n",
       " 8,\n",
       " 4,\n",
       " 107,\n",
       " 117,\n",
       " 5952,\n",
       " 15,\n",
       " 256,\n",
       " 4,\n",
       " 2,\n",
       " 7,\n",
       " 3766,\n",
       " 5,\n",
       " 723,\n",
       " 36,\n",
       " 71,\n",
       " 43,\n",
       " 530,\n",
       " 476,\n",
       " 26,\n",
       " 400,\n",
       " 317,\n",
       " 46,\n",
       " 7,\n",
       " 4,\n",
       " 2,\n",
       " 1029,\n",
       " 13,\n",
       " 104,\n",
       " 88,\n",
       " 4,\n",
       " 381,\n",
       " 15,\n",
       " 297,\n",
       " 98,\n",
       " 32,\n",
       " 2071,\n",
       " 56,\n",
       " 26,\n",
       " 141,\n",
       " 6,\n",
       " 194,\n",
       " 7486,\n",
       " 18,\n",
       " 4,\n",
       " 226,\n",
       " 22,\n",
       " 21,\n",
       " 134,\n",
       " 476,\n",
       " 26,\n",
       " 480,\n",
       " 5,\n",
       " 144,\n",
       " 30,\n",
       " 5535,\n",
       " 18,\n",
       " 51,\n",
       " 36,\n",
       " 28,\n",
       " 224,\n",
       " 92,\n",
       " 25,\n",
       " 104,\n",
       " 4,\n",
       " 226,\n",
       " 65,\n",
       " 16,\n",
       " 38,\n",
       " 1334,\n",
       " 88,\n",
       " 12,\n",
       " 16,\n",
       " 283,\n",
       " 5,\n",
       " 16,\n",
       " 4472,\n",
       " 113,\n",
       " 103,\n",
       " 32,\n",
       " 15,\n",
       " 16,\n",
       " 5345,\n",
       " 19,\n",
       " 178,\n",
       " 32]"
      ]
     },
     "execution_count": 3,
     "metadata": {},
     "output_type": "execute_result"
    }
   ],
   "source": [
    "train_data[0]"
   ]
  },
  {
   "cell_type": "code",
   "execution_count": 4,
   "metadata": {},
   "outputs": [
    {
     "data": {
      "text/plain": [
       "218"
      ]
     },
     "execution_count": 4,
     "metadata": {},
     "output_type": "execute_result"
    }
   ],
   "source": [
    "len(train_data[0])"
   ]
  },
  {
   "cell_type": "code",
   "execution_count": 5,
   "metadata": {},
   "outputs": [
    {
     "data": {
      "text/plain": [
       "1"
      ]
     },
     "execution_count": 5,
     "metadata": {},
     "output_type": "execute_result"
    }
   ],
   "source": [
    "train_labels[0]"
   ]
  },
  {
   "cell_type": "code",
   "execution_count": 6,
   "metadata": {},
   "outputs": [
    {
     "data": {
      "text/plain": [
       "9999"
      ]
     },
     "execution_count": 6,
     "metadata": {},
     "output_type": "execute_result"
    }
   ],
   "source": [
    "# no word index should exceed 10,000\n",
    "max([max(sequence) for sequence in train_data])"
   ]
  },
  {
   "cell_type": "code",
   "execution_count": 7,
   "metadata": {},
   "outputs": [
    {
     "name": "stdout",
     "output_type": "stream",
     "text": [
      "Downloading data from https://s3.amazonaws.com/text-datasets/imdb_word_index.json\n",
      "1646592/1641221 [==============================] - 2s     \n"
     ]
    }
   ],
   "source": [
    "# decode review back to English\n",
    "word_index = imdb.get_word_index() #dictionary mapping words to integer index\n",
    "\n",
    "# this reverses the dictionary so we return words instead of numbers\n",
    "reverse_word_index = dict([(value, key) for (key, value) in word_index.items()])\n",
    "\n",
    "# This decodes the review. Note indices are offset by 3 because 0, 1, & 2 are...\n",
    "# reserved indices for \"padding,\" \"start of sequence,\" and \"unknown\"\n",
    "decoded_review = ' '.join([reverse_word_index.get(i - 3, '?') for i in train_data[0]])"
   ]
  },
  {
   "cell_type": "markdown",
   "metadata": {},
   "source": [
    "### 3.4.2 Preparing the data\n",
    "You can't feed lists of integers into a neural network. You must turn your lists into tensors. There are two ways to do that:\n",
    " - Pad lists so they all have the same length, turn them into an integer tensor of shape (`samples, word_indices`), and then use the first layer in the network as a layer capable of handling such integer tensors (the `Embedding` layer).\n",
    " - **OR** One-hot encode the lists to turn them into vectors of 0s and 1s. This would mean turning the sequence [`3, 5`] into a 10,000-dimensional vector that would be all 0s except for indices 3 and 5, which would be 1s. Then you could use the first layer as a `Dense Layer`, capable of handling floating-point vector data.\n",
    " \n",
    "We will go with the 2nd option of vectorizing the data:"
   ]
  },
  {
   "cell_type": "code",
   "execution_count": 8,
   "metadata": {
    "collapsed": true
   },
   "outputs": [],
   "source": [
    "import numpy as np\n",
    "\n",
    "def vectorize_sequences(sequences, dimension=10000):\n",
    "    results = np.zeros((len(sequences), dimension)) # creates an all-zero matrix\n",
    "    for i, sequence in enumerate(sequences):\n",
    "        results[i, sequence] = 1. # Sets specific indices of results[i] to 1s\n",
    "    return results\n",
    "\n",
    "# vectorize training data\n",
    "x_train = vectorize_sequences(train_data)\n",
    "\n",
    "# vectorize testing data\n",
    "x_test = vectorize_sequences(test_data)"
   ]
  },
  {
   "cell_type": "code",
   "execution_count": 9,
   "metadata": {},
   "outputs": [
    {
     "data": {
      "text/plain": [
       "array([ 0.,  1.,  1., ...,  0.,  0.,  0.])"
      ]
     },
     "execution_count": 9,
     "metadata": {},
     "output_type": "execute_result"
    }
   ],
   "source": [
    "# What do samples look like now?\n",
    "x_train[0]"
   ]
  },
  {
   "cell_type": "code",
   "execution_count": 10,
   "metadata": {},
   "outputs": [
    {
     "data": {
      "text/plain": [
       "10000"
      ]
     },
     "execution_count": 10,
     "metadata": {},
     "output_type": "execute_result"
    }
   ],
   "source": [
    "len(x_train[0])"
   ]
  },
  {
   "cell_type": "code",
   "execution_count": 12,
   "metadata": {},
   "outputs": [],
   "source": [
    "# also vectorize the labels\n",
    "y_train = np.asarray(train_labels).astype('float32')\n",
    "y_test = np.asarray(test_labels).astype('float32')"
   ]
  },
  {
   "cell_type": "markdown",
   "metadata": {},
   "source": [
    "Now the data is ready to be fed into a neural network!\n",
    "\n",
    "### 3.4.3 Building the network\n",
    "The input data is vectors and the labels are scalars (1s and 0s). A type of network that performs well on this type of problem is a simple stack of fully connected (Dense) layers with `relu` activations.\n",
    "\n",
    "The argument being passed to each `Dense` layer (16) is the number of hidden units of the layer. A *hidden unit* is a dimension in the representation space of the layer. Having 16 hidden units means the weight matrix `W` will have shape (`input_dimension, 16`): the dot product with `W` will project the input data onto a 16-dimensional representation space. The dimensionality of representation space is basically \"how much freedom you're allowing the network to have when learning internal representations.\" More hidden units allows the network to learn more-complex representations, but the network becomes more computationally expensive and may lead to overfitting.\n",
    "\n",
    "For this model, we will use:\n",
    " - Two intermediate layers with 16 hidden units each\n",
    " - A third layer will output the scalar prediction regarding the sentiment of the current review\n",
    " \n",
    "The intermediate layers will use `relu` activation function, and the final layer will use a sigmoid activation so the output is a probability indicating how likely a sample is to have the target \"1\".\n",
    "\n",
    "##### Rectified linear unit function\n",
    "![relu](images/3_4_3_relu.jpg)\n",
    "\n",
    "##### Sigmoid function\n",
    "![sigmoid](images/3_4_3_sigmoid.jpg)\n",
    "\n",
    "##### Our three-layer network\n",
    "![network](images/3_4_3_network.jpg)\n",
    "\n",
    "\n",
    "Here is the Keras implementation:"
   ]
  },
  {
   "cell_type": "code",
   "execution_count": 13,
   "metadata": {
    "collapsed": true
   },
   "outputs": [],
   "source": [
    "from keras import models\n",
    "from keras import layers\n",
    "\n",
    "model = models.Sequential()\n",
    "model.add(layers.Dense(16, activation='relu', input_shape=(10000,)))\n",
    "model.add(layers.Dense(16, activation='relu'))\n",
    "model.add(layers.Dense(1, activation='sigmoid'))"
   ]
  },
  {
   "cell_type": "markdown",
   "metadata": {},
   "source": [
    "Finally, we need to choose a loss function and an optimizer. Because we are facing a binary classification problem and the output of the network is a probability, it's best to use `binary_crossentropy` loss. Here, we will configure the model with the `rmsprop` optimizer and the `binary_crossentropy` loss function:"
   ]
  },
  {
   "cell_type": "code",
   "execution_count": 14,
   "metadata": {
    "collapsed": true
   },
   "outputs": [],
   "source": [
    "model.compile(optimizer='rmsprop', loss='binary_crossentropy', metrics=['accuracy'])"
   ]
  },
  {
   "cell_type": "markdown",
   "metadata": {},
   "source": [
    "Sometimes you may want to configure the parameters of your optimizer which can be done by passing an optimizer class instance at the `optimizer` argument:"
   ]
  },
  {
   "cell_type": "code",
   "execution_count": 17,
   "metadata": {},
   "outputs": [],
   "source": [
    "from keras import optimizers\n",
    "\n",
    "model.compile(optimizer=optimizers.RMSprop(lr=0.001), \n",
    "              loss='binary_crossentropy', metrics=['accuracy'])"
   ]
  },
  {
   "cell_type": "markdown",
   "metadata": {},
   "source": [
    "Sometimes you may want to pass a custom loss function or metric function, which can be done by passing function objects as the `loss` and/or `metrics` arguments:"
   ]
  },
  {
   "cell_type": "code",
   "execution_count": 18,
   "metadata": {
    "collapsed": true
   },
   "outputs": [],
   "source": [
    "from keras import losses\n",
    "from keras import metrics\n",
    "\n",
    "model.compile(optimizer=optimizers.RMSprop(lr=0.001),\n",
    "              loss=losses.binary_crossentropy, \n",
    "              metrics=[metrics.binary_accuracy])"
   ]
  },
  {
   "cell_type": "markdown",
   "metadata": {},
   "source": [
    "### 3.4.4 Validating approach\n",
    "To monitor the accuracy of the model during training on data it has never seen before, we will create a validation set by setting apart 10,000 samples from the original training data:"
   ]
  },
  {
   "cell_type": "code",
   "execution_count": 19,
   "metadata": {
    "collapsed": true
   },
   "outputs": [],
   "source": [
    "x_val = x_train[:10000]\n",
    "partial_x_train = x_train[10000:]\n",
    "y_val = y_train[:10000]\n",
    "partial_y_train = y_train[10000:]"
   ]
  },
  {
   "cell_type": "markdown",
   "metadata": {},
   "source": [
    "We will now train the model for 20 epochs in mini-batches of 512 samples. We will also monitor the loss and accuracy on the 10,000 samples that we set apart. We do this by passing the validation data as the `validation_data` argument."
   ]
  },
  {
   "cell_type": "code",
   "execution_count": 20,
   "metadata": {},
   "outputs": [
    {
     "name": "stdout",
     "output_type": "stream",
     "text": [
      "Train on 15000 samples, validate on 10000 samples\n",
      "Epoch 1/20\n",
      "15000/15000 [==============================] - 6s - loss: 0.5157 - acc: 0.7895 - val_loss: 0.4008 - val_acc: 0.8656\n",
      "Epoch 2/20\n",
      "15000/15000 [==============================] - 6s - loss: 0.3146 - acc: 0.9030 - val_loss: 0.3247 - val_acc: 0.8789\n",
      "Epoch 3/20\n",
      "15000/15000 [==============================] - 3s - loss: 0.2319 - acc: 0.9246 - val_loss: 0.2808 - val_acc: 0.8924\n",
      "Epoch 4/20\n",
      "15000/15000 [==============================] - 2s - loss: 0.1816 - acc: 0.9431 - val_loss: 0.2729 - val_acc: 0.8907\n",
      "Epoch 5/20\n",
      "15000/15000 [==============================] - 2s - loss: 0.1496 - acc: 0.9514 - val_loss: 0.2780 - val_acc: 0.8888\n",
      "Epoch 6/20\n",
      "15000/15000 [==============================] - 2s - loss: 0.1210 - acc: 0.9632 - val_loss: 0.3226 - val_acc: 0.8804\n",
      "Epoch 7/20\n",
      "15000/15000 [==============================] - 2s - loss: 0.1031 - acc: 0.9689 - val_loss: 0.3045 - val_acc: 0.8847\n",
      "Epoch 8/20\n",
      "15000/15000 [==============================] - 2s - loss: 0.0848 - acc: 0.9761 - val_loss: 0.3361 - val_acc: 0.8771\n",
      "Epoch 9/20\n",
      "15000/15000 [==============================] - 2s - loss: 0.0729 - acc: 0.9805 - val_loss: 0.3592 - val_acc: 0.8801\n",
      "Epoch 10/20\n",
      "15000/15000 [==============================] - 2s - loss: 0.0583 - acc: 0.9862 - val_loss: 0.3718 - val_acc: 0.8800\n",
      "Epoch 11/20\n",
      "15000/15000 [==============================] - 2s - loss: 0.0492 - acc: 0.9884 - val_loss: 0.3978 - val_acc: 0.8774\n",
      "Epoch 12/20\n",
      "15000/15000 [==============================] - 2s - loss: 0.0389 - acc: 0.9919 - val_loss: 0.4410 - val_acc: 0.8773\n",
      "Epoch 13/20\n",
      "15000/15000 [==============================] - 2s - loss: 0.0303 - acc: 0.9944 - val_loss: 0.4530 - val_acc: 0.8745\n",
      "Epoch 14/20\n",
      "15000/15000 [==============================] - 2s - loss: 0.0245 - acc: 0.9958 - val_loss: 0.4805 - val_acc: 0.8735\n",
      "Epoch 15/20\n",
      "15000/15000 [==============================] - 2s - loss: 0.0203 - acc: 0.9968 - val_loss: 0.5572 - val_acc: 0.8697\n",
      "Epoch 16/20\n",
      "15000/15000 [==============================] - 2s - loss: 0.0124 - acc: 0.9995 - val_loss: 0.5493 - val_acc: 0.8727\n",
      "Epoch 17/20\n",
      "15000/15000 [==============================] - 2s - loss: 0.0128 - acc: 0.9982 - val_loss: 0.5776 - val_acc: 0.8709\n",
      "Epoch 18/20\n",
      "15000/15000 [==============================] - 2s - loss: 0.0088 - acc: 0.9989 - val_loss: 0.6068 - val_acc: 0.8671\n",
      "Epoch 19/20\n",
      "15000/15000 [==============================] - 2s - loss: 0.0071 - acc: 0.9993 - val_loss: 0.6423 - val_acc: 0.8660\n",
      "Epoch 20/20\n",
      "15000/15000 [==============================] - 2s - loss: 0.0065 - acc: 0.9990 - val_loss: 0.6758 - val_acc: 0.8676\n"
     ]
    }
   ],
   "source": [
    "model.compile(optimizer='rmsprop', loss='binary_crossentropy', metrics=['acc'])\n",
    "\n",
    "history = model.fit(partial_x_train, partial_y_train, epochs=20, batch_size=512,\n",
    "                    validation_data=(x_val, y_val))"
   ]
  },
  {
   "cell_type": "code",
   "execution_count": 21,
   "metadata": {},
   "outputs": [
    {
     "data": {
      "text/plain": [
       "['acc', 'loss', 'val_acc', 'val_loss']"
      ]
     },
     "execution_count": 21,
     "metadata": {},
     "output_type": "execute_result"
    }
   ],
   "source": [
    "history_dict = history.history\n",
    "history_dict.keys()"
   ]
  },
  {
   "cell_type": "markdown",
   "metadata": {},
   "source": [
    "The call to `model.fit()` returns a `History` object that stores a dictionary containing data about everything that happened during training. The dictionary contains four entries: one per metric being measured during training and validation. Now let's plot the training and validation loss side by side, and then the training and validation side by side."
   ]
  },
  {
   "cell_type": "code",
   "execution_count": 32,
   "metadata": {},
   "outputs": [
    {
     "data": {
      "image/png": "[encoded data removed]",
      "text/plain": [
       "<matplotlib.figure.Figure at 0x1a2207b4d0>"
      ]
     },
     "metadata": {},
     "output_type": "display_data"
    }
   ],
   "source": [
    "import matplotlib.pyplot as plt\n",
    "\n",
    "history_dict = history.history\n",
    "loss_values = history_dict['loss']\n",
    "val_loss_values = history_dict['val_loss']\n",
    "\n",
    "epochs = range(1, len(history_dict['acc']) + 1)\n",
    "\n",
    "plt.plot(epochs, loss_values, 'bo', label='Training Loss')\n",
    "plt.plot(epochs, val_loss_values, 'b', label='Validation Loss')\n",
    "plt.title('Training and Validation Loss')\n",
    "plt.xlabel('Epochs')\n",
    "plt.ylabel('Loss')\n",
    "plt.legend()\n",
    "\n",
    "plt.show()"
   ]
  },
  {
   "cell_type": "code",
   "execution_count": 34,
   "metadata": {},
   "outputs": [
    {
     "data": {
      "image/png": "[encoded data removed]",
      "text/plain": [
       "<matplotlib.figure.Figure at 0x1a221e8390>"
      ]
     },
     "metadata": {},
     "output_type": "display_data"
    }
   ],
   "source": [
    "plt.clf()\n",
    "acc_values = history_dict['acc']\n",
    "val_acc_values = history_dict['val_acc']\n",
    "\n",
    "plt.plot(epochs, acc_values, 'bo', label='Training Accuracy')\n",
    "plt.plot(epochs, val_acc_values, 'b', label='Validation Accuracy')\n",
    "plt.title('Training and Validation Accuracy')\n",
    "plt.xlabel('Epochs')\n",
    "plt.ylabel('Accuracy')\n",
    "plt.legend()\n",
    "\n",
    "plt.show()"
   ]
  },
  {
   "cell_type": "markdown",
   "metadata": {},
   "source": [
    "So let's unpack the plots above. The training loss decreases with every epoch, while the training accuracy increases with every epoch, which is what we would expect to happen with gradient descent. The validation loss and accuracy do not show the same trends, however. The validation loss seems to hit its lowest point around 4 epochs, and the validation accuracy peaks at around the same 4th epoch. What we are seeing here is a case of *overfitting*. We ended up learning representations that are specific to the training data, but don't generalize well to data outside of the training set.\n",
    "\n",
    "Let's train a new network from scratch using four epochs and then evaluate it on test data."
   ]
  },
  {
   "cell_type": "code",
   "execution_count": 35,
   "metadata": {},
   "outputs": [
    {
     "name": "stdout",
     "output_type": "stream",
     "text": [
      "Epoch 1/4\n",
      "25000/25000 [==============================] - 6s - loss: 0.4704 - acc: 0.8107     \n",
      "Epoch 2/4\n",
      "25000/25000 [==============================] - 3s - loss: 0.2649 - acc: 0.9076     \n",
      "Epoch 3/4\n",
      "25000/25000 [==============================] - 3s - loss: 0.2023 - acc: 0.9275     \n",
      "Epoch 4/4\n",
      "25000/25000 [==============================] - 3s - loss: 0.1687 - acc: 0.9403     - ETA: 1s -\n",
      "24864/25000 [============================>.] - ETA: 0s"
     ]
    }
   ],
   "source": [
    "model = models.Sequential()\n",
    "model.add(layers.Dense(16, activation='relu', input_shape=(10000,)))\n",
    "model.add(layers.Dense(16, activation='relu'))\n",
    "model.add(layers.Dense(1, activation='sigmoid'))\n",
    "\n",
    "model.compile(optimizer='rmsprop', loss='binary_crossentropy', metrics=['accuracy'])\n",
    "\n",
    "model.fit(x_train, y_train, epochs=4, batch_size=512)\n",
    "results = model.evaluate(x_test, y_test)"
   ]
  },
  {
   "cell_type": "code",
   "execution_count": 36,
   "metadata": {},
   "outputs": [
    {
     "data": {
      "text/plain": [
       "[0.29129809645652771, 0.88548000000000004]"
      ]
     },
     "execution_count": 36,
     "metadata": {},
     "output_type": "execute_result"
    }
   ],
   "source": [
    "results"
   ]
  },
  {
   "cell_type": "markdown",
   "metadata": {},
   "source": [
    "With this fairly naive approach, we achieved an accuracy of 88%. With state-of-the-art approaches, we should be able to get close to 95%.\n",
    "\n",
    "### 3.4.5 Using a trained network to generate predictions on new data\n",
    "After training a network, we'll want to use it in a practical setting, so we will generate the likelihood of reviews being positive by using the `predict` method:"
   ]
  },
  {
   "cell_type": "code",
   "execution_count": 37,
   "metadata": {},
   "outputs": [
    {
     "data": {
      "text/plain": [
       "array([[ 0.92421025],\n",
       "       [ 0.83551949],\n",
       "       [ 0.99949062],\n",
       "       ..., \n",
       "       [ 0.44672826],\n",
       "       [ 0.0036482 ],\n",
       "       [ 0.81084663]], dtype=float32)"
      ]
     },
     "execution_count": 37,
     "metadata": {},
     "output_type": "execute_result"
    }
   ],
   "source": [
    "model.predict(x_test)"
   ]
  },
  {
   "cell_type": "markdown",
   "metadata": {},
   "source": [
    "The numbers above indicate percentages indicating a confidence level for positive (closer to 1) and negative reviews (closer to 0). We also see that the network is not extremely confident in its classification on samples where the predictions are around 0.4 or 0.6.\n",
    "\n",
    "### 3.4.6 Further experiments\n",
    "\n",
    "### Using three hidden layers instead of two"
   ]
  },
  {
   "cell_type": "code",
   "execution_count": 38,
   "metadata": {},
   "outputs": [
    {
     "name": "stdout",
     "output_type": "stream",
     "text": [
      "Epoch 1/4\n",
      "25000/25000 [==============================] - 6s - loss: 0.4772 - acc: 0.7932     \n",
      "Epoch 2/4\n",
      "25000/25000 [==============================] - 3s - loss: 0.2578 - acc: 0.9100     \n",
      "Epoch 3/4\n",
      "25000/25000 [==============================] - 3s - loss: 0.1960 - acc: 0.9288     \n",
      "Epoch 4/4\n",
      "25000/25000 [==============================] - 2s - loss: 0.1710 - acc: 0.9365     \n",
      "25000/25000 [==============================] - 5s     \n"
     ]
    },
    {
     "data": {
      "text/plain": [
       "[0.30483594050407409, 0.88131999999999999]"
      ]
     },
     "execution_count": 38,
     "metadata": {},
     "output_type": "execute_result"
    }
   ],
   "source": [
    "model = models.Sequential()\n",
    "model.add(layers.Dense(16, activation='relu', input_shape=(10000,)))\n",
    "model.add(layers.Dense(16, activation='relu'))\n",
    "model.add(layers.Dense(16, activation='relu'))\n",
    "model.add(layers.Dense(1, activation='sigmoid'))\n",
    "\n",
    "model.compile(optimizer='rmsprop', loss='binary_crossentropy', metrics=['accuracy'])\n",
    "\n",
    "model.fit(x_train, y_train, epochs=4, batch_size=512)\n",
    "results = model.evaluate(x_test, y_test)\n",
    "results"
   ]
  },
  {
   "cell_type": "markdown",
   "metadata": {},
   "source": [
    "**Accuracy went down from 88.5% to 88.1%**\n",
    "\n",
    "### Changing the number of hidden units from 16 to 32"
   ]
  },
  {
   "cell_type": "code",
   "execution_count": 39,
   "metadata": {},
   "outputs": [
    {
     "name": "stdout",
     "output_type": "stream",
     "text": [
      "Epoch 1/4\n",
      "25000/25000 [==============================] - 6s - loss: 0.4297 - acc: 0.8250     \n",
      "Epoch 2/4\n",
      "25000/25000 [==============================] - 3s - loss: 0.2443 - acc: 0.9103     \n",
      "Epoch 3/4\n",
      "25000/25000 [==============================] - 3s - loss: 0.1897 - acc: 0.9298     \n",
      "Epoch 4/4\n",
      "25000/25000 [==============================] - 3s - loss: 0.1573 - acc: 0.9421     \n",
      "24928/25000 [============================>.] - ETA: 0s"
     ]
    },
    {
     "data": {
      "text/plain": [
       "[0.3116677111721039, 0.87927999999999995]"
      ]
     },
     "execution_count": 39,
     "metadata": {},
     "output_type": "execute_result"
    }
   ],
   "source": [
    "model = models.Sequential()\n",
    "model.add(layers.Dense(32, activation='relu', input_shape=(10000,)))\n",
    "model.add(layers.Dense(32, activation='relu'))\n",
    "model.add(layers.Dense(1, activation='sigmoid'))\n",
    "\n",
    "model.compile(optimizer='rmsprop', loss='binary_crossentropy', metrics=['accuracy'])\n",
    "\n",
    "model.fit(x_train, y_train, epochs=4, batch_size=512)\n",
    "results = model.evaluate(x_test, y_test)\n",
    "results"
   ]
  },
  {
   "cell_type": "markdown",
   "metadata": {},
   "source": [
    "**Accuracy went down from 88.5% to 87.9%**\n",
    "\n",
    "### Changing the number of hidden units from 16 to 64\n"
   ]
  },
  {
   "cell_type": "code",
   "execution_count": 40,
   "metadata": {},
   "outputs": [
    {
     "name": "stdout",
     "output_type": "stream",
     "text": [
      "Epoch 1/4\n",
      "25000/25000 [==============================] - 8s - loss: 0.4196 - acc: 0.8129     - ETA: 5s\n",
      "Epoch 2/4\n",
      "25000/25000 [==============================] - 5s - loss: 0.2372 - acc: 0.9091     - ETA: 3s\n",
      "Epoch 3/4\n",
      "25000/25000 [==============================] - 4s - loss: 0.1829 - acc: 0.9300     \n",
      "Epoch 4/4\n",
      "25000/25000 [==============================] - 4s - loss: 0.1416 - acc: 0.9478     \n",
      "24960/25000 [============================>.] - ETA: 0s"
     ]
    },
    {
     "data": {
      "text/plain": [
       "[0.3292320645189285, 0.87716000000000005]"
      ]
     },
     "execution_count": 40,
     "metadata": {},
     "output_type": "execute_result"
    }
   ],
   "source": [
    "model = models.Sequential()\n",
    "model.add(layers.Dense(64, activation='relu', input_shape=(10000,)))\n",
    "model.add(layers.Dense(64, activation='relu'))\n",
    "model.add(layers.Dense(1, activation='sigmoid'))\n",
    "\n",
    "model.compile(optimizer='rmsprop', loss='binary_crossentropy', metrics=['accuracy'])\n",
    "\n",
    "model.fit(x_train, y_train, epochs=4, batch_size=512)\n",
    "results = model.evaluate(x_test, y_test)\n",
    "results"
   ]
  },
  {
   "cell_type": "markdown",
   "metadata": {},
   "source": [
    "**Accuracy went down from 88.5% to 87.1%**\n",
    "\n",
    "### Using the `mse` loss function instead of `binary_crossentropy`"
   ]
  },
  {
   "cell_type": "code",
   "execution_count": 41,
   "metadata": {},
   "outputs": [
    {
     "name": "stdout",
     "output_type": "stream",
     "text": [
      "Epoch 1/4\n",
      "25000/25000 [==============================] - 5s - loss: 0.1482 - acc: 0.8204     \n",
      "Epoch 2/4\n",
      "25000/25000 [==============================] - 3s - loss: 0.0764 - acc: 0.9121     \n",
      "Epoch 3/4\n",
      "25000/25000 [==============================] - 3s - loss: 0.0580 - acc: 0.9312     \n",
      "Epoch 4/4\n",
      "25000/25000 [==============================] - 3s - loss: 0.0482 - acc: 0.9438     \n",
      "24864/25000 [============================>.] - ETA: 0s"
     ]
    },
    {
     "data": {
      "text/plain": [
       "[0.086584766408205033, 0.88180000000000003]"
      ]
     },
     "execution_count": 41,
     "metadata": {},
     "output_type": "execute_result"
    }
   ],
   "source": [
    "model = models.Sequential()\n",
    "model.add(layers.Dense(16, activation='relu', input_shape=(10000,)))\n",
    "model.add(layers.Dense(16, activation='relu'))\n",
    "model.add(layers.Dense(1, activation='sigmoid'))\n",
    "\n",
    "model.compile(optimizer='rmsprop', loss='mse', metrics=['accuracy'])\n",
    "\n",
    "model.fit(x_train, y_train, epochs=4, batch_size=512)\n",
    "results = model.evaluate(x_test, y_test)\n",
    "results"
   ]
  },
  {
   "cell_type": "markdown",
   "metadata": {},
   "source": [
    "**Accuracy went down from 88.5% to 88.2%**\n",
    "\n",
    "### Using the `tanh` activation instead of `relu`"
   ]
  },
  {
   "cell_type": "code",
   "execution_count": 42,
   "metadata": {},
   "outputs": [
    {
     "name": "stdout",
     "output_type": "stream",
     "text": [
      "Epoch 1/4\n",
      "25000/25000 [==============================] - 5s - loss: 0.4294 - acc: 0.8306     \n",
      "Epoch 2/4\n",
      "25000/25000 [==============================] - 3s - loss: 0.2376 - acc: 0.9129     \n",
      "Epoch 3/4\n",
      "25000/25000 [==============================] - 3s - loss: 0.1793 - acc: 0.9346     \n",
      "Epoch 4/4\n",
      "25000/25000 [==============================] - 3s - loss: 0.1479 - acc: 0.9457     \n",
      "24992/25000 [============================>.] - ETA: 0s"
     ]
    },
    {
     "data": {
      "text/plain": [
       "[0.3313264957141876, 0.87536000000000003]"
      ]
     },
     "execution_count": 42,
     "metadata": {},
     "output_type": "execute_result"
    }
   ],
   "source": [
    "model = models.Sequential()\n",
    "model.add(layers.Dense(16, activation='tanh', input_shape=(10000,)))\n",
    "model.add(layers.Dense(16, activation='tanh'))\n",
    "model.add(layers.Dense(1, activation='sigmoid'))\n",
    "\n",
    "model.compile(optimizer='rmsprop', loss='binary_crossentropy', metrics=['accuracy'])\n",
    "\n",
    "model.fit(x_train, y_train, epochs=4, batch_size=512)\n",
    "results = model.evaluate(x_test, y_test)\n",
    "results"
   ]
  },
  {
   "cell_type": "markdown",
   "metadata": {},
   "source": [
    "**Accuracy went down from 88.5% to 87.5%**"
   ]
  }
 ],
 "metadata": {
  "kernelspec": {
   "display_name": "Python 2",
   "language": "python",
   "name": "python2"
  },
  "language_info": {
   "codemirror_mode": {
    "name": "ipython",
    "version": 2
   },
   "file_extension": ".py",
   "mimetype": "text/x-python",
   "name": "python",
   "nbconvert_exporter": "python",
   "pygments_lexer": "ipython2",
   "version": "2.7.13"
  }
 },
 "nbformat": 4,
 "nbformat_minor": 2
}
